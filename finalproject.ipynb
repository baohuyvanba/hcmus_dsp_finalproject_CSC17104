{
  "cells": [
    {
      "cell_type": "markdown",
      "id": "56026243-04ff-491e-aa56-c64ed3ba4fad",
      "metadata": {
        "id": "56026243-04ff-491e-aa56-c64ed3ba4fad"
      },
      "source": [
        "# Final Project\n",
        "### Môn học: CSC17104 - Lập trình cho Khoa học dữ liệu\n",
        "****"
      ]
    },
    {
      "cell_type": "markdown",
      "source": [
        "**Đây là File Notebook sample, chưa hoàn thiện, nên chỉ xem để biết Dữ liệu chọn có đáp ứng hết các task trong này không (ngoài các yêu cầu đã ghi ở phần tìm hiểu ha). Khi bắt đầu thực hiện sẽ gửi File Notebook để tự làm rồi up github.**"
      ],
      "metadata": {
        "id": "kGnhS2j2_Vr-"
      },
      "id": "kGnhS2j2_Vr-"
    },
    {
      "cell_type": "markdown",
      "id": "d84f313b-429a-4406-aff7-a4232d94d81b",
      "metadata": {
        "tags": [],
        "id": "d84f313b-429a-4406-aff7-a4232d94d81b"
      },
      "source": [
        "**Nhóm 26**\n",
        "<table style='float:left;'>\n",
        "    <tr>\n",
        "        <th style='text-align:center;'>MSSV</th>\n",
        "        <th style='text-align:center;'>Họ và Tên</th>\n",
        "        <th style='text-align:center;'>Mức độ hoàn thành(%)</th>\n",
        "        <th style='text-align:center;'>Nhiệm vụ</th>\n",
        "    </tr>\n",
        "    <tr>\n",
        "        <td style='text-align:center;'>21120178</td>\n",
        "        <td style='text-align:left;'>Văn Bá Bảo Huy</td>\n",
        "        <td style='text-align:center;'>Mức độ hoàn thành</td>\n",
        "        <td style='text-align:left;'>Nhiệm vụ</td>\n",
        "    </tr>\n",
        "    <tr>\n",
        "        <td style='text-align:center;'>21120071</td>\n",
        "        <td style='text-align:left;'>Nguyễn Thị Thanh Hoa</td>\n",
        "        <td style='text-align:center;'>Mức độ hoàn thành</td>\n",
        "        <td style='text-align:left;'>Nhiệm vụ</td>\n",
        "    </tr>\n",
        "    <tr>\n",
        "        <td style='text-align:center;'>21120174</td>\n",
        "        <td style='text-align:left;'>Nguyễn Thị Gái</td>\n",
        "        <td style='text-align:center;'>Mức độ hoàn thành</td>\n",
        "        <td style='text-align:left;'>Nhiệm vụ</td>\n",
        "    </tr>\n",
        "</table>"
      ]
    },
    {
      "cell_type": "markdown",
      "id": "73004b25-2e55-4e41-8e62-3dcb86d27a08",
      "metadata": {
        "tags": [],
        "id": "73004b25-2e55-4e41-8e62-3dcb86d27a08"
      },
      "source": [
        "### Environment check & Import nescessary packages"
      ]
    },
    {
      "cell_type": "code",
      "execution_count": 1,
      "id": "0a1ea7e7-ce37-4508-becb-038068bb6b76",
      "metadata": {
        "tags": [],
        "id": "0a1ea7e7-ce37-4508-becb-038068bb6b76"
      },
      "outputs": [],
      "source": [
        "import sys\n",
        "sys.executable\n",
        "!pip install -q kaggle"
      ]
    },
    {
      "cell_type": "code",
      "execution_count": 2,
      "id": "1da1ba6b-b240-4c29-b15c-2310e4818bd0",
      "metadata": {
        "tags": [],
        "id": "1da1ba6b-b240-4c29-b15c-2310e4818bd0"
      },
      "outputs": [],
      "source": [
        "import numpy as np\n",
        "import pandas as pd\n",
        "import matplotlib.pyplot as plt\n",
        "import json\n",
        "from collections import Counter\n",
        "import datetime\n",
        "import statistics\n",
        "import seaborn as sns\n",
        "from matplotlib import cycler"
      ]
    },
    {
      "cell_type": "markdown",
      "id": "093e3e2a-b777-463d-8033-0062d2a80204",
      "metadata": {
        "id": "093e3e2a-b777-463d-8033-0062d2a80204"
      },
      "source": [
        "# **Phase 1**: Collecting Data"
      ]
    },
    {
      "cell_type": "markdown",
      "id": "c7fa6f74-188e-4981-a852-ecf85a3c02ef",
      "metadata": {
        "id": "c7fa6f74-188e-4981-a852-ecf85a3c02ef"
      },
      "source": [
        "**Dataset**: Movies Daily Update Dataset<br>\n",
        "**Kaggle**: https://www.kaggle.com/datasets/akshaypawar7/millions-of-movies"
      ]
    },
    {
      "cell_type": "code",
      "source": [
        "#Download data from Kaggle with api-key\n",
        "!mkdir ~/.kaggle\n",
        "!touch ~/.kaggle/kaggle.json\n",
        "api_json = {\"username\":\"tyzenr\",\"key\":\"08b25d2b177116a2cb7dfddc38ab964b\"}\n",
        "with open('/root/.kaggle/kaggle.json', 'w') as file:\n",
        "    json.dump(api_json, file)\n",
        "!chmod 600 ~/.kaggle/kaggle.json\n",
        "import kaggle\n",
        "kaggle.api.authenticate()\n",
        "kaggle.api.dataset_download_files('akshaypawar7/millions-of-movies', path='.', unzip=True)"
      ],
      "metadata": {
        "id": "80T9nMP_CxHE",
        "colab": {
          "base_uri": "https://localhost:8080/"
        },
        "outputId": "26dfbc90-49cf-4924-cbcc-b76f05bf1858"
      },
      "id": "80T9nMP_CxHE",
      "execution_count": 4,
      "outputs": [
        {
          "output_type": "stream",
          "name": "stdout",
          "text": [
            "mkdir: cannot create directory ‘/root/.kaggle’: File exists\n"
          ]
        }
      ]
    },
    {
      "cell_type": "markdown",
      "id": "2d5b61c4-7c61-4991-852d-16ecfae71f0b",
      "metadata": {
        "id": "2d5b61c4-7c61-4991-852d-16ecfae71f0b"
      },
      "source": [
        "**1. Dữ liệu về chủ đề gì? Nguồn dữ liệu?**<br>\n",
        "- Chủ đề dữ liệu: Bộ dữ liệu của hơn 700.000 bộ phim trong tập dữ liệu TMDB.<br>\n",
        "- Nguồn dữ liệu: Kaggle\n",
        "<br>\n",
        "\n",
        "**2. Kiểm tra vấn đề bản quyền của tập dữ liệu.**<br>\n",
        "- Answer\n",
        "<br>\n",
        "\n",
        "**3. Tác giả của tập dữ liệu đã thu thập bằng cách nào?** <br>\n",
        "- Answer\n",
        "<br>"
      ]
    },
    {
      "cell_type": "markdown",
      "id": "efd36b29-9d11-4a94-a917-c78b1ceb2495",
      "metadata": {
        "id": "efd36b29-9d11-4a94-a917-c78b1ceb2495"
      },
      "source": [
        "# **Phase 2**: Exploring Data - Preprocessing"
      ]
    },
    {
      "cell_type": "markdown",
      "id": "2dda0f66-d807-4d91-b103-4cae303727d8",
      "metadata": {
        "id": "2dda0f66-d807-4d91-b103-4cae303727d8"
      },
      "source": [
        "### 2.0 Đọc dữ liệu"
      ]
    },
    {
      "cell_type": "code",
      "execution_count": null,
      "id": "c137553a-20af-4563-af91-c57faf088b54",
      "metadata": {
        "tags": [],
        "id": "c137553a-20af-4563-af91-c57faf088b54",
        "colab": {
          "base_uri": "https://localhost:8080/",
          "height": 476
        },
        "outputId": "c06aca64-d37e-4282-cb2e-c2685210ea6d"
      },
      "outputs": [
        {
          "output_type": "execute_result",
          "data": {
            "text/plain": [
              "       id                             title                            genres  \\\n",
              "0  615656                 Meg 2: The Trench     Action-Science Fiction-Horror   \n",
              "1  758323               The Pope's Exorcist           Horror-Mystery-Thriller   \n",
              "2  667538  Transformers: Rise of the Beasts  Action-Adventure-Science Fiction   \n",
              "\n",
              "  original_language                                           overview  \\\n",
              "0                en  An exploratory dive into the deepest depths of...   \n",
              "1                en  Father Gabriele Amorth Chief Exorcist of the V...   \n",
              "2                en  When a new threat capable of destroying the en...   \n",
              "\n",
              "   popularity                               production_companies release_date  \\\n",
              "0    8763.998  Apelles Entertainment-Warner Bros. Pictures-di...   2023-08-02   \n",
              "1    5953.227  Screen Gems-2.0 Entertainment-Jesus & Mary-Wor...   2023-04-05   \n",
              "2    5409.104  Skydance-Paramount-di Bonaventura Pictures-Bay...   2023-06-06   \n",
              "\n",
              "        budget      revenue  runtime    status  \\\n",
              "0  129000000.0  352056482.0    116.0  Released   \n",
              "1   18000000.0   65675816.0    103.0  Released   \n",
              "2  200000000.0  407045464.0    127.0  Released   \n",
              "\n",
              "                                             tagline  vote_average  \\\n",
              "0                                  Back for seconds.         7.079   \n",
              "1  Inspired by the actual files of Father Gabriel...         7.433   \n",
              "2                                     Unite or fall.         7.340   \n",
              "\n",
              "   vote_count                                            credits  \\\n",
              "0      1365.0  Jason Statham-Wu Jing-Shuya Sophia Cai-Sergio ...   \n",
              "1       545.0  Russell Crowe-Daniel Zovatto-Alex Essoe-Franco...   \n",
              "2      1007.0  Anthony Ramos-Dominique Fishback-Luna Lauren V...   \n",
              "\n",
              "                                            keywords  \\\n",
              "0                based on novel or book-sequel-kaiju   \n",
              "1  spain-rome italy-vatican-pope-pig-possession-c...   \n",
              "2  peru-alien-end of the world-based on cartoon-b...   \n",
              "\n",
              "                        poster_path                     backdrop_path  \\\n",
              "0  /4m1Au3YkjqsxF8iwQy0fPYSxE0h.jpg  /qlxy8yo5bcgUw2KAmmojUKp4rHd.jpg   \n",
              "1  /9JBEPLTPSm0d1mbEcLxULjJq9Eh.jpg  /hiHGRbyTcbZoLsYYkO4QiCLYe34.jpg   \n",
              "2  /gPbM0MK8CP8A174rmUwGsADNYKD.jpg  /woJbg7ZqidhpvqFGGMRhWQNoxwa.jpg   \n",
              "\n",
              "                                     recommendations  \n",
              "0  1006462-298618-569094-1061181-346698-1076487-6...  \n",
              "1  713704-296271-502356-1076605-1084225-1008005-9...  \n",
              "2  496450-569094-298618-385687-877100-598331-4628...  "
            ],
            "text/html": [
              "\n",
              "  <div id=\"df-2e48b371-94a1-4fb2-a0dc-4cbc99387fad\" class=\"colab-df-container\">\n",
              "    <div>\n",
              "<style scoped>\n",
              "    .dataframe tbody tr th:only-of-type {\n",
              "        vertical-align: middle;\n",
              "    }\n",
              "\n",
              "    .dataframe tbody tr th {\n",
              "        vertical-align: top;\n",
              "    }\n",
              "\n",
              "    .dataframe thead th {\n",
              "        text-align: right;\n",
              "    }\n",
              "</style>\n",
              "<table border=\"1\" class=\"dataframe\">\n",
              "  <thead>\n",
              "    <tr style=\"text-align: right;\">\n",
              "      <th></th>\n",
              "      <th>id</th>\n",
              "      <th>title</th>\n",
              "      <th>genres</th>\n",
              "      <th>original_language</th>\n",
              "      <th>overview</th>\n",
              "      <th>popularity</th>\n",
              "      <th>production_companies</th>\n",
              "      <th>release_date</th>\n",
              "      <th>budget</th>\n",
              "      <th>revenue</th>\n",
              "      <th>runtime</th>\n",
              "      <th>status</th>\n",
              "      <th>tagline</th>\n",
              "      <th>vote_average</th>\n",
              "      <th>vote_count</th>\n",
              "      <th>credits</th>\n",
              "      <th>keywords</th>\n",
              "      <th>poster_path</th>\n",
              "      <th>backdrop_path</th>\n",
              "      <th>recommendations</th>\n",
              "    </tr>\n",
              "  </thead>\n",
              "  <tbody>\n",
              "    <tr>\n",
              "      <th>0</th>\n",
              "      <td>615656</td>\n",
              "      <td>Meg 2: The Trench</td>\n",
              "      <td>Action-Science Fiction-Horror</td>\n",
              "      <td>en</td>\n",
              "      <td>An exploratory dive into the deepest depths of...</td>\n",
              "      <td>8763.998</td>\n",
              "      <td>Apelles Entertainment-Warner Bros. Pictures-di...</td>\n",
              "      <td>2023-08-02</td>\n",
              "      <td>129000000.0</td>\n",
              "      <td>352056482.0</td>\n",
              "      <td>116.0</td>\n",
              "      <td>Released</td>\n",
              "      <td>Back for seconds.</td>\n",
              "      <td>7.079</td>\n",
              "      <td>1365.0</td>\n",
              "      <td>Jason Statham-Wu Jing-Shuya Sophia Cai-Sergio ...</td>\n",
              "      <td>based on novel or book-sequel-kaiju</td>\n",
              "      <td>/4m1Au3YkjqsxF8iwQy0fPYSxE0h.jpg</td>\n",
              "      <td>/qlxy8yo5bcgUw2KAmmojUKp4rHd.jpg</td>\n",
              "      <td>1006462-298618-569094-1061181-346698-1076487-6...</td>\n",
              "    </tr>\n",
              "    <tr>\n",
              "      <th>1</th>\n",
              "      <td>758323</td>\n",
              "      <td>The Pope's Exorcist</td>\n",
              "      <td>Horror-Mystery-Thriller</td>\n",
              "      <td>en</td>\n",
              "      <td>Father Gabriele Amorth Chief Exorcist of the V...</td>\n",
              "      <td>5953.227</td>\n",
              "      <td>Screen Gems-2.0 Entertainment-Jesus &amp; Mary-Wor...</td>\n",
              "      <td>2023-04-05</td>\n",
              "      <td>18000000.0</td>\n",
              "      <td>65675816.0</td>\n",
              "      <td>103.0</td>\n",
              "      <td>Released</td>\n",
              "      <td>Inspired by the actual files of Father Gabriel...</td>\n",
              "      <td>7.433</td>\n",
              "      <td>545.0</td>\n",
              "      <td>Russell Crowe-Daniel Zovatto-Alex Essoe-Franco...</td>\n",
              "      <td>spain-rome italy-vatican-pope-pig-possession-c...</td>\n",
              "      <td>/9JBEPLTPSm0d1mbEcLxULjJq9Eh.jpg</td>\n",
              "      <td>/hiHGRbyTcbZoLsYYkO4QiCLYe34.jpg</td>\n",
              "      <td>713704-296271-502356-1076605-1084225-1008005-9...</td>\n",
              "    </tr>\n",
              "    <tr>\n",
              "      <th>2</th>\n",
              "      <td>667538</td>\n",
              "      <td>Transformers: Rise of the Beasts</td>\n",
              "      <td>Action-Adventure-Science Fiction</td>\n",
              "      <td>en</td>\n",
              "      <td>When a new threat capable of destroying the en...</td>\n",
              "      <td>5409.104</td>\n",
              "      <td>Skydance-Paramount-di Bonaventura Pictures-Bay...</td>\n",
              "      <td>2023-06-06</td>\n",
              "      <td>200000000.0</td>\n",
              "      <td>407045464.0</td>\n",
              "      <td>127.0</td>\n",
              "      <td>Released</td>\n",
              "      <td>Unite or fall.</td>\n",
              "      <td>7.340</td>\n",
              "      <td>1007.0</td>\n",
              "      <td>Anthony Ramos-Dominique Fishback-Luna Lauren V...</td>\n",
              "      <td>peru-alien-end of the world-based on cartoon-b...</td>\n",
              "      <td>/gPbM0MK8CP8A174rmUwGsADNYKD.jpg</td>\n",
              "      <td>/woJbg7ZqidhpvqFGGMRhWQNoxwa.jpg</td>\n",
              "      <td>496450-569094-298618-385687-877100-598331-4628...</td>\n",
              "    </tr>\n",
              "  </tbody>\n",
              "</table>\n",
              "</div>\n",
              "    <div class=\"colab-df-buttons\">\n",
              "\n",
              "  <div class=\"colab-df-container\">\n",
              "    <button class=\"colab-df-convert\" onclick=\"convertToInteractive('df-2e48b371-94a1-4fb2-a0dc-4cbc99387fad')\"\n",
              "            title=\"Convert this dataframe to an interactive table.\"\n",
              "            style=\"display:none;\">\n",
              "\n",
              "  <svg xmlns=\"http://www.w3.org/2000/svg\" height=\"24px\" viewBox=\"0 -960 960 960\">\n",
              "    <path d=\"M120-120v-720h720v720H120Zm60-500h600v-160H180v160Zm220 220h160v-160H400v160Zm0 220h160v-160H400v160ZM180-400h160v-160H180v160Zm440 0h160v-160H620v160ZM180-180h160v-160H180v160Zm440 0h160v-160H620v160Z\"/>\n",
              "  </svg>\n",
              "    </button>\n",
              "\n",
              "  <style>\n",
              "    .colab-df-container {\n",
              "      display:flex;\n",
              "      gap: 12px;\n",
              "    }\n",
              "\n",
              "    .colab-df-convert {\n",
              "      background-color: #E8F0FE;\n",
              "      border: none;\n",
              "      border-radius: 50%;\n",
              "      cursor: pointer;\n",
              "      display: none;\n",
              "      fill: #1967D2;\n",
              "      height: 32px;\n",
              "      padding: 0 0 0 0;\n",
              "      width: 32px;\n",
              "    }\n",
              "\n",
              "    .colab-df-convert:hover {\n",
              "      background-color: #E2EBFA;\n",
              "      box-shadow: 0px 1px 2px rgba(60, 64, 67, 0.3), 0px 1px 3px 1px rgba(60, 64, 67, 0.15);\n",
              "      fill: #174EA6;\n",
              "    }\n",
              "\n",
              "    .colab-df-buttons div {\n",
              "      margin-bottom: 4px;\n",
              "    }\n",
              "\n",
              "    [theme=dark] .colab-df-convert {\n",
              "      background-color: #3B4455;\n",
              "      fill: #D2E3FC;\n",
              "    }\n",
              "\n",
              "    [theme=dark] .colab-df-convert:hover {\n",
              "      background-color: #434B5C;\n",
              "      box-shadow: 0px 1px 3px 1px rgba(0, 0, 0, 0.15);\n",
              "      filter: drop-shadow(0px 1px 2px rgba(0, 0, 0, 0.3));\n",
              "      fill: #FFFFFF;\n",
              "    }\n",
              "  </style>\n",
              "\n",
              "    <script>\n",
              "      const buttonEl =\n",
              "        document.querySelector('#df-2e48b371-94a1-4fb2-a0dc-4cbc99387fad button.colab-df-convert');\n",
              "      buttonEl.style.display =\n",
              "        google.colab.kernel.accessAllowed ? 'block' : 'none';\n",
              "\n",
              "      async function convertToInteractive(key) {\n",
              "        const element = document.querySelector('#df-2e48b371-94a1-4fb2-a0dc-4cbc99387fad');\n",
              "        const dataTable =\n",
              "          await google.colab.kernel.invokeFunction('convertToInteractive',\n",
              "                                                    [key], {});\n",
              "        if (!dataTable) return;\n",
              "\n",
              "        const docLinkHtml = 'Like what you see? Visit the ' +\n",
              "          '<a target=\"_blank\" href=https://colab.research.google.com/notebooks/data_table.ipynb>data table notebook</a>'\n",
              "          + ' to learn more about interactive tables.';\n",
              "        element.innerHTML = '';\n",
              "        dataTable['output_type'] = 'display_data';\n",
              "        await google.colab.output.renderOutput(dataTable, element);\n",
              "        const docLink = document.createElement('div');\n",
              "        docLink.innerHTML = docLinkHtml;\n",
              "        element.appendChild(docLink);\n",
              "      }\n",
              "    </script>\n",
              "  </div>\n",
              "\n",
              "\n",
              "<div id=\"df-f89ec9eb-a0a8-417d-a954-bc69755c3cca\">\n",
              "  <button class=\"colab-df-quickchart\" onclick=\"quickchart('df-f89ec9eb-a0a8-417d-a954-bc69755c3cca')\"\n",
              "            title=\"Suggest charts\"\n",
              "            style=\"display:none;\">\n",
              "\n",
              "<svg xmlns=\"http://www.w3.org/2000/svg\" height=\"24px\"viewBox=\"0 0 24 24\"\n",
              "     width=\"24px\">\n",
              "    <g>\n",
              "        <path d=\"M19 3H5c-1.1 0-2 .9-2 2v14c0 1.1.9 2 2 2h14c1.1 0 2-.9 2-2V5c0-1.1-.9-2-2-2zM9 17H7v-7h2v7zm4 0h-2V7h2v10zm4 0h-2v-4h2v4z\"/>\n",
              "    </g>\n",
              "</svg>\n",
              "  </button>\n",
              "\n",
              "<style>\n",
              "  .colab-df-quickchart {\n",
              "      --bg-color: #E8F0FE;\n",
              "      --fill-color: #1967D2;\n",
              "      --hover-bg-color: #E2EBFA;\n",
              "      --hover-fill-color: #174EA6;\n",
              "      --disabled-fill-color: #AAA;\n",
              "      --disabled-bg-color: #DDD;\n",
              "  }\n",
              "\n",
              "  [theme=dark] .colab-df-quickchart {\n",
              "      --bg-color: #3B4455;\n",
              "      --fill-color: #D2E3FC;\n",
              "      --hover-bg-color: #434B5C;\n",
              "      --hover-fill-color: #FFFFFF;\n",
              "      --disabled-bg-color: #3B4455;\n",
              "      --disabled-fill-color: #666;\n",
              "  }\n",
              "\n",
              "  .colab-df-quickchart {\n",
              "    background-color: var(--bg-color);\n",
              "    border: none;\n",
              "    border-radius: 50%;\n",
              "    cursor: pointer;\n",
              "    display: none;\n",
              "    fill: var(--fill-color);\n",
              "    height: 32px;\n",
              "    padding: 0;\n",
              "    width: 32px;\n",
              "  }\n",
              "\n",
              "  .colab-df-quickchart:hover {\n",
              "    background-color: var(--hover-bg-color);\n",
              "    box-shadow: 0 1px 2px rgba(60, 64, 67, 0.3), 0 1px 3px 1px rgba(60, 64, 67, 0.15);\n",
              "    fill: var(--button-hover-fill-color);\n",
              "  }\n",
              "\n",
              "  .colab-df-quickchart-complete:disabled,\n",
              "  .colab-df-quickchart-complete:disabled:hover {\n",
              "    background-color: var(--disabled-bg-color);\n",
              "    fill: var(--disabled-fill-color);\n",
              "    box-shadow: none;\n",
              "  }\n",
              "\n",
              "  .colab-df-spinner {\n",
              "    border: 2px solid var(--fill-color);\n",
              "    border-color: transparent;\n",
              "    border-bottom-color: var(--fill-color);\n",
              "    animation:\n",
              "      spin 1s steps(1) infinite;\n",
              "  }\n",
              "\n",
              "  @keyframes spin {\n",
              "    0% {\n",
              "      border-color: transparent;\n",
              "      border-bottom-color: var(--fill-color);\n",
              "      border-left-color: var(--fill-color);\n",
              "    }\n",
              "    20% {\n",
              "      border-color: transparent;\n",
              "      border-left-color: var(--fill-color);\n",
              "      border-top-color: var(--fill-color);\n",
              "    }\n",
              "    30% {\n",
              "      border-color: transparent;\n",
              "      border-left-color: var(--fill-color);\n",
              "      border-top-color: var(--fill-color);\n",
              "      border-right-color: var(--fill-color);\n",
              "    }\n",
              "    40% {\n",
              "      border-color: transparent;\n",
              "      border-right-color: var(--fill-color);\n",
              "      border-top-color: var(--fill-color);\n",
              "    }\n",
              "    60% {\n",
              "      border-color: transparent;\n",
              "      border-right-color: var(--fill-color);\n",
              "    }\n",
              "    80% {\n",
              "      border-color: transparent;\n",
              "      border-right-color: var(--fill-color);\n",
              "      border-bottom-color: var(--fill-color);\n",
              "    }\n",
              "    90% {\n",
              "      border-color: transparent;\n",
              "      border-bottom-color: var(--fill-color);\n",
              "    }\n",
              "  }\n",
              "</style>\n",
              "\n",
              "  <script>\n",
              "    async function quickchart(key) {\n",
              "      const quickchartButtonEl =\n",
              "        document.querySelector('#' + key + ' button');\n",
              "      quickchartButtonEl.disabled = true;  // To prevent multiple clicks.\n",
              "      quickchartButtonEl.classList.add('colab-df-spinner');\n",
              "      try {\n",
              "        const charts = await google.colab.kernel.invokeFunction(\n",
              "            'suggestCharts', [key], {});\n",
              "      } catch (error) {\n",
              "        console.error('Error during call to suggestCharts:', error);\n",
              "      }\n",
              "      quickchartButtonEl.classList.remove('colab-df-spinner');\n",
              "      quickchartButtonEl.classList.add('colab-df-quickchart-complete');\n",
              "    }\n",
              "    (() => {\n",
              "      let quickchartButtonEl =\n",
              "        document.querySelector('#df-f89ec9eb-a0a8-417d-a954-bc69755c3cca button');\n",
              "      quickchartButtonEl.style.display =\n",
              "        google.colab.kernel.accessAllowed ? 'block' : 'none';\n",
              "    })();\n",
              "  </script>\n",
              "</div>\n",
              "\n",
              "    </div>\n",
              "  </div>\n"
            ]
          },
          "metadata": {},
          "execution_count": 12
        }
      ],
      "source": [
        "df = pd.read_csv(\"movies.csv\")\n",
        "df.head(3)"
      ]
    },
    {
      "cell_type": "markdown",
      "id": "1222639b-1a1b-4eea-842b-8ff2baa4decd",
      "metadata": {
        "id": "1222639b-1a1b-4eea-842b-8ff2baa4decd"
      },
      "source": [
        "### 2.1 Có bao nhiêu hàng và bao nhiêu cột?"
      ]
    },
    {
      "cell_type": "code",
      "execution_count": null,
      "id": "02c076fd-9127-4b37-a2af-d00bee7905fc",
      "metadata": {
        "id": "02c076fd-9127-4b37-a2af-d00bee7905fc"
      },
      "outputs": [],
      "source": []
    },
    {
      "cell_type": "markdown",
      "id": "8ff9a821-6de3-4474-89db-ad6988d7ec1a",
      "metadata": {
        "id": "8ff9a821-6de3-4474-89db-ad6988d7ec1a"
      },
      "source": [
        "###  2.2 Ý nghĩa của mỗi hàng là gì?"
      ]
    },
    {
      "cell_type": "markdown",
      "id": "1d38d92b-12fd-445e-862e-cfe059f407f9",
      "metadata": {
        "id": "1d38d92b-12fd-445e-862e-cfe059f407f9"
      },
      "source": []
    },
    {
      "cell_type": "markdown",
      "id": "0350da5f-c4dc-417a-bafb-c2d1769e1203",
      "metadata": {
        "id": "0350da5f-c4dc-417a-bafb-c2d1769e1203"
      },
      "source": [
        "### 2.3 Có 'hàng trùng lặp' không?"
      ]
    },
    {
      "cell_type": "code",
      "execution_count": null,
      "id": "05251f13-a3b3-4989-b7fa-59bfc1fb55d3",
      "metadata": {
        "id": "05251f13-a3b3-4989-b7fa-59bfc1fb55d3"
      },
      "outputs": [],
      "source": []
    },
    {
      "cell_type": "markdown",
      "id": "3e6a3e3f-e920-4f5c-b285-e2e648bc67eb",
      "metadata": {
        "id": "3e6a3e3f-e920-4f5c-b285-e2e648bc67eb"
      },
      "source": [
        "### 2.4 Ý nghĩa của từng cột là gì?"
      ]
    },
    {
      "cell_type": "markdown",
      "id": "96acda46-7085-4161-b5aa-eb11d96d0c5e",
      "metadata": {
        "id": "96acda46-7085-4161-b5aa-eb11d96d0c5e"
      },
      "source": []
    },
    {
      "cell_type": "markdown",
      "id": "c521421b-7340-47f2-8cc7-714ef0e9fd96",
      "metadata": {
        "id": "c521421b-7340-47f2-8cc7-714ef0e9fd96"
      },
      "source": [
        "### 2.5 Kiểu dữ liệu hiện tại của mỗi cột là gì? Có cột nào có kiểu dữ liệu không phù hợp không?"
      ]
    },
    {
      "cell_type": "code",
      "execution_count": null,
      "id": "cba77753-b926-48aa-bfef-fcf518012b5e",
      "metadata": {
        "id": "cba77753-b926-48aa-bfef-fcf518012b5e"
      },
      "outputs": [],
      "source": []
    },
    {
      "cell_type": "markdown",
      "id": "e0ce71cf-302a-4ad5-83e6-4c37fc686ace",
      "metadata": {
        "id": "e0ce71cf-302a-4ad5-83e6-4c37fc686ace"
      },
      "source": [
        "### 2.6 Với mỗi cột số, các giá trị được phân bố như thế nào?\n",
        "- Phần trăm giá trị còn thiếu là bao nhiêu?\n",
        "- Tối thiểu? tối đa? Chúng có bất thường không?"
      ]
    },
    {
      "cell_type": "code",
      "execution_count": null,
      "id": "9aacd11b-59fb-458b-a76f-be6fcaf36c33",
      "metadata": {
        "id": "9aacd11b-59fb-458b-a76f-be6fcaf36c33"
      },
      "outputs": [],
      "source": []
    },
    {
      "cell_type": "markdown",
      "id": "5eb4f5aa-774e-4394-bd09-382b973c1063",
      "metadata": {
        "id": "5eb4f5aa-774e-4394-bd09-382b973c1063"
      },
      "source": [
        "### 2.7 Với mỗi cột phân loại, các giá trị được phân bổ như thế nào?\n",
        "- Phần trăm giá trị còn thiếu là bao nhiêu?\n",
        "- Có bao nhiêu giá trị khác nhau? Hiển thị một số giá trị đó.\n",
        "- Chúng có bất thường không?"
      ]
    },
    {
      "cell_type": "code",
      "execution_count": null,
      "id": "3b726c02-7f91-4953-9b07-67658e8081da",
      "metadata": {
        "id": "3b726c02-7f91-4953-9b07-67658e8081da"
      },
      "outputs": [],
      "source": []
    },
    {
      "cell_type": "markdown",
      "id": "207a9553-0bc1-43e5-9166-e50438c5db75",
      "metadata": {
        "id": "207a9553-0bc1-43e5-9166-e50438c5db75"
      },
      "source": [
        "# **Phase 3**: Preprocessing & Asking Meaningful questions\n",
        "Yêu cầu:\n",
        "- Số lượng câu hỏi đặt ra cần lớn hơn hoặc bằng số lượng thành viên ($\\ge 3$)\n",
        "- Câu hỏi đặt ra cần có ý nghĩa (tác dụng của việc tìm kiếm câu trả lời cho câu hỏi đó) và không được quá dễ 🙂\n",
        "- Chú ý đến chất lượng của từng câu hỏi, không phải số lượng câu hỏi.\n",
        "- Trong file Notebook, với mỗi câu hỏi cần thể hiện được:\n",
        "    - Nội dung câu hỏi\n",
        "    - Ý nghĩa của câu hỏi"
      ]
    },
    {
      "cell_type": "markdown",
      "source": [
        "## **3.0** Preprocessing"
      ],
      "metadata": {
        "id": "qYGzu1JMrBMk"
      },
      "id": "qYGzu1JMrBMk"
    },
    {
      "cell_type": "code",
      "source": [],
      "metadata": {
        "id": "RXaimSB-rIA7"
      },
      "id": "RXaimSB-rIA7",
      "execution_count": null,
      "outputs": []
    },
    {
      "cell_type": "markdown",
      "source": [
        "## **3.1** Asking meaningful question"
      ],
      "metadata": {
        "id": "-O0R1fuLrIkU"
      },
      "id": "-O0R1fuLrIkU"
    },
    {
      "cell_type": "markdown",
      "id": "940f3225-1255-469b-8b7f-74ec37d0438b",
      "metadata": {
        "tags": [],
        "id": "940f3225-1255-469b-8b7f-74ec37d0438b"
      },
      "source": [
        "<table style='float:left;'>\n",
        "    <tr>\n",
        "        <th style='text-align:center;'>STT</th>\n",
        "        <th style='text-align:center;'>Nội dung</th>\n",
        "        <th style='text-align:center;'>Trình bày</th>\n",
        "    </tr>\n",
        "    <tr>\n",
        "        <td style='text-align:center;'>Câu 1</td>\n",
        "        <td style='text-align:left;'>Nội dung</td>\n",
        "        <td style='text-align:center;'><a href='#cauhoi_1'>C1</a></td>\n",
        "    </tr>\n",
        "    <tr>\n",
        "        <td style='text-align:center;'>Câu 2</td>\n",
        "        <td style='text-align:left;'>Nội dung</td>\n",
        "        <td style='text-align:center;'><a href='#cauhoi_2'>C2</a></td>\n",
        "    </tr>\n",
        "    <tr>\n",
        "        <td style='text-align:center;'>Câu 3</td>\n",
        "        <td style='text-align:left;'>Nội dung</td>\n",
        "        <td style='text-align:center;'><a href='#cauhoi_3'>C3</a></td>\n",
        "    </tr>\n",
        "</table>"
      ]
    },
    {
      "cell_type": "markdown",
      "id": "575c1eec-3e1b-4cd7-bf0a-67561583a0c1",
      "metadata": {
        "id": "575c1eec-3e1b-4cd7-bf0a-67561583a0c1"
      },
      "source": [
        "# **Phase 4**: Analyzing data to answer each question"
      ]
    },
    {
      "cell_type": "markdown",
      "id": "5d5b5813-8bae-46ce-a320-fee0e03566bd",
      "metadata": {
        "id": "5d5b5813-8bae-46ce-a320-fee0e03566bd"
      },
      "source": [
        "### **Câu hỏi 1**: ghi nội dung ở đây<a name=\"cauhoi_1\"></a>\n",
        "\n",
        "**Ý nghĩa:**"
      ]
    },
    {
      "cell_type": "code",
      "execution_count": null,
      "id": "de41be86-6370-4240-8c22-6b0d29b0beb9",
      "metadata": {
        "id": "de41be86-6370-4240-8c22-6b0d29b0beb9"
      },
      "outputs": [],
      "source": []
    },
    {
      "cell_type": "markdown",
      "id": "637ef9ea-9a76-4e88-8354-28aa8e9f205e",
      "metadata": {
        "id": "637ef9ea-9a76-4e88-8354-28aa8e9f205e"
      },
      "source": [
        "### **Câu hỏi 2**: ghi nội dung ở đây<a name=\"cauhoi_2\"></a>\n",
        "\n",
        "**Ý nghĩa:**"
      ]
    },
    {
      "cell_type": "code",
      "execution_count": null,
      "id": "5e55d712-8a81-420c-899d-89f907fbb133",
      "metadata": {
        "id": "5e55d712-8a81-420c-899d-89f907fbb133"
      },
      "outputs": [],
      "source": []
    },
    {
      "cell_type": "markdown",
      "id": "64d757b1-4496-4e37-9c64-61d4fd452c07",
      "metadata": {
        "id": "64d757b1-4496-4e37-9c64-61d4fd452c07"
      },
      "source": [
        "### **Câu hỏi 3**: ghi nội dung ở đây<a name=\"cauhoi_3\"></a>\n",
        "\n",
        "**Ý nghĩa:**"
      ]
    },
    {
      "cell_type": "code",
      "execution_count": null,
      "id": "a57e0bc0-84ae-4067-9735-3d1ca5377611",
      "metadata": {
        "id": "a57e0bc0-84ae-4067-9735-3d1ca5377611"
      },
      "outputs": [],
      "source": []
    },
    {
      "cell_type": "markdown",
      "id": "60e38a58-1d51-40a1-a6fe-9083b1935ec5",
      "metadata": {
        "id": "60e38a58-1d51-40a1-a6fe-9083b1935ec5"
      },
      "source": [
        "# **Phase 5**: Reflection"
      ]
    },
    {
      "cell_type": "markdown",
      "source": [
        "## 5.0 Team members"
      ],
      "metadata": {
        "id": "FyhlFXPAbJ80"
      },
      "id": "FyhlFXPAbJ80"
    },
    {
      "cell_type": "markdown",
      "source": [
        "**Văn Bá Bảo Huy**\n",
        "- Khó khăn:\n",
        "- Điều đã học được:"
      ],
      "metadata": {
        "id": "MpJ1i_GIrzjD"
      },
      "id": "MpJ1i_GIrzjD"
    },
    {
      "cell_type": "markdown",
      "source": [
        "**Nguyễn Thị Gái**\n",
        "- Khó khăn:\n",
        "- Điều đã học được:"
      ],
      "metadata": {
        "id": "0HINnO4gr91F"
      },
      "id": "0HINnO4gr91F"
    },
    {
      "cell_type": "markdown",
      "source": [
        "**Nguyễn Thị Thanh Hoa**\n",
        "- Khó khăn:\n",
        "- Điều đã học được:"
      ],
      "metadata": {
        "id": "53ONaeSBsBq8"
      },
      "id": "53ONaeSBsBq8"
    },
    {
      "cell_type": "markdown",
      "source": [
        "## 5.1 Team"
      ],
      "metadata": {
        "id": "5VUVm6OdsSi9"
      },
      "id": "5VUVm6OdsSi9"
    },
    {
      "cell_type": "markdown",
      "source": [
        "Nếu có nhiều thời gian hơn, nhóm sẽ ..."
      ],
      "metadata": {
        "id": "MTN14NixsThM"
      },
      "id": "MTN14NixsThM"
    }
  ],
  "metadata": {
    "kernelspec": {
      "display_name": "Python 3 (ipykernel)",
      "language": "python",
      "name": "python3"
    },
    "language_info": {
      "codemirror_mode": {
        "name": "ipython",
        "version": 3
      },
      "file_extension": ".py",
      "mimetype": "text/x-python",
      "name": "python",
      "nbconvert_exporter": "python",
      "pygments_lexer": "ipython3",
      "version": "3.11.5"
    },
    "colab": {
      "provenance": [],
      "toc_visible": true
    }
  },
  "nbformat": 4,
  "nbformat_minor": 5
}