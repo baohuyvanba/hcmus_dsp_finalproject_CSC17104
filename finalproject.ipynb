{
 "cells": [
  {
   "cell_type": "markdown",
   "id": "56026243-04ff-491e-aa56-c64ed3ba4fad",
   "metadata": {
    "id": "56026243-04ff-491e-aa56-c64ed3ba4fad",
    "tags": []
   },
   "source": [
    "# Final Project\n",
    "### Môn học: CSC17104 - Lập trình cho Khoa học dữ liệu\n",
    "****"
   ]
  },
  {
   "cell_type": "markdown",
   "id": "d84f313b-429a-4406-aff7-a4232d94d81b",
   "metadata": {
    "id": "d84f313b-429a-4406-aff7-a4232d94d81b",
    "tags": []
   },
   "source": [
    "**Nhóm 26**\n",
    "<table style='float:left;'>\n",
    "    <tr>\n",
    "        <th style='text-align:center;'>MSSV</th>\n",
    "        <th style='text-align:center;'>Họ và Tên</th>\n",
    "        <th style='text-align:center;'>Mức độ hoàn thành(%)</th>\n",
    "    </tr>\n",
    "    <tr>\n",
    "        <td style='text-align:center;'>21120178</td>\n",
    "        <td style='text-align:left;'>Văn Bá Bảo Huy</td>\n",
    "        <td style='text-align:center;'>100%</td>\n",
    "    </tr>\n",
    "    <tr>\n",
    "        <td style='text-align:center;'>21120071</td>\n",
    "        <td style='text-align:left;'>Nguyễn Thị Thanh Hoa</td>\n",
    "        <td style='text-align:center;'>100%</td>\n",
    "    </tr>\n",
    "    <tr>\n",
    "        <td style='text-align:center;'>21120174</td>\n",
    "        <td style='text-align:left;'>Nguyễn Thị Gái</td>\n",
    "        <td style='text-align:center;'>100%</td>\n",
    "    </tr>\n",
    "</table>"
   ]
  },
  {
   "cell_type": "markdown",
   "id": "73004b25-2e55-4e41-8e62-3dcb86d27a08",
   "metadata": {
    "id": "73004b25-2e55-4e41-8e62-3dcb86d27a08",
    "tags": []
   },
   "source": [
    "### Environment check & Import nescessary packages"
   ]
  },
  {
   "cell_type": "code",
   "execution_count": null,
   "id": "0a1ea7e7-ce37-4508-becb-038068bb6b76",
   "metadata": {
    "id": "0a1ea7e7-ce37-4508-becb-038068bb6b76",
    "tags": []
   },
   "outputs": [],
   "source": [
    "import sys\n",
    "sys.executable\n",
    "!pip install -q kaggle"
   ]
  },
  {
   "cell_type": "code",
   "execution_count": null,
   "id": "1da1ba6b-b240-4c29-b15c-2310e4818bd0",
   "metadata": {
    "id": "1da1ba6b-b240-4c29-b15c-2310e4818bd0",
    "tags": []
   },
   "outputs": [],
   "source": [
    "import os\n",
    "import numpy as np\n",
    "import pandas as pd\n",
    "import json\n",
    "import datetime\n",
    "import re\n",
    "from sklearn.feature_extraction.text import TfidfVectorizer\n",
    "from sklearn.metrics.pairwise import cosine_similarity\n",
    "from skimage import io\n",
    "\n",
    "import matplotlib.pyplot as plt\n",
    "import seaborn as sns\n",
    "from wordcloud import WordCloud\n",
    "\n",
    "import warnings\n",
    "warnings.filterwarnings(\"ignore\", message=\"Matplotlib is currently using module://matplotlib_inline.backend_inline\")"
   ]
  },
  {
   "cell_type": "markdown",
   "id": "093e3e2a-b777-463d-8033-0062d2a80204",
   "metadata": {
    "id": "093e3e2a-b777-463d-8033-0062d2a80204",
    "tags": []
   },
   "source": [
    "# **Phase 1**: Collecting Data"
   ]
  },
  {
   "cell_type": "markdown",
   "id": "c7fa6f74-188e-4981-a852-ecf85a3c02ef",
   "metadata": {
    "id": "c7fa6f74-188e-4981-a852-ecf85a3c02ef"
   },
   "source": [
    "**Dataset**: Full TMDB Movies Dataset 2023 (930K Movies)<br>\n",
    "**Kaggle**: https://www.kaggle.com/datasets/asaniczka/tmdb-movies-dataset-2023-930k-movies/data"
   ]
  },
  {
   "cell_type": "code",
   "execution_count": null,
   "id": "80T9nMP_CxHE",
   "metadata": {
    "id": "80T9nMP_CxHE",
    "tags": []
   },
   "outputs": [],
   "source": [
    "#Download data from Kaggle with api-key\n",
    "notebook_dir = os.path.dirname(os.path.realpath(\"__file__\"))\n",
    "os.chdir(notebook_dir)\n",
    "!mkdir kaggle\n",
    "!touch kaggle/kaggle.json\n",
    "api_json = {\"username\":\"tyzenr\",\"key\":\"08b25d2b177116a2cb7dfddc38ab964b\"}\n",
    "with open('kaggle/kaggle.json', 'w') as file:\n",
    "    json.dump(api_json, file)\n",
    "!chmod 600 kaggle/kaggle.json\n",
    "\n",
    "with open('kaggle/kaggle.json', 'r') as file:\n",
    "    api_json = json.load(file)\n",
    "\n",
    "os.environ['KAGGLE_USERNAME'] = api_json['username']\n",
    "os.environ['KAGGLE_KEY'] = api_json['key']\n",
    "\n",
    "import kaggle\n",
    "kaggle.api.authenticate()\n",
    "kaggle.api.dataset_download_files('asaniczka/tmdb-movies-dataset-2023-930k-movies', path='.', unzip=True)"
   ]
  },
  {
   "cell_type": "markdown",
   "id": "2d5b61c4-7c61-4991-852d-16ecfae71f0b",
   "metadata": {
    "id": "2d5b61c4-7c61-4991-852d-16ecfae71f0b"
   },
   "source": [
    "**1. Dữ liệu về chủ đề gì? Nguồn dữ liệu?**<br>\n",
    "- Chủ đề dữ liệu: Bộ dữ liệu của hơn 930.000 bộ phim trong tập dữ liệu TMDB.<br>\n",
    "- Nguồn dữ liệu: Kaggle\n",
    "<br>\n",
    "\n",
    "**2. Kiểm tra vấn đề bản quyền của tập dữ liệu.**<br>\n",
    "- `CC0: Public Domain` - No Right Reserved\n",
    "- CC0 cho phép các nhà khoa học, nhà giáo dục, nghệ sĩ, những người sáng tạo và chủ sở hữu khác của nội dung được bảo vệ bản quyền hoặc cơ sở dữ liệu *từ bỏ* những lợi ích đó đối với tác phẩm của họ và do đó đặt chúng hoàn toàn nhất có thể trong phạm vi công cộng, để những người khác có thể tự do xây dựng, nâng cao và tái sử dụng tác phẩm cho bất kỳ mục đích nào mà không bị hạn chế theo luật bản quyền hoặc cơ sở dữ liệu.\n",
    "<br>\n",
    "\n",
    "**3. Tác giả của tập dữ liệu đã thu thập bằng cách nào?** <br>\n",
    "- Dữ liệu được thu thập từ TMDB Open API.\n",
    "<br>"
   ]
  },
  {
   "cell_type": "markdown",
   "id": "efd36b29-9d11-4a94-a917-c78b1ceb2495",
   "metadata": {
    "id": "efd36b29-9d11-4a94-a917-c78b1ceb2495",
    "tags": []
   },
   "source": [
    "# **Phase 2**: Exploring Data"
   ]
  },
  {
   "cell_type": "markdown",
   "id": "2dda0f66-d807-4d91-b103-4cae303727d8",
   "metadata": {
    "id": "2dda0f66-d807-4d91-b103-4cae303727d8"
   },
   "source": [
    "### 2.0 Đọc dữ liệu"
   ]
  },
  {
   "cell_type": "code",
   "execution_count": null,
   "id": "c137553a-20af-4563-af91-c57faf088b54",
   "metadata": {
    "colab": {
     "base_uri": "https://localhost:8080/",
     "height": 476
    },
    "id": "c137553a-20af-4563-af91-c57faf088b54",
    "outputId": "b3010dc1-ae55-481c-ed71-71c9acd3d7d4",
    "tags": []
   },
   "outputs": [
    {
     "data": {
      "text/html": [
       "<div>\n",
       "<style scoped>\n",
       "    .dataframe tbody tr th:only-of-type {\n",
       "        vertical-align: middle;\n",
       "    }\n",
       "\n",
       "    .dataframe tbody tr th {\n",
       "        vertical-align: top;\n",
       "    }\n",
       "\n",
       "    .dataframe thead th {\n",
       "        text-align: right;\n",
       "    }\n",
       "</style>\n",
       "<table border=\"1\" class=\"dataframe\">\n",
       "  <thead>\n",
       "    <tr style=\"text-align: right;\">\n",
       "      <th></th>\n",
       "      <th>id</th>\n",
       "      <th>title</th>\n",
       "      <th>vote_average</th>\n",
       "      <th>vote_count</th>\n",
       "      <th>status</th>\n",
       "      <th>release_date</th>\n",
       "      <th>revenue</th>\n",
       "      <th>runtime</th>\n",
       "      <th>adult</th>\n",
       "      <th>backdrop_path</th>\n",
       "      <th>...</th>\n",
       "      <th>original_language</th>\n",
       "      <th>original_title</th>\n",
       "      <th>overview</th>\n",
       "      <th>popularity</th>\n",
       "      <th>poster_path</th>\n",
       "      <th>tagline</th>\n",
       "      <th>genres</th>\n",
       "      <th>production_companies</th>\n",
       "      <th>production_countries</th>\n",
       "      <th>spoken_languages</th>\n",
       "    </tr>\n",
       "  </thead>\n",
       "  <tbody>\n",
       "    <tr>\n",
       "      <th>0</th>\n",
       "      <td>27205</td>\n",
       "      <td>Inception</td>\n",
       "      <td>8.364</td>\n",
       "      <td>34495</td>\n",
       "      <td>Released</td>\n",
       "      <td>2010-07-15</td>\n",
       "      <td>825532764</td>\n",
       "      <td>148</td>\n",
       "      <td>False</td>\n",
       "      <td>/8ZTVqvKDQ8emSGUEMjsS4yHAwrp.jpg</td>\n",
       "      <td>...</td>\n",
       "      <td>en</td>\n",
       "      <td>Inception</td>\n",
       "      <td>Cobb, a skilled thief who commits corporate es...</td>\n",
       "      <td>83.952</td>\n",
       "      <td>/oYuLEt3zVCKq57qu2F8dT7NIa6f.jpg</td>\n",
       "      <td>Your mind is the scene of the crime.</td>\n",
       "      <td>Action, Science Fiction, Adventure</td>\n",
       "      <td>Legendary Pictures, Syncopy, Warner Bros. Pict...</td>\n",
       "      <td>United Kingdom, United States of America</td>\n",
       "      <td>English, French, Japanese, Swahili</td>\n",
       "    </tr>\n",
       "    <tr>\n",
       "      <th>1</th>\n",
       "      <td>157336</td>\n",
       "      <td>Interstellar</td>\n",
       "      <td>8.417</td>\n",
       "      <td>32571</td>\n",
       "      <td>Released</td>\n",
       "      <td>2014-11-05</td>\n",
       "      <td>701729206</td>\n",
       "      <td>169</td>\n",
       "      <td>False</td>\n",
       "      <td>/pbrkL804c8yAv3zBZR4QPEafpAR.jpg</td>\n",
       "      <td>...</td>\n",
       "      <td>en</td>\n",
       "      <td>Interstellar</td>\n",
       "      <td>The adventures of a group of explorers who mak...</td>\n",
       "      <td>140.241</td>\n",
       "      <td>/gEU2QniE6E77NI6lCU6MxlNBvIx.jpg</td>\n",
       "      <td>Mankind was born on Earth. It was never meant ...</td>\n",
       "      <td>Adventure, Drama, Science Fiction</td>\n",
       "      <td>Legendary Pictures, Syncopy, Lynda Obst Produc...</td>\n",
       "      <td>United Kingdom, United States of America</td>\n",
       "      <td>English</td>\n",
       "    </tr>\n",
       "    <tr>\n",
       "      <th>2</th>\n",
       "      <td>155</td>\n",
       "      <td>The Dark Knight</td>\n",
       "      <td>8.512</td>\n",
       "      <td>30619</td>\n",
       "      <td>Released</td>\n",
       "      <td>2008-07-16</td>\n",
       "      <td>1004558444</td>\n",
       "      <td>152</td>\n",
       "      <td>False</td>\n",
       "      <td>/nMKdUUepR0i5zn0y1T4CsSB5chy.jpg</td>\n",
       "      <td>...</td>\n",
       "      <td>en</td>\n",
       "      <td>The Dark Knight</td>\n",
       "      <td>Batman raises the stakes in his war on crime. ...</td>\n",
       "      <td>130.643</td>\n",
       "      <td>/qJ2tW6WMUDux911r6m7haRef0WH.jpg</td>\n",
       "      <td>Welcome to a world without rules.</td>\n",
       "      <td>Drama, Action, Crime, Thriller</td>\n",
       "      <td>DC Comics, Legendary Pictures, Syncopy, Isobel...</td>\n",
       "      <td>United Kingdom, United States of America</td>\n",
       "      <td>English, Mandarin</td>\n",
       "    </tr>\n",
       "  </tbody>\n",
       "</table>\n",
       "<p>3 rows × 23 columns</p>\n",
       "</div>"
      ],
      "text/plain": [
       "       id            title  vote_average  vote_count    status release_date  \\\n",
       "0   27205        Inception         8.364       34495  Released   2010-07-15   \n",
       "1  157336     Interstellar         8.417       32571  Released   2014-11-05   \n",
       "2     155  The Dark Knight         8.512       30619  Released   2008-07-16   \n",
       "\n",
       "      revenue  runtime  adult                     backdrop_path  ...  \\\n",
       "0   825532764      148  False  /8ZTVqvKDQ8emSGUEMjsS4yHAwrp.jpg  ...   \n",
       "1   701729206      169  False  /pbrkL804c8yAv3zBZR4QPEafpAR.jpg  ...   \n",
       "2  1004558444      152  False  /nMKdUUepR0i5zn0y1T4CsSB5chy.jpg  ...   \n",
       "\n",
       "   original_language   original_title  \\\n",
       "0                 en        Inception   \n",
       "1                 en     Interstellar   \n",
       "2                 en  The Dark Knight   \n",
       "\n",
       "                                            overview popularity  \\\n",
       "0  Cobb, a skilled thief who commits corporate es...     83.952   \n",
       "1  The adventures of a group of explorers who mak...    140.241   \n",
       "2  Batman raises the stakes in his war on crime. ...    130.643   \n",
       "\n",
       "                        poster_path  \\\n",
       "0  /oYuLEt3zVCKq57qu2F8dT7NIa6f.jpg   \n",
       "1  /gEU2QniE6E77NI6lCU6MxlNBvIx.jpg   \n",
       "2  /qJ2tW6WMUDux911r6m7haRef0WH.jpg   \n",
       "\n",
       "                                             tagline  \\\n",
       "0               Your mind is the scene of the crime.   \n",
       "1  Mankind was born on Earth. It was never meant ...   \n",
       "2                  Welcome to a world without rules.   \n",
       "\n",
       "                               genres  \\\n",
       "0  Action, Science Fiction, Adventure   \n",
       "1   Adventure, Drama, Science Fiction   \n",
       "2      Drama, Action, Crime, Thriller   \n",
       "\n",
       "                                production_companies  \\\n",
       "0  Legendary Pictures, Syncopy, Warner Bros. Pict...   \n",
       "1  Legendary Pictures, Syncopy, Lynda Obst Produc...   \n",
       "2  DC Comics, Legendary Pictures, Syncopy, Isobel...   \n",
       "\n",
       "                       production_countries  \\\n",
       "0  United Kingdom, United States of America   \n",
       "1  United Kingdom, United States of America   \n",
       "2  United Kingdom, United States of America   \n",
       "\n",
       "                     spoken_languages  \n",
       "0  English, French, Japanese, Swahili  \n",
       "1                             English  \n",
       "2                   English, Mandarin  \n",
       "\n",
       "[3 rows x 23 columns]"
      ]
     },
     "execution_count": 3,
     "metadata": {},
     "output_type": "execute_result"
    }
   ],
   "source": [
    "df = pd.read_csv(\"TMDB_movie_dataset_v11.csv\")\n",
    "df.head(3)"
   ]
  },
  {
   "cell_type": "markdown",
   "id": "1222639b-1a1b-4eea-842b-8ff2baa4decd",
   "metadata": {
    "id": "1222639b-1a1b-4eea-842b-8ff2baa4decd"
   },
   "source": [
    "### 2.1 Có bao nhiêu hàng và bao nhiêu cột?"
   ]
  },
  {
   "cell_type": "code",
   "execution_count": 4,
   "id": "02c076fd-9127-4b37-a2af-d00bee7905fc",
   "metadata": {
    "colab": {
     "base_uri": "https://localhost:8080/"
    },
    "id": "02c076fd-9127-4b37-a2af-d00bee7905fc",
    "outputId": "61c7f712-0e73-454a-ca01-b5cf8552a3e8",
    "tags": []
   },
   "outputs": [
    {
     "name": "stdout",
     "output_type": "stream",
     "text": [
      "Dữ liệu có 969743 hàng và 23 cột.\n"
     ]
    }
   ],
   "source": [
    "row, col = df.shape[0], df.shape[1]\n",
    "print('Dữ liệu có', row, 'hàng và', col, 'cột.')"
   ]
  },
  {
   "cell_type": "markdown",
   "id": "8ff9a821-6de3-4474-89db-ad6988d7ec1a",
   "metadata": {
    "id": "8ff9a821-6de3-4474-89db-ad6988d7ec1a"
   },
   "source": [
    "###  2.2 Ý nghĩa của mỗi hàng là gì?"
   ]
  },
  {
   "cell_type": "markdown",
   "id": "1d38d92b-12fd-445e-862e-cfe059f407f9",
   "metadata": {
    "id": "1d38d92b-12fd-445e-862e-cfe059f407f9"
   },
   "source": []
  },
  {
   "cell_type": "markdown",
   "id": "0350da5f-c4dc-417a-bafb-c2d1769e1203",
   "metadata": {
    "id": "0350da5f-c4dc-417a-bafb-c2d1769e1203"
   },
   "source": [
    "### 2.3 Có 'hàng trùng lặp' không?"
   ]
  },
  {
   "cell_type": "code",
   "execution_count": null,
   "id": "05251f13-a3b3-4989-b7fa-59bfc1fb55d3",
   "metadata": {
    "id": "05251f13-a3b3-4989-b7fa-59bfc1fb55d3"
   },
   "outputs": [],
   "source": []
  },
  {
   "cell_type": "markdown",
   "id": "3e6a3e3f-e920-4f5c-b285-e2e648bc67eb",
   "metadata": {
    "id": "3e6a3e3f-e920-4f5c-b285-e2e648bc67eb"
   },
   "source": [
    "### 2.4 Ý nghĩa của từng cột là gì?"
   ]
  },
  {
   "cell_type": "code",
   "execution_count": null,
   "id": "-xzlFun2GOCc",
   "metadata": {
    "colab": {
     "base_uri": "https://localhost:8080/"
    },
    "id": "-xzlFun2GOCc",
    "outputId": "531be48f-9bb7-44ad-d5fe-cce48fd65131",
    "tags": []
   },
   "outputs": [],
   "source": [
    "df.columns"
   ]
  },
  {
   "cell_type": "markdown",
   "id": "96acda46-7085-4161-b5aa-eb11d96d0c5e",
   "metadata": {
    "id": "96acda46-7085-4161-b5aa-eb11d96d0c5e"
   },
   "source": [
    "**Ý nghĩa từng cột**:\n",
    "\n",
    "01. `id`: TMDB ID.\n",
    "02. `title`: Tiêu đề của phim (bằng tiếng Anh).\n",
    "03. `vote_average`: Điểm đánh giá trung bình trên trang TMDB.\n",
    "04. `vote_count`: Số lượng đánh giá.\n",
    "05. `status`:  Tình trạng bộ phim (đã công chiếu, lên kế hoạch công chiếu, ...).\n",
    "06. `release_date`: Ngày công chiếu phim.\n",
    "07. `revenue`: Doanh thu phim.\n",
    "08. `runtime`: Thời lượng của phim.\n",
    "09. `adult`: Bộ phim chỉ phù hợp cho người lớn (trên 18 tuổi).\n",
    "10. `backdrop_path`: Đường dẫn đến ảnh nền phim.\n",
    "12. `budget`: Kinh phí thực hiện phim.\n",
    "13. `homepage`: Trang web chính thức của bộ phim.\n",
    "14. `imdb_id`: IMDB ID.\n",
    "15. `original_language`: Ngôn ngữ gốc của phim.\n",
    "16. `original_title`: Tiêu đề gốc bộ phim.\n",
    "17. `overview`: Mô tả ngắn về bộ phim.\n",
    "18. `popularity`: Điểm đánh giá mức độ phổ biến của phim.\n",
    "19. `poster_path`: Đường dẫn đến poster phim.\n",
    "20. `tagline`:  Khẩu hiệu phim.\n",
    "21. `genres`: Thể loại phim.\n",
    "22. `production_companies`: Công ty sản xuất.\n",
    "23. `production_countries`: Nước sản xuất.\n",
    "24. `spoken_languages`: Ngôn ngữ sử dụng trong phim."
   ]
  },
  {
   "cell_type": "markdown",
   "id": "c521421b-7340-47f2-8cc7-714ef0e9fd96",
   "metadata": {
    "id": "c521421b-7340-47f2-8cc7-714ef0e9fd96",
    "tags": []
   },
   "source": [
    "### 2.5 Kiểu dữ liệu hiện tại của mỗi cột là gì? Có cột nào có kiểu dữ liệu không phù hợp không?"
   ]
  },
  {
   "cell_type": "code",
   "execution_count": null,
   "id": "cba77753-b926-48aa-bfef-fcf518012b5e",
   "metadata": {
    "id": "cba77753-b926-48aa-bfef-fcf518012b5e"
   },
   "outputs": [],
   "source": []
  },
  {
   "cell_type": "markdown",
   "id": "e0ce71cf-302a-4ad5-83e6-4c37fc686ace",
   "metadata": {
    "id": "e0ce71cf-302a-4ad5-83e6-4c37fc686ace",
    "tags": []
   },
   "source": [
    "### 2.6 Với mỗi cột số, các giá trị được phân bố như thế nào?\n",
    "- Phần trăm giá trị còn thiếu là bao nhiêu?\n",
    "- Tối thiểu? tối đa? Chúng có bất thường không?"
   ]
  },
  {
   "cell_type": "code",
   "execution_count": null,
   "id": "9aacd11b-59fb-458b-a76f-be6fcaf36c33",
   "metadata": {
    "id": "9aacd11b-59fb-458b-a76f-be6fcaf36c33"
   },
   "outputs": [],
   "source": []
  },
  {
   "cell_type": "markdown",
   "id": "5eb4f5aa-774e-4394-bd09-382b973c1063",
   "metadata": {
    "id": "5eb4f5aa-774e-4394-bd09-382b973c1063",
    "tags": []
   },
   "source": [
    "### 2.7 Với mỗi cột phân loại, các giá trị được phân bổ như thế nào?\n",
    "- Phần trăm giá trị còn thiếu là bao nhiêu?\n",
    "- Có bao nhiêu giá trị khác nhau? Hiển thị một số giá trị đó.\n",
    "- Chúng có bất thường không?"
   ]
  },
  {
   "cell_type": "code",
   "execution_count": null,
   "id": "yK04GUG7jee8",
   "metadata": {
    "colab": {
     "base_uri": "https://localhost:8080/",
     "height": 250
    },
    "id": "yK04GUG7jee8",
    "outputId": "1cab4707-8826-4c1b-e5a7-133855ecf1a5",
    "tags": []
   },
   "outputs": [],
   "source": [
    "object_df = df.select_dtypes(include='object')\n",
    "obj_col_df = pd.DataFrame( index=['missing_ratio', 'diff_value', 'values'], columns=object_df.columns)\n",
    "\n",
    "obj_col_df.loc['missing_ratio'] = (object_df.isna().sum() / object_df.size) *100\n",
    "obj_col_df.loc['diff_value']    = object_df.nunique()\n",
    "obj_col_df.loc['values']        = [object_df[col].sample(min(5, obj_col_df.loc['diff_value'][col])).tolist() for col in object_df.columns]\n",
    "\n",
    "obj_col_df"
   ]
  },
  {
   "cell_type": "markdown",
   "id": "207a9553-0bc1-43e5-9166-e50438c5db75",
   "metadata": {
    "id": "207a9553-0bc1-43e5-9166-e50438c5db75",
    "jp-MarkdownHeadingCollapsed": true,
    "tags": []
   },
   "source": [
    "# **Phase 3**: Preprocessing & Asking Meaningful questions\n",
    "Yêu cầu:\n",
    "- Số lượng câu hỏi đặt ra cần lớn hơn hoặc bằng số lượng thành viên ($\\ge 3$)\n",
    "- Câu hỏi đặt ra cần có ý nghĩa (tác dụng của việc tìm kiếm câu trả lời cho câu hỏi đó) và không được quá dễ 🙂\n",
    "- Chú ý đến chất lượng của từng câu hỏi, không phải số lượng câu hỏi.\n",
    "- Trong file Notebook, với mỗi câu hỏi cần thể hiện được:\n",
    "    - Nội dung câu hỏi\n",
    "    - Ý nghĩa của câu hỏi"
   ]
  },
  {
   "cell_type": "markdown",
   "id": "qYGzu1JMrBMk",
   "metadata": {
    "id": "qYGzu1JMrBMk",
    "tags": []
   },
   "source": [
    "## **3.0** Preprocessing"
   ]
  },
  {
   "cell_type": "markdown",
   "id": "9cf45be8-2694-4c9a-91a6-40a45755885b",
   "metadata": {},
   "source": [
    "#### Remove duplicated/meaningless rows and columns"
   ]
  },
  {
   "cell_type": "markdown",
   "id": "933b17a4-86d2-49b1-8595-498712b7978a",
   "metadata": {},
   "source": [
    "Xóa các dòng trùng lặp: ở phần 2.3 ta đã phát hiện dữ liệu có các dòng trùng lặp, vì vậy ta sẽ tiến hành xóa các dòng đó."
   ]
  },
  {
   "cell_type": "code",
   "execution_count": null,
   "id": "9833ba73-2444-4d0d-8fb8-58d0b64a5f7d",
   "metadata": {},
   "outputs": [],
   "source": [
    "df.drop_duplicates(inplace=True)"
   ]
  },
  {
   "cell_type": "markdown",
   "id": "9ccee3df-01ce-4f34-a5f7-c2d498d3b238",
   "metadata": {},
   "source": [
    "Xóa các cột không phù hợp (ở đây ta tiến hành xóa các cột không sử dụng trong quá trình xử lí dữ liệu và đặt câu hỏi.<br>\n",
    "Ta tiến hành xóa các cột:<br>\n",
    "- `backdrop_path`: Đường dẫn đến ảnh nền phim - Do để hiển thị ta đã có cột `poster_path`\n",
    "- `homepage`: đường dẫn đến trang web chính thức của phim.\n",
    "- `imdb_id`: IMDB ID - Do quá trình xử lí không lấy các thông tin trên IMDB."
   ]
  },
  {
   "cell_type": "code",
   "execution_count": null,
   "id": "296721ca-6496-4a91-a9dd-cf0e499fbcf4",
   "metadata": {},
   "outputs": [],
   "source": [
    "df = df.drop(['backdrop_path', 'homepage', 'imdb_id'], axis=1)"
   ]
  },
  {
   "cell_type": "markdown",
   "id": "464e7101-f904-46fd-9dfb-620e0b834ec1",
   "metadata": {},
   "source": [
    "Vì có chứa các thông tin không phù hợp, ta sẽ loại bỏ các dòng dữ liệu của cột `adult` có giá trị **True** và sau đó xóa cột này đi."
   ]
  },
  {
   "cell_type": "code",
   "execution_count": null,
   "id": "a9c039f2-bff6-4c2f-8d1d-d3c44583bc92",
   "metadata": {},
   "outputs": [],
   "source": [
    "df = df[df['adult'] == False]\n",
    "df = df.drop('adult', axis=1)"
   ]
  },
  {
   "cell_type": "markdown",
   "id": "aa5d8b15-0a8c-43d0-9991-29e1f979aa90",
   "metadata": {
    "id": "RXaimSB-rIA7"
   },
   "source": [
    "#### Handle missing data & Convert data"
   ]
  },
  {
   "cell_type": "code",
   "execution_count": null,
   "id": "35b0863d-4c3e-45fd-9977-88b70e8a9ac7",
   "metadata": {
    "tags": []
   },
   "outputs": [],
   "source": [
    "df.info()"
   ]
  },
  {
   "cell_type": "code",
   "execution_count": null,
   "id": "7c117803-c7b5-4964-9b8f-b1acd32c6e5d",
   "metadata": {},
   "outputs": [],
   "source": []
  },
  {
   "cell_type": "markdown",
   "id": "ca4c7277-9beb-4318-9c43-9c6383bab8de",
   "metadata": {},
   "source": [
    "#### Visualize some data\n",
    "Ở phần này ta sẽ biểu diễn một vài dữ liệu được cung cấp và đưa ra các nhận xét."
   ]
  },
  {
   "cell_type": "markdown",
   "id": "2fd6ecb1-f515-4981-a295-8b4484e27c31",
   "metadata": {},
   "source": [
    "**Số lượng phim được sản xuất qua các năm.**"
   ]
  },
  {
   "cell_type": "code",
   "execution_count": null,
   "id": "4f08b43a-6601-492e-ad38-42249ce2de3a",
   "metadata": {},
   "outputs": [],
   "source": [
    "movies_per_year = df['release_date'].dt.year.value_counts().sort_index()\n",
    "current_year = pd.to_datetime('now').year\n",
    "movies_per_year = movies_per_year[movies_per_year.index <= current_year]\n",
    "\n",
    "#Show\n",
    "plt.figure(figsize=(12, 6))\n",
    "plt.bar(movies_per_year.index, movies_per_year.values, color='skyblue')\n",
    "plt.xlabel('Year')\n",
    "plt.ylabel('Number of Movies')\n",
    "plt.title('Number of Movies Released per Year (up to {})'.format(current_year))\n",
    "plt.show()"
   ]
  },
  {
   "cell_type": "markdown",
   "id": "96c7772c-5218-4de0-8d07-658716e113a7",
   "metadata": {},
   "source": [
    "**Word cloud từ title (tiêu đề) của các bộ phim**<br>\n",
    "*Nhận xét*:\n",
    "- Ta thấy các chủ đề \"Love - Tình yêu\", \"Live, Life - Cuộc sống\" là hai chủ đề được các bộ phim khai thác nhiều nhất.\n",
    "- Tiếp theo đó là các chủ đề được khai thác nhiều như: Dream, Christmas, Time, World, ..."
   ]
  },
  {
   "cell_type": "code",
   "execution_count": null,
   "id": "9f18022e-2082-46a0-8676-87a23dd6857d",
   "metadata": {},
   "outputs": [],
   "source": [
    "wordcloud = WordCloud(width=800, height=400, background_color='white').generate(' '.join(df['title'].dropna()))\n",
    "\n",
    "plt.figure(figsize=(10, 5))\n",
    "plt.imshow(wordcloud, interpolation='bilinear')\n",
    "plt.axis('off')\n",
    "plt.title('Word Cloud of Movie Titles')\n",
    "plt.show()"
   ]
  },
  {
   "cell_type": "markdown",
   "id": "-O0R1fuLrIkU",
   "metadata": {
    "id": "-O0R1fuLrIkU",
    "tags": []
   },
   "source": [
    "## **3.1** Asking meaningful question"
   ]
  },
  {
   "cell_type": "markdown",
   "id": "940f3225-1255-469b-8b7f-74ec37d0438b",
   "metadata": {
    "id": "940f3225-1255-469b-8b7f-74ec37d0438b",
    "tags": []
   },
   "source": [
    "<table style='float:left;'>\n",
    "    <tr>\n",
    "        <th style='text-align:center;'>STT</th>\n",
    "        <th style='text-align:center;'>Nội dung</th>\n",
    "        <th style='text-align:center;'>Trình bày</th>\n",
    "    </tr>\n",
    "    <tr>\n",
    "        <td style='text-align:center;'>Câu 1</td>\n",
    "        <td style='text-align:left;'>Những yếu tố nào là đặc trưng của 1 bộ phim có doanh thu cao?</td>\n",
    "        <td style='text-align:center;'><a href='#cauhoi_1'>C1</a></td>\n",
    "    </tr>\n",
    "    <tr>\n",
    "        <td style='text-align:center;'>Câu 2</td>\n",
    "        <td style='text-align:left;'>Thể loại phim nào được yêu thích nhất qua các năm trong giai đoạn từ 2000-2023?</td>\n",
    "        <td style='text-align:center;'><a href='#cauhoi_2'>C2</a></td>\n",
    "    </tr>\n",
    "    <tr>\n",
    "        <td style='text-align:center;'>Câu 3</td>\n",
    "        <td style='text-align:left;'>Cho biết 10 nước có tổng số phim nhiều nhất ở TMDB qua từng năm là những nước nào?</td>\n",
    "        <td style='text-align:center;'><a href='#cauhoi_3'>C3</a></td>\n",
    "    </tr>\n",
    "    <tr>\n",
    "        <td style='text-align:center;'>Câu 4</td>\n",
    "        <td style='text-align:left;'>5 công ty có doanh thu lớn nhất tập trung sản xuất các thể loại nào?</td>\n",
    "        <td style='text-align:center;'><a href='#cauhoi_4'>C4</a></td>\n",
    "    </tr>\n",
    "    <tr>\n",
    "        <td style='text-align:center;'>Câu 5</td>\n",
    "        <td style='text-align:left;'>Với mỗi phim mà người dùng tìm kiếm hoặc đã xem, ta cần đề xuất thêm các phim nào với nội dung/thể loại/... tương tự cho người dùng?</td>\n",
    "        <td style='text-align:center;'><a href='#cauhoi_5'>C5</a></td>\n",
    "    </tr>\n",
    "</table>"
   ]
  },
  {
   "cell_type": "markdown",
   "id": "575c1eec-3e1b-4cd7-bf0a-67561583a0c1",
   "metadata": {
    "id": "575c1eec-3e1b-4cd7-bf0a-67561583a0c1"
   },
   "source": [
    "# **Phase 4**: Analyzing data to answer each question"
   ]
  },
  {
   "cell_type": "markdown",
   "id": "5d5b5813-8bae-46ce-a320-fee0e03566bd",
   "metadata": {
    "id": "5d5b5813-8bae-46ce-a320-fee0e03566bd",
    "tags": []
   },
   "source": [
    "### **Câu hỏi 1**: ghi nội dung ở đây<a name=\"cauhoi_1\"></a>\n",
    "\n",
    "**Ý nghĩa:**"
   ]
  },
  {
   "cell_type": "code",
   "execution_count": null,
   "id": "de41be86-6370-4240-8c22-6b0d29b0beb9",
   "metadata": {
    "id": "de41be86-6370-4240-8c22-6b0d29b0beb9"
   },
   "outputs": [],
   "source": []
  },
  {
   "cell_type": "markdown",
   "id": "637ef9ea-9a76-4e88-8354-28aa8e9f205e",
   "metadata": {
    "id": "637ef9ea-9a76-4e88-8354-28aa8e9f205e",
    "tags": []
   },
   "source": [
    "### **Câu hỏi 2**: ghi nội dung ở đây<a name=\"cauhoi_2\"></a>\n",
    "\n",
    "**Ý nghĩa:**"
   ]
  },
  {
   "cell_type": "code",
   "execution_count": null,
   "id": "5e55d712-8a81-420c-899d-89f907fbb133",
   "metadata": {
    "id": "5e55d712-8a81-420c-899d-89f907fbb133"
   },
   "outputs": [],
   "source": []
  },
  {
   "cell_type": "markdown",
   "id": "64d757b1-4496-4e37-9c64-61d4fd452c07",
   "metadata": {
    "id": "64d757b1-4496-4e37-9c64-61d4fd452c07"
   },
   "source": [
    "### **Câu hỏi 3**: ghi nội dung ở đây<a name=\"cauhoi_3\"></a>\n",
    "\n",
    "**Ý nghĩa:**"
   ]
  },
  {
   "cell_type": "code",
   "execution_count": null,
   "id": "4b8f8ea9-b4aa-447e-82d1-97247f45d8f2",
   "metadata": {},
   "outputs": [],
   "source": []
  },
  {
   "cell_type": "markdown",
   "id": "098d013f-c20b-45a6-be19-8902f5a6683a",
   "metadata": {},
   "source": [
    "### **Câu hỏi 4**: ghi nội dung ở đây<a name=\"cauhoi_4\"></a>\n",
    "\n",
    "**Ý nghĩa:**"
   ]
  },
  {
   "cell_type": "code",
   "execution_count": null,
   "id": "25b6079c-3d0f-477d-ad21-968c6c0c17e2",
   "metadata": {},
   "outputs": [],
   "source": []
  },
  {
   "cell_type": "markdown",
   "id": "2245e665",
   "metadata": {},
   "source": [
    "### **Câu hỏi 5**: Với mỗi phim mà người dùng tìm kiếm hoặc đã xem, ta cần đề xuất thêm các phim nào với nội dung/thể loại/... tương tự cho người dùng?<a name=\"cauhoi_5\"></a>\n",
    "\n",
    "**Ý nghĩa:** Việc đưa ra phương pháp tiếp cận để trả lời được câu hỏi sẽ mang lại lợi ích cho người dùng và hơn nữa là lợi ích lớn cho nền tảng chiếu phim/nhà sản xuất phim.\n",
    "- Đối với người dùng: việc gợi ý giúp người dùng dễ dàng tìm kiếm những bộ phim mới mà họ có thể quan tâm dựa trên sở thích và lịch sử xem phim trước đó. Từ đó giúp tiết kiệm thời gian tìm kiếm trong hàng ngàn bộ phim, nâng cao trải nghiệm và tạo điều kiện tiếp cận những bộ phim mà có thể người dùng chưa biết.\n",
    "- Đối với nền tảng phân phối phim: Hệ thống gợi ý có thể tăng cường tính tương tác giữa người dùng và nền tảng. Việc cung cấp gợi ý phim chính xác giúp xây dựng ấn tượng tích cực giữa người dùng và nền tảng, tăng khả năng họ trở lại để xem thêm nhiều nội dung khác. Giống như đối với lĩnh vực âm nhạc, Spotify bằng khả năng đưa ra gợi ý chính xác giúp tăng khả năng lôi kéo và giữ chân người dùng. Ngoài ra, việc giúp người dùng tiếp cận với càng nhiều phim càng tốt (những phim phù hợp với sở thích) sẽ mang lợi nguồn lợi nhuận cho nền tảng đó.\n",
    "\n",
    "**Thực hiện**: Khi xây dựng một hệ thống gợi ý (recommend) phim, ta có thể có hai hướng tiếp cận như sau:\n",
    "- *Demographic Filtering*: Đưa ra các đề xuất chung cho mọi người dùng. Việc này dựa trên mức độ phổ biến của phim/thể loại phim, tức là các phim được đánh giá cao hay có độ phổ biến lớn sẽ được đề xuất cho người dùng. Có thể lấy ví dụ các Youtube Trending hay Global Top 10 Netflix, ... Hướng tiếp cận này quá đơn giản (do mỗi người đều có sở thích khác nhau) và chỉ đưa ra các phim có khả năng phù hợp cho đại chúng.\n",
    "- *Content Based Filtering*: Đề xuất các phim có nội dung/thể loại/... tương tự dựa trên bộ phim người dùng tìm kiếm. Ý tưởng đơn giản là nếu người dùng thích một bộ phim thì có khả năng người dùng sẽ thích các bộ phim tương tự vậy.\n",
    "Lúc này, ta sẽ đi qua cả hai hướng tiếp cận để cài đặt cho hệ thống gợi ý ở đây."
   ]
  },
  {
   "cell_type": "markdown",
   "id": "e4678424",
   "metadata": {},
   "source": [
    "#### 5.1 **Demographic Filtering**: gợi ý phim dựa trên đánh giá trung bình"
   ]
  },
  {
   "cell_type": "markdown",
   "id": "cccf6f41",
   "metadata": {},
   "source": [
    "Tạo mới dataframe mới df3 với các thông tin cần thiết."
   ]
  },
  {
   "cell_type": "code",
   "execution_count": null,
   "id": "2cab38a6",
   "metadata": {},
   "outputs": [],
   "source": [
    "#selected_columns = ['id', 'title', 'release_date', 'vote_average', 'vote_count', 'poster_path', 'adult', 'original_language', 'overview', 'tagline', 'genres', 'production_companies', 'production_countries', 'spoken_languages']\n",
    "selected_columns = ['id', 'title', 'release_date', 'vote_average', 'vote_count', 'poster_path', 'original_language', 'overview', 'tagline', 'genres', 'production_companies', 'production_countries', 'spoken_languages']\n",
    "df3 = df[selected_columns]\n",
    "df3 = df3.fillna('')\n",
    "df3.head(2)"
   ]
  },
  {
   "cell_type": "markdown",
   "id": "d76076f6",
   "metadata": {},
   "source": [
    "Tiếp theo, ta tiến hành tính điểm cho mỗi bộ phim để sắp xếp các phim theo thứ tự đánh giá cao nhất đến thấp nhất.<br>\n",
    "Ở đây, để sắp xếp các bộ phim theo đánh giá, ta không thể sử dụng giá trị `vote_average` để đảm bảo tính công bằng (Ví dụ một bộ phim có điểm rất cao nhưng số vote lại rất ít sẽ không thể so sánh với một bộ phim có điểm thấp hơn nhưng số vote rất cao). Do đó, ta sẽ sử dụng weighted rating (điểm đánh giá có trọng số) được tính như sau: $$\\text{Weighted Rating: }wr = \\left(\\dfrac{v}{v+m}\\times R\\right)\\left(\\dfrac{m}{v+m}\\times C\\right)$$\n",
    "Trong đó:\n",
    "+ $v$: số lượng vote `vote_count`\n",
    "+ $m$: số lượng vote ít nhất cần thiết để có thể tính $wr$.\n",
    "+ $R$: điểm vote trung bình `vote_average`.\n",
    "+ $C$: điểm vote trung bình toàn bộ dataset.\n",
    "<br>\n",
    "\n",
    "Đầu tiên ta tính giá trị $C$ và xác định giá trị $m$"
   ]
  },
  {
   "cell_type": "code",
   "execution_count": null,
   "id": "213b3655",
   "metadata": {},
   "outputs": [],
   "source": [
    "#Giá trị vote trung bình toàn bộ dataset\n",
    "C = df3.loc[:, 'vote_average'].mean()\n",
    "#Xác định giá trị m: để được xếp là phim phổ biến thì nó phải có số vote hơn 98% số phim\n",
    "m = df3.loc[:, 'vote_count'].quantile(0.98)"
   ]
  },
  {
   "cell_type": "markdown",
   "id": "adb2ebce",
   "metadata": {},
   "source": [
    "Ta lọc các phim đáp ứng điều kiện và tính Weighted Rating ($wr$)."
   ]
  },
  {
   "cell_type": "code",
   "execution_count": null,
   "id": "e6701720",
   "metadata": {},
   "outputs": [],
   "source": [
    "best_rating_movie = df3.copy().loc[df3['vote_count'] >= m]\n",
    "best_rating_movie['weighted_vote'] = (best_rating_movie['vote_count']/(best_rating_movie['vote_count']+m)*best_rating_movie['vote_average']) + (m/(best_rating_movie['vote_count']+m)*C)\n",
    "best_rating_movie = best_rating_movie.sort_values('weighted_vote', ascending=False)"
   ]
  },
  {
   "cell_type": "code",
   "execution_count": null,
   "id": "8108f2f5",
   "metadata": {},
   "outputs": [],
   "source": [
    "#show top movie\n",
    "def gettop_movie(year=None):\n",
    "    if year is None:\n",
    "        best_rating_movie = df3.copy().loc[df3['vote_count'] >= m]\n",
    "    else:\n",
    "        best_rating_movie = df3[df3['release_date'].dt.year == int(year)].copy().loc[df3['vote_count'] >= m]\n",
    "    #\n",
    "    best_rating_movie['weighted_vote'] = (best_rating_movie['vote_count']/(best_rating_movie['vote_count']+m)*best_rating_movie['vote_average']) + (m/(best_rating_movie['vote_count']+m)*C)\n",
    "    best_rating_movie = best_rating_movie.sort_values('weighted_vote', ascending=False)\n",
    "    return best_rating_movie\n",
    "    \n",
    "def showtop_movie(movie = 5, year = None):\n",
    "    best_rating_movie = gettop_movie(year)\n",
    "    fig, ax = plt.subplots(1, movie , figsize=(25,10))\n",
    "    ax = ax.flatten()\n",
    "    for i in range(movie):\n",
    "        try:\n",
    "            ax[i].axis('off')\n",
    "            ax[i].set_title(best_rating_movie.iloc[i].title, fontsize=22)\n",
    "            a = io.imread('https://image.tmdb.org/t/p/w500/' + best_rating_movie.iloc[i].poster_path)\n",
    "            ax[i].imshow(a)\n",
    "        except: pass\n",
    "    fig.tight_layout()\n",
    "    if year is None:\n",
    "        fig.suptitle('Top ' + str(movie) + ' movies of all time', fontsize = 28)\n",
    "    else:\n",
    "        fig.suptitle('Top ' + str(movie) + ' movies of ' + str(year), fontsize = 28)\n",
    "    fig.show()"
   ]
  },
  {
   "cell_type": "code",
   "execution_count": null,
   "id": "d5f37767",
   "metadata": {},
   "outputs": [],
   "source": [
    "#Top 5 phim phổ biển trong toàn bộ các phim\n",
    "showtop_movie(5)"
   ]
  },
  {
   "cell_type": "code",
   "execution_count": null,
   "id": "c3f1e52e",
   "metadata": {},
   "outputs": [],
   "source": [
    "#Top 5 phim phổ biển nhất năm 2023\n",
    "showtop_movie(5, 2023)"
   ]
  },
  {
   "cell_type": "markdown",
   "id": "b560099e",
   "metadata": {},
   "source": [
    "#### 5.2 **Content Based Filtering**: gợi ý phim dựa trên mức độ tương đồng với tìm kiếm."
   ]
  },
  {
   "cell_type": "markdown",
   "id": "d5d68aa7",
   "metadata": {},
   "source": [
    "- Đầu tiên ta lựa chọn các cột có liên quan đến thông tin phim nhằm đánh giá độ tương đồng để dự đoán những phim mà tương đồng với sở thích người dùng. Ta sẽ lựa chọn các yếu tố để rút trích đặc trưng, bao gồm: [`adult`, `original_language`, `overview`, `tagline`, `genres`, `production_companies`, `production_countries`, `spoken_languages`].\n",
    "- Việc đưa ra các yếu tố đó để đánh giá mức độ liên quan của các bộ phim có thể hiểu thông qua một vài ví dụ sau:\n",
    "    - Với thể loại phim hành động (genres), người ta thường sẽ thích các phim hành động âu mỹ (production_countries) tuy nhiên ở đây sẽ chia thành 2 kiểu, một kiểu sẽ thích các phim hành động không có quá nhiều yếu tố bạo lực (siêu anh hùng), một kiểu sẽ ưu thích các bộ phim bạo lực hơn và sẽ không phù hợp cho các lứa tuổi nhỏ (adult). \n",
    "    - Với các phim hoạt hình (genres), sẽ có người thích cách kể chuyện của Âu Mĩ (Pixar, Disney, ...) hoặc của Châu Á (Studio Ghibli).\n",
    "    - Với các phim gia đình, tình cảm, người ta cũng sẽ thường lựa chọn theo hai xu hương Âu-Mĩ (Pháp, Thụy Điển, ...) hoặc Châu Á (Hàn Quốc, Trung Quốc, Thái Lan, ...)\n",
    "    - Các phần như 'tagline', 'overview' cũng sẽ thể hiện một phần nào đó nội dung phim để ta có thể tìm kiếm những bộ có nội dung tương tự."
   ]
  },
  {
   "cell_type": "code",
   "execution_count": null,
   "id": "e2a0cebe",
   "metadata": {},
   "outputs": [],
   "source": [
    "selected_columns = ['original_language', 'overview', 'tagline', 'genres', 'production_companies', 'production_countries', 'spoken_languages']"
   ]
  },
  {
   "cell_type": "markdown",
   "id": "cd956638",
   "metadata": {},
   "source": [
    "Ta tạo cột `summary` nhằm tổng hợp tất cả thông tin từ các cột đã lựa chọn cho quá trình rút trích đặc trưng."
   ]
  },
  {
   "cell_type": "code",
   "execution_count": null,
   "id": "15e77718",
   "metadata": {},
   "outputs": [],
   "source": [
    "df3.loc[:, 'summary'] = ''\n",
    "df3.summary = df3.original_language + ' ' + df3.spoken_languages.apply(lambda x: ' '.join(x.split(','))) + ' ' + df3.overview + ' ' + df3.tagline  + ' ' + df3.genres.apply(lambda x: ' '.join(x.split(','))) + ' ' + df3.production_companies.apply(lambda x: ' '.join(x.split(','))) + ' ' + df3.production_countries.apply(lambda x: ' '.join(x.split(',')))\n",
    "df3.loc[:, 'summary'].head()"
   ]
  },
  {
   "cell_type": "markdown",
   "id": "02dd15b9",
   "metadata": {},
   "source": [
    "Trích xuất đặc trưng sử dụng TF-IDF.\n",
    "- TF-IDF viết tắt của Term Frequency – Inverse Document Frequency.\n",
    "- TF là tần suất xuất hiện của một từ trong một tập văn bản, một thước đo mức độ phổ biến của một từ trong văn bản đó. $$tf(t,d) = \\dfrac{n_t}{\\sum_k n_k}$$\n",
    "Trong đó:\n",
    "  + $tf(t,d)$: là giá trị TF (Term Frequency) hay tần suất xuất hiện của từ $t$ trong tập văn bản $d$.\n",
    "  + $n_t$: là số lần xuất hiện của từ $t$ trong tập văn bản.\n",
    "  + $\\sum_k n_k$: là tổng số từ trong tập văn bản.\n",
    "\n",
    "  Giá trị TF: Xác định tần suất sử dụng/xuất hiện của một từ, giá trị TF càng cao cho thấy từ đó xuất hiện nhiều lần trong tài liệu, đồng nghĩa với việc từ đó quan trọng trong văn bản đó.\n",
    "\n",
    "- IDF là một chỉ số dùng để đánh giá mức độ quan trọng của một từ trong một tập hợp văn bản. $$idf(t, D) = \\log\\dfrac{N}{|\\{d\\in D:t\\in d\\}|}$$\n",
    "Trong đó:\n",
    "  + $N$: tổng số văn bản trong tập văn bản (tổng số chuỗi trong ngữ liệu - corpus) và $N=|D|$.\n",
    "  + $|\\{d\\in D:t\\in d\\}|$: số lượng các văn bản (chuỗi) mà có sự xuất hiện của  từ $t$ và $d$ là một văn bản (chuỗi) trong tập các văn bản (ngữ liệu) $D$.\n",
    "  + Khi một từ không xuất hiện trong tập văn bản, thì sẽ xuất hiện trường hợp phép chia cho 0 (division-by-zero), do đó, ta có thể căn chỉnh mẫu thành: $|\\{d\\in D:t\\in d\\}|+1$.\n",
    "\n",
    "  Giá trị IDF: Giá trị IDF cao cho thấy từ đó không phổ biến trong toàn bộ tập dữ liệu, và do đó, nó có khả năng đặc biệt và quan trọng.\n",
    "\n",
    "- Khi đó, TF-IDF là việc kết hợp cả hai chỉ số trên: TF kết hợp với IDF tạo ra giá trị TF-IDF đánh giá được mức độ quan trọng của một từ không chỉ trong ngữ cảnh của một văn bản mà còn dựa trên độ hiếm của từ đó trong toàn bộ tập văn bản. Sự kết hợp của TF và IDF trong TF-IDF giúp cải thiện hiệu suất các tác vụ xử lý văn bản như tìm kiếm thông tin, phân loại, gợi ý và phân tích văn bản bằng cách đánh giá mức độ quan trọng của từng từ dựa trên tài liệu cụ thể và tập dữ liệu tổng thể. $$\\text{tf-idf} = tf\\times idf$$\n",
    "\n",
    "- Tuy nhiên, để đơn giản trong cài đặt, ta sử dụng hàm hỗ trợ bởi scikit-learn."
   ]
  },
  {
   "cell_type": "code",
   "execution_count": null,
   "id": "a3580a2e",
   "metadata": {},
   "outputs": [],
   "source": [
    "tfidf = TfidfVectorizer(stop_words='english')\n",
    "tfidf_matrix = tfidf.fit_transform(df3['summary'])\n",
    "tfidf_matrix.shape"
   ]
  },
  {
   "cell_type": "markdown",
   "id": "c8aed329",
   "metadata": {},
   "source": [
    "- Sau quá trình trích xuất đặc trưng, ta được vector TF-IDF được xây dựng dựa trên thông tin lấy từ các cột đã đề cập thể hiện cho từng bộ phim.\n",
    "- Chúng ta sẽ tính điểm tương đồng theo cặp cho tất cả các phim dựa trên TF-IDF vừa tính được và đề xuất phim dựa trên các đề xuất đó. Trong đó ta sử dụng điểm đánh giá tương đồng cosine similarity: $$\\text{similarity} = \\cos{(\\theta)} = \\dfrac{A.B}{||A||||B||}$$\n",
    "Khi đó với $\\cos{(0)} = 1$ và $\\cos{(90)} = 0$ ta có nhận xét sau:\n",
    "    - Giá trị cosine similarity tiệm cận về 1 thì 2 vector có độ tương đồng lớn, tức là có thể suy ra độ tương đồng của hai phim.\n",
    "    - Ngược lại, giá trị giá trị cosine similarity tiệm cận về 0 thì giữa hai bộ phim có sự khác nhau."
   ]
  },
  {
   "cell_type": "code",
   "execution_count": null,
   "id": "9a49f54f",
   "metadata": {},
   "outputs": [],
   "source": [
    "def get_recommendations(title):\n",
    "    # Get the index of the movie that matches the title\n",
    "    idx = df3.index[df3['title'] == title][0]\n",
    "    \n",
    "    if df3.loc[idx, 'poster_path'] != ' ' and df3.loc[idx, 'poster_path'] is not None:\n",
    "        poster = io.imread(f'https://image.tmdb.org/t/p/w500/{df3.loc[idx, \"poster_path\"]}')\n",
    "        plt.imshow(poster)\n",
    "        plt.axis('off')\n",
    "        plt.title(title)\n",
    "        plt.show()\n",
    "    \n",
    "    # Get the pairwsie similarity scores of all movies with that movie\n",
    "    sim_scores = list(enumerate(\n",
    "        cosine_similarity(\n",
    "            tfidf_matrix,\n",
    "            tfidf_matrix[idx])))\n",
    "\n",
    "    # Sort the movies based on the similarity scores\n",
    "    sim_scores = sorted(sim_scores, key=lambda x: x[1], reverse=True)\n",
    "\n",
    "    # Get the scores of the 8 most similar movies\n",
    "    sim_scores = sim_scores[1:9]\n",
    "\n",
    "    # Get the movie indices\n",
    "    movie_indices = [i[0] for i in sim_scores]\n",
    "\n",
    "    # Return the top 8 most similar movies\n",
    "    result = df3.iloc[movie_indices]\n",
    "    \n",
    "    # show reco. movie posters\n",
    "    fig, ax = plt.subplots(2, 4, figsize=(15,15))\n",
    "    ax=ax.flatten()\n",
    "    for i in range(8):\n",
    "        try:    \n",
    "            ax[i].axis('off')\n",
    "            ax[i].set_title(result.iloc[i].title, fontsize=15)\n",
    "            a = io.imread(f'https://image.tmdb.org/t/p/w500/' + result.iloc[i].poster_path)\n",
    "            ax[i].imshow(a)\n",
    "        except:\n",
    "            try:\n",
    "                ax[i].axis('off')\n",
    "                ax[i].set_title(result.iloc[i].title, fontsize=15)\n",
    "                a = io.imread(f'https://www.themoviedb.org/t/p/original/uc4RAVW1T3T29h6OQdr7zu4Blui.jpg')\n",
    "                ax[i].imshow(a)\n",
    "            except: pass\n",
    "    fig.tight_layout()\n",
    "    fig.show()"
   ]
  },
  {
   "cell_type": "code",
   "execution_count": null,
   "id": "5e27d697",
   "metadata": {},
   "outputs": [],
   "source": [
    "get_recommendations('The Avengers')"
   ]
  },
  {
   "cell_type": "code",
   "execution_count": null,
   "id": "8f4d9e54",
   "metadata": {},
   "outputs": [],
   "source": []
  },
  {
   "cell_type": "markdown",
   "id": "60e38a58-1d51-40a1-a6fe-9083b1935ec5",
   "metadata": {
    "id": "60e38a58-1d51-40a1-a6fe-9083b1935ec5"
   },
   "source": [
    "# **Phase 5**: Reflection"
   ]
  },
  {
   "cell_type": "markdown",
   "id": "FyhlFXPAbJ80",
   "metadata": {
    "id": "FyhlFXPAbJ80"
   },
   "source": [
    "## 5.0 Team members"
   ]
  },
  {
   "cell_type": "markdown",
   "id": "MpJ1i_GIrzjD",
   "metadata": {
    "id": "MpJ1i_GIrzjD"
   },
   "source": [
    "**Văn Bá Bảo Huy**\n",
    "- Khó khăn:\n",
    "- Điều đã học được:"
   ]
  },
  {
   "cell_type": "markdown",
   "id": "0HINnO4gr91F",
   "metadata": {
    "id": "0HINnO4gr91F"
   },
   "source": [
    "**Nguyễn Thị Gái**\n",
    "- Khó khăn:\n",
    "- Điều đã học được:"
   ]
  },
  {
   "cell_type": "markdown",
   "id": "53ONaeSBsBq8",
   "metadata": {
    "id": "53ONaeSBsBq8"
   },
   "source": [
    "**Nguyễn Thị Thanh Hoa**\n",
    "- Khó khăn:\n",
    "- Điều đã học được:"
   ]
  },
  {
   "cell_type": "markdown",
   "id": "5VUVm6OdsSi9",
   "metadata": {
    "id": "5VUVm6OdsSi9"
   },
   "source": [
    "## 5.1 Team"
   ]
  },
  {
   "cell_type": "markdown",
   "id": "MTN14NixsThM",
   "metadata": {
    "id": "MTN14NixsThM"
   },
   "source": [
    "Nếu có nhiều thời gian hơn, nhóm sẽ ..."
   ]
  }
 ],
 "metadata": {
  "colab": {
   "collapsed_sections": [
    "2dda0f66-d807-4d91-b103-4cae303727d8",
    "1222639b-1a1b-4eea-842b-8ff2baa4decd"
   ],
   "provenance": [],
   "toc_visible": true
  },
  "kernelspec": {
   "display_name": "Python 3 (ipykernel)",
   "language": "python",
   "name": "python3"
  },
  "language_info": {
   "codemirror_mode": {
    "name": "ipython",
    "version": 3
   },
   "file_extension": ".py",
   "mimetype": "text/x-python",
   "name": "python",
   "nbconvert_exporter": "python",
   "pygments_lexer": "ipython3",
   "version": "3.11.5"
  }
 },
 "nbformat": 4,
 "nbformat_minor": 5
}
