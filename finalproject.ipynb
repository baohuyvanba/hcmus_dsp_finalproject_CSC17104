{
 "cells": [
  {
   "cell_type": "markdown",
   "id": "56026243-04ff-491e-aa56-c64ed3ba4fad",
   "metadata": {
    "id": "56026243-04ff-491e-aa56-c64ed3ba4fad"
   },
   "source": [
    "# Final Project\n",
    "### Môn học: CSC17104 - Lập trình cho Khoa học dữ liệu\n",
    "****"
   ]
  },
  {
   "cell_type": "markdown",
   "id": "d84f313b-429a-4406-aff7-a4232d94d81b",
   "metadata": {
    "id": "d84f313b-429a-4406-aff7-a4232d94d81b",
    "tags": []
   },
   "source": [
    "**Nhóm 26**\n",
    "<table style='float:left;'>\n",
    "    <tr>\n",
    "        <th style='text-align:center;'>MSSV</th>\n",
    "        <th style='text-align:center;'>Họ và Tên</th>\n",
    "        <th style='text-align:center;'>Mức độ hoàn thành(%)</th>\n",
    "        <th style='text-align:center;'>Nhiệm vụ</th>\n",
    "    </tr>\n",
    "    <tr>\n",
    "        <td style='text-align:center;'>21120178</td>\n",
    "        <td style='text-align:left;'>Văn Bá Bảo Huy</td>\n",
    "        <td style='text-align:center;'>Mức độ hoàn thành</td>\n",
    "        <td style='text-align:left;'>Nhiệm vụ</td>\n",
    "    </tr>\n",
    "    <tr>\n",
    "        <td style='text-align:center;'>21120071</td>\n",
    "        <td style='text-align:left;'>Nguyễn Thị Thanh Hoa</td>\n",
    "        <td style='text-align:center;'>Mức độ hoàn thành</td>\n",
    "        <td style='text-align:left;'>Nhiệm vụ</td>\n",
    "    </tr>\n",
    "    <tr>\n",
    "        <td style='text-align:center;'>21120174</td>\n",
    "        <td style='text-align:left;'>Nguyễn Thị Gái</td>\n",
    "        <td style='text-align:center;'>Mức độ hoàn thành</td>\n",
    "        <td style='text-align:left;'>Nhiệm vụ</td>\n",
    "    </tr>\n",
    "</table>"
   ]
  },
  {
   "cell_type": "markdown",
   "id": "73004b25-2e55-4e41-8e62-3dcb86d27a08",
   "metadata": {
    "id": "73004b25-2e55-4e41-8e62-3dcb86d27a08",
    "tags": []
   },
   "source": [
    "### Environment check & Import nescessary packages"
   ]
  },
  {
   "cell_type": "code",
   "execution_count": 1,
   "id": "0a1ea7e7-ce37-4508-becb-038068bb6b76",
   "metadata": {
    "id": "0a1ea7e7-ce37-4508-becb-038068bb6b76",
    "tags": []
   },
   "outputs": [],
   "source": [
    "import sys\n",
    "sys.executable\n",
    "!pip install -q kaggle"
   ]
  },
  {
   "cell_type": "code",
   "execution_count": 4,
   "id": "1da1ba6b-b240-4c29-b15c-2310e4818bd0",
   "metadata": {
    "id": "1da1ba6b-b240-4c29-b15c-2310e4818bd0",
    "tags": []
   },
   "outputs": [],
   "source": [
    "import numpy as np\n",
    "import pandas as pd\n",
    "import matplotlib.pyplot as plt\n",
    "import json\n",
    "from collections import Counter\n",
    "import datetime\n",
    "import statistics\n",
    "import seaborn as sns\n",
    "from matplotlib import cycler"
   ]
  },
  {
   "cell_type": "markdown",
   "id": "093e3e2a-b777-463d-8033-0062d2a80204",
   "metadata": {
    "id": "093e3e2a-b777-463d-8033-0062d2a80204"
   },
   "source": [
    "# **Phase 1**: Collecting Data"
   ]
  },
  {
   "cell_type": "markdown",
   "id": "c7fa6f74-188e-4981-a852-ecf85a3c02ef",
   "metadata": {
    "id": "c7fa6f74-188e-4981-a852-ecf85a3c02ef"
   },
   "source": [
    "**Dataset**: Movies Daily Update Dataset<br>\n",
    "**Kaggle**: https://www.kaggle.com/datasets/akshaypawar7/millions-of-movies"
   ]
  },
  {
   "cell_type": "code",
   "execution_count": 4,
   "id": "80T9nMP_CxHE",
   "metadata": {
    "colab": {
     "base_uri": "https://localhost:8080/"
    },
    "id": "80T9nMP_CxHE",
    "outputId": "26dfbc90-49cf-4924-cbcc-b76f05bf1858"
   },
   "outputs": [
    {
     "name": "stdout",
     "output_type": "stream",
     "text": [
      "mkdir: cannot create directory ‘/root/.kaggle’: File exists\n"
     ]
    }
   ],
   "source": [
    "#Download data from Kaggle with api-key\n",
    "!mkdir ~/.kaggle\n",
    "!touch ~/.kaggle/kaggle.json\n",
    "api_json = {\"username\":\"tyzenr\",\"key\":\"08b25d2b177116a2cb7dfddc38ab964b\"}\n",
    "with open('/root/.kaggle/kaggle.json', 'w') as file:\n",
    "    json.dump(api_json, file)\n",
    "!chmod 600 ~/.kaggle/kaggle.json\n",
    "import kaggle\n",
    "kaggle.api.authenticate()\n",
    "kaggle.api.dataset_download_files('akshaypawar7/millions-of-movies', path='.', unzip=True)"
   ]
  },
  {
   "cell_type": "markdown",
   "id": "2d5b61c4-7c61-4991-852d-16ecfae71f0b",
   "metadata": {
    "id": "2d5b61c4-7c61-4991-852d-16ecfae71f0b"
   },
   "source": [
    "**1. Dữ liệu về chủ đề gì? Nguồn dữ liệu?**<br>\n",
    "- Chủ đề dữ liệu: Bộ dữ liệu của hơn 700.000 bộ phim trong tập dữ liệu TMDB.<br>\n",
    "- Nguồn dữ liệu: Kaggle\n",
    "<br>\n",
    "\n",
    "**2. Kiểm tra vấn đề bản quyền của tập dữ liệu.**<br>\n",
    "- Answer\n",
    "<br>\n",
    "\n",
    "**3. Tác giả của tập dữ liệu đã thu thập bằng cách nào?** <br>\n",
    "- Answer\n",
    "<br>"
   ]
  },
  {
   "cell_type": "markdown",
   "id": "efd36b29-9d11-4a94-a917-c78b1ceb2495",
   "metadata": {
    "id": "efd36b29-9d11-4a94-a917-c78b1ceb2495"
   },
   "source": [
    "# **Phase 2**: Exploring Data - Preprocessing"
   ]
  },
  {
   "cell_type": "markdown",
   "id": "2dda0f66-d807-4d91-b103-4cae303727d8",
   "metadata": {
    "id": "2dda0f66-d807-4d91-b103-4cae303727d8"
   },
   "source": [
    "### 2.0 Đọc dữ liệu"
   ]
  },
  {
   "cell_type": "code",
   "execution_count": 3,
   "id": "c137553a-20af-4563-af91-c57faf088b54",
   "metadata": {
    "colab": {
     "base_uri": "https://localhost:8080/",
     "height": 476
    },
    "id": "c137553a-20af-4563-af91-c57faf088b54",
    "outputId": "c06aca64-d37e-4282-cb2e-c2685210ea6d",
    "tags": []
   },
   "outputs": [
    {
     "data": {
      "text/html": [
       "<div>\n",
       "<style scoped>\n",
       "    .dataframe tbody tr th:only-of-type {\n",
       "        vertical-align: middle;\n",
       "    }\n",
       "\n",
       "    .dataframe tbody tr th {\n",
       "        vertical-align: top;\n",
       "    }\n",
       "\n",
       "    .dataframe thead th {\n",
       "        text-align: right;\n",
       "    }\n",
       "</style>\n",
       "<table border=\"1\" class=\"dataframe\">\n",
       "  <thead>\n",
       "    <tr style=\"text-align: right;\">\n",
       "      <th></th>\n",
       "      <th>id</th>\n",
       "      <th>title</th>\n",
       "      <th>genres</th>\n",
       "      <th>original_language</th>\n",
       "      <th>overview</th>\n",
       "      <th>popularity</th>\n",
       "      <th>production_companies</th>\n",
       "      <th>release_date</th>\n",
       "      <th>budget</th>\n",
       "      <th>revenue</th>\n",
       "      <th>runtime</th>\n",
       "      <th>status</th>\n",
       "      <th>tagline</th>\n",
       "      <th>vote_average</th>\n",
       "      <th>vote_count</th>\n",
       "      <th>credits</th>\n",
       "      <th>keywords</th>\n",
       "      <th>poster_path</th>\n",
       "      <th>backdrop_path</th>\n",
       "      <th>recommendations</th>\n",
       "    </tr>\n",
       "  </thead>\n",
       "  <tbody>\n",
       "    <tr>\n",
       "      <th>0</th>\n",
       "      <td>615656</td>\n",
       "      <td>Meg 2: The Trench</td>\n",
       "      <td>Action-Science Fiction-Horror</td>\n",
       "      <td>en</td>\n",
       "      <td>An exploratory dive into the deepest depths of...</td>\n",
       "      <td>8763.998</td>\n",
       "      <td>Apelles Entertainment-Warner Bros. Pictures-di...</td>\n",
       "      <td>2023-08-02</td>\n",
       "      <td>129000000.0</td>\n",
       "      <td>352056482.0</td>\n",
       "      <td>116.0</td>\n",
       "      <td>Released</td>\n",
       "      <td>Back for seconds.</td>\n",
       "      <td>7.079</td>\n",
       "      <td>1365.0</td>\n",
       "      <td>Jason Statham-Wu Jing-Shuya Sophia Cai-Sergio ...</td>\n",
       "      <td>based on novel or book-sequel-kaiju</td>\n",
       "      <td>/4m1Au3YkjqsxF8iwQy0fPYSxE0h.jpg</td>\n",
       "      <td>/qlxy8yo5bcgUw2KAmmojUKp4rHd.jpg</td>\n",
       "      <td>1006462-298618-569094-1061181-346698-1076487-6...</td>\n",
       "    </tr>\n",
       "    <tr>\n",
       "      <th>1</th>\n",
       "      <td>758323</td>\n",
       "      <td>The Pope's Exorcist</td>\n",
       "      <td>Horror-Mystery-Thriller</td>\n",
       "      <td>en</td>\n",
       "      <td>Father Gabriele Amorth Chief Exorcist of the V...</td>\n",
       "      <td>5953.227</td>\n",
       "      <td>Screen Gems-2.0 Entertainment-Jesus &amp; Mary-Wor...</td>\n",
       "      <td>2023-04-05</td>\n",
       "      <td>18000000.0</td>\n",
       "      <td>65675816.0</td>\n",
       "      <td>103.0</td>\n",
       "      <td>Released</td>\n",
       "      <td>Inspired by the actual files of Father Gabriel...</td>\n",
       "      <td>7.433</td>\n",
       "      <td>545.0</td>\n",
       "      <td>Russell Crowe-Daniel Zovatto-Alex Essoe-Franco...</td>\n",
       "      <td>spain-rome italy-vatican-pope-pig-possession-c...</td>\n",
       "      <td>/9JBEPLTPSm0d1mbEcLxULjJq9Eh.jpg</td>\n",
       "      <td>/hiHGRbyTcbZoLsYYkO4QiCLYe34.jpg</td>\n",
       "      <td>713704-296271-502356-1076605-1084225-1008005-9...</td>\n",
       "    </tr>\n",
       "    <tr>\n",
       "      <th>2</th>\n",
       "      <td>667538</td>\n",
       "      <td>Transformers: Rise of the Beasts</td>\n",
       "      <td>Action-Adventure-Science Fiction</td>\n",
       "      <td>en</td>\n",
       "      <td>When a new threat capable of destroying the en...</td>\n",
       "      <td>5409.104</td>\n",
       "      <td>Skydance-Paramount-di Bonaventura Pictures-Bay...</td>\n",
       "      <td>2023-06-06</td>\n",
       "      <td>200000000.0</td>\n",
       "      <td>407045464.0</td>\n",
       "      <td>127.0</td>\n",
       "      <td>Released</td>\n",
       "      <td>Unite or fall.</td>\n",
       "      <td>7.340</td>\n",
       "      <td>1007.0</td>\n",
       "      <td>Anthony Ramos-Dominique Fishback-Luna Lauren V...</td>\n",
       "      <td>peru-alien-end of the world-based on cartoon-b...</td>\n",
       "      <td>/gPbM0MK8CP8A174rmUwGsADNYKD.jpg</td>\n",
       "      <td>/woJbg7ZqidhpvqFGGMRhWQNoxwa.jpg</td>\n",
       "      <td>496450-569094-298618-385687-877100-598331-4628...</td>\n",
       "    </tr>\n",
       "  </tbody>\n",
       "</table>\n",
       "</div>"
      ],
      "text/plain": [
       "       id                             title                            genres  \\\n",
       "0  615656                 Meg 2: The Trench     Action-Science Fiction-Horror   \n",
       "1  758323               The Pope's Exorcist           Horror-Mystery-Thriller   \n",
       "2  667538  Transformers: Rise of the Beasts  Action-Adventure-Science Fiction   \n",
       "\n",
       "  original_language                                           overview  \\\n",
       "0                en  An exploratory dive into the deepest depths of...   \n",
       "1                en  Father Gabriele Amorth Chief Exorcist of the V...   \n",
       "2                en  When a new threat capable of destroying the en...   \n",
       "\n",
       "   popularity                               production_companies release_date  \\\n",
       "0    8763.998  Apelles Entertainment-Warner Bros. Pictures-di...   2023-08-02   \n",
       "1    5953.227  Screen Gems-2.0 Entertainment-Jesus & Mary-Wor...   2023-04-05   \n",
       "2    5409.104  Skydance-Paramount-di Bonaventura Pictures-Bay...   2023-06-06   \n",
       "\n",
       "        budget      revenue  runtime    status  \\\n",
       "0  129000000.0  352056482.0    116.0  Released   \n",
       "1   18000000.0   65675816.0    103.0  Released   \n",
       "2  200000000.0  407045464.0    127.0  Released   \n",
       "\n",
       "                                             tagline  vote_average  \\\n",
       "0                                  Back for seconds.         7.079   \n",
       "1  Inspired by the actual files of Father Gabriel...         7.433   \n",
       "2                                     Unite or fall.         7.340   \n",
       "\n",
       "   vote_count                                            credits  \\\n",
       "0      1365.0  Jason Statham-Wu Jing-Shuya Sophia Cai-Sergio ...   \n",
       "1       545.0  Russell Crowe-Daniel Zovatto-Alex Essoe-Franco...   \n",
       "2      1007.0  Anthony Ramos-Dominique Fishback-Luna Lauren V...   \n",
       "\n",
       "                                            keywords  \\\n",
       "0                based on novel or book-sequel-kaiju   \n",
       "1  spain-rome italy-vatican-pope-pig-possession-c...   \n",
       "2  peru-alien-end of the world-based on cartoon-b...   \n",
       "\n",
       "                        poster_path                     backdrop_path  \\\n",
       "0  /4m1Au3YkjqsxF8iwQy0fPYSxE0h.jpg  /qlxy8yo5bcgUw2KAmmojUKp4rHd.jpg   \n",
       "1  /9JBEPLTPSm0d1mbEcLxULjJq9Eh.jpg  /hiHGRbyTcbZoLsYYkO4QiCLYe34.jpg   \n",
       "2  /gPbM0MK8CP8A174rmUwGsADNYKD.jpg  /woJbg7ZqidhpvqFGGMRhWQNoxwa.jpg   \n",
       "\n",
       "                                     recommendations  \n",
       "0  1006462-298618-569094-1061181-346698-1076487-6...  \n",
       "1  713704-296271-502356-1076605-1084225-1008005-9...  \n",
       "2  496450-569094-298618-385687-877100-598331-4628...  "
      ]
     },
     "execution_count": 3,
     "metadata": {},
     "output_type": "execute_result"
    }
   ],
   "source": [
    "df = pd.read_csv(\"movies.csv\")\n",
    "df.head(3)"
   ]
  },
  {
   "cell_type": "markdown",
   "id": "1222639b-1a1b-4eea-842b-8ff2baa4decd",
   "metadata": {
    "id": "1222639b-1a1b-4eea-842b-8ff2baa4decd"
   },
   "source": [
    "### 2.1 Có bao nhiêu hàng và bao nhiêu cột?"
   ]
  },
  {
   "cell_type": "code",
   "execution_count": null,
   "id": "02c076fd-9127-4b37-a2af-d00bee7905fc",
   "metadata": {
    "id": "02c076fd-9127-4b37-a2af-d00bee7905fc"
   },
   "outputs": [],
   "source": []
  },
  {
   "cell_type": "markdown",
   "id": "8ff9a821-6de3-4474-89db-ad6988d7ec1a",
   "metadata": {
    "id": "8ff9a821-6de3-4474-89db-ad6988d7ec1a"
   },
   "source": [
    "###  2.2 Ý nghĩa của mỗi hàng là gì?"
   ]
  },
  {
   "cell_type": "markdown",
   "id": "1d38d92b-12fd-445e-862e-cfe059f407f9",
   "metadata": {
    "id": "1d38d92b-12fd-445e-862e-cfe059f407f9"
   },
   "source": [
    "Theo file mô tả dữ liệu và theo quan sát sơ bộ về dữ liệu thì một dòng cho biết thông tin chi tiết của một bộ phim trong TMDB bao gồm: dàn diễn viên, đoàn làm phim, từ khóa cốt truyện, ngân sách, doanh thu, áp phích, ngày phát hành, ngôn ngữ, công ty sản xuất, quốc gia, số phiếu bầu TMDB và trung bình phiếu bầu, đánh giá, đề xuất.,..... Các dòng đều chung thông tin."
   ]
  },
  {
   "cell_type": "markdown",
   "id": "0350da5f-c4dc-417a-bafb-c2d1769e1203",
   "metadata": {
    "id": "0350da5f-c4dc-417a-bafb-c2d1769e1203"
   },
   "source": [
    "### 2.3 Có 'hàng trùng lặp' không?"
   ]
  },
  {
   "cell_type": "code",
   "execution_count": null,
   "id": "05251f13-a3b3-4989-b7fa-59bfc1fb55d3",
   "metadata": {
    "id": "05251f13-a3b3-4989-b7fa-59bfc1fb55d3"
   },
   "outputs": [],
   "source": [
    "print(f\"Dữ liệu trên có {df.duplicated().sum()} dòng bị lặp\")"
   ]
  },
  {
   "cell_type": "markdown",
   "id": "3e6a3e3f-e920-4f5c-b285-e2e648bc67eb",
   "metadata": {
    "id": "3e6a3e3f-e920-4f5c-b285-e2e648bc67eb"
   },
   "source": [
    "### 2.4 Ý nghĩa của từng cột là gì?"
   ]
  },
  {
   "cell_type": "markdown",
   "id": "96acda46-7085-4161-b5aa-eb11d96d0c5e",
   "metadata": {
    "id": "96acda46-7085-4161-b5aa-eb11d96d0c5e"
   },
   "source": []
  },
  {
   "cell_type": "markdown",
   "id": "c521421b-7340-47f2-8cc7-714ef0e9fd96",
   "metadata": {
    "id": "c521421b-7340-47f2-8cc7-714ef0e9fd96"
   },
   "source": [
    "### 2.5 Kiểu dữ liệu hiện tại của mỗi cột là gì? Có cột nào có kiểu dữ liệu không phù hợp không?"
   ]
  },
  {
   "cell_type": "code",
   "execution_count": 6,
   "id": "cba77753-b926-48aa-bfef-fcf518012b5e",
   "metadata": {
    "id": "cba77753-b926-48aa-bfef-fcf518012b5e"
   },
   "outputs": [
    {
     "name": "stdout",
     "output_type": "stream",
     "text": [
      "<class 'pandas.core.frame.DataFrame'>\n",
      "RangeIndex: 722586 entries, 0 to 722585\n",
      "Data columns (total 20 columns):\n",
      " #   Column                Non-Null Count   Dtype  \n",
      "---  ------                --------------   -----  \n",
      " 0   id                    722586 non-null  int64  \n",
      " 1   title                 722580 non-null  object \n",
      " 2   genres                511961 non-null  object \n",
      " 3   original_language     722586 non-null  object \n",
      " 4   overview              604149 non-null  object \n",
      " 5   popularity            722586 non-null  float64\n",
      " 6   production_companies  337237 non-null  object \n",
      " 7   release_date          670585 non-null  object \n",
      " 8   budget                722586 non-null  float64\n",
      " 9   revenue               722586 non-null  float64\n",
      " 10  runtime               688183 non-null  float64\n",
      " 11  status                722586 non-null  object \n",
      " 12  tagline               108268 non-null  object \n",
      " 13  vote_average          722586 non-null  float64\n",
      " 14  vote_count            722586 non-null  float64\n",
      " 15  credits               497643 non-null  object \n",
      " 16  keywords              210420 non-null  object \n",
      " 17  poster_path           537694 non-null  object \n",
      " 18  backdrop_path         222815 non-null  object \n",
      " 19  recommendations       34786 non-null   object \n",
      "dtypes: float64(6), int64(1), object(13)\n",
      "memory usage: 110.3+ MB\n"
     ]
    }
   ],
   "source": [
    "df.info()\n"
   ]
  },
  {
   "cell_type": "code",
   "execution_count": 14,
   "id": "9bf180a5",
   "metadata": {},
   "outputs": [
    {
     "name": "stdout",
     "output_type": "stream",
     "text": [
      "Column:         id có kiểu dữ liệu: {<class 'int'>}\n",
      "Column:      title có kiểu dữ liệu: {<class 'str'>, <class 'float'>}\n",
      "Column:     genres có kiểu dữ liệu: {<class 'str'>, <class 'float'>}\n",
      "Column: original_language có kiểu dữ liệu: {<class 'str'>}\n",
      "Column:   overview có kiểu dữ liệu: {<class 'str'>, <class 'float'>}\n",
      "Column: popularity có kiểu dữ liệu: {<class 'float'>}\n",
      "Column: production_companies có kiểu dữ liệu: {<class 'str'>, <class 'float'>}\n",
      "Column: release_date có kiểu dữ liệu: {<class 'str'>, <class 'float'>}\n",
      "Column:     budget có kiểu dữ liệu: {<class 'float'>}\n",
      "Column:    revenue có kiểu dữ liệu: {<class 'float'>}\n",
      "Column:    runtime có kiểu dữ liệu: {<class 'float'>}\n",
      "Column:     status có kiểu dữ liệu: {<class 'str'>}\n",
      "Column:    tagline có kiểu dữ liệu: {<class 'str'>, <class 'float'>}\n",
      "Column: vote_average có kiểu dữ liệu: {<class 'float'>}\n",
      "Column: vote_count có kiểu dữ liệu: {<class 'float'>}\n",
      "Column:    credits có kiểu dữ liệu: {<class 'str'>, <class 'float'>}\n",
      "Column:   keywords có kiểu dữ liệu: {<class 'str'>, <class 'float'>}\n",
      "Column: poster_path có kiểu dữ liệu: {<class 'str'>, <class 'float'>}\n",
      "Column: backdrop_path có kiểu dữ liệu: {<class 'str'>, <class 'float'>}\n",
      "Column: recommendations có kiểu dữ liệu: {<class 'str'>, <class 'float'>}\n"
     ]
    }
   ],
   "source": [
    "def open_object_dtype(s):\n",
    "    \n",
    "    dtypes = set(s.apply(type))\n",
    "    \n",
    "    return dtypes\n",
    "\n",
    "for col in df.columns:\n",
    "    print(\"Column: %10s có kiểu dữ liệu: %s\" % (col, open_object_dtype(df[col])))"
   ]
  },
  {
   "cell_type": "markdown",
   "id": "00f5d78d",
   "metadata": {},
   "source": [
    "**Vấn đề cần tiền xử lý:**\n",
    "Theo thông tin ta nhận được ở trên, ta có những đánh giá sau: \n",
    "- Cột `release_date ` đang có dtype là `str` và `float`. Để đúng về ý nghĩa, ta sẽ thực hiện bước tiền xử lý là chuyển sang dạng `datetime`.\n",
    "- Cột `title ` , `overview `,`tagline `,`poster_path `, `backdrop_path` có dtype gồm 2 loại là `str` và `float`, ta sẽ tiền xử lý để thống nhất `dtype` là `str` \n",
    "- Cột `genres `, `production_companies `, `credits `,`keywords`,`recommendations ` có dtype gồm 2 loại là `str` và `float`, ta sẽ tiền xử lý để thống nhất `dtype` là `str` rồi sau đó chuyển thành danh sách `numpy.array`.\n",
    "- Hầu hết các cột có giá trị `float` là vì các cột có giá trị `nan`"
   ]
  },
  {
   "cell_type": "markdown",
   "id": "e0ce71cf-302a-4ad5-83e6-4c37fc686ace",
   "metadata": {
    "id": "e0ce71cf-302a-4ad5-83e6-4c37fc686ace"
   },
   "source": [
    "### 2.6 Với mỗi cột số, các giá trị được phân bố như thế nào?\n",
    "- Phần trăm giá trị còn thiếu là bao nhiêu?\n",
    "- Tối thiểu? tối đa? Chúng có bất thường không?"
   ]
  },
  {
   "cell_type": "code",
   "execution_count": null,
   "id": "9aacd11b-59fb-458b-a76f-be6fcaf36c33",
   "metadata": {
    "id": "9aacd11b-59fb-458b-a76f-be6fcaf36c33"
   },
   "outputs": [],
   "source": [
    "numeric_df = df.select_dtypes(include=['number'])\n",
    "nume_col_df = pd.DataFrame( index=[\"missing_ratio\", \"min\", \"max\"], columns=numeric_df.columns)\n",
    "\n",
    "nume_col_df.loc[\"missing_ratio\"] = (numeric_df.isna().sum() / numeric_df.size) *100\n",
    "nume_col_df.loc[\"min\"] = np.min(numeric_df)\n",
    "nume_col_df.loc[\"max\"] = np.max(numeric_df)\n",
    "\n",
    "nume_col_df\n",
    "\n",
    "# df[df['runtime'].isna()]"
   ]
  },
  {
   "cell_type": "markdown",
   "id": "5eb4f5aa-774e-4394-bd09-382b973c1063",
   "metadata": {
    "id": "5eb4f5aa-774e-4394-bd09-382b973c1063"
   },
   "source": [
    "### 2.7 Với mỗi cột phân loại, các giá trị được phân bổ như thế nào?\n",
    "- Phần trăm giá trị còn thiếu là bao nhiêu?\n",
    "- Có bao nhiêu giá trị khác nhau? Hiển thị một số giá trị đó.\n",
    "- Chúng có bất thường không?"
   ]
  },
  {
   "cell_type": "code",
   "execution_count": null,
   "id": "3b726c02-7f91-4953-9b07-67658e8081da",
   "metadata": {
    "id": "3b726c02-7f91-4953-9b07-67658e8081da"
   },
   "outputs": [],
   "source": []
  },
  {
   "cell_type": "markdown",
   "id": "207a9553-0bc1-43e5-9166-e50438c5db75",
   "metadata": {
    "id": "207a9553-0bc1-43e5-9166-e50438c5db75"
   },
   "source": [
    "# **Phase 3**: Preprocessing & Asking Meaningful questions\n",
    "Yêu cầu:\n",
    "- Số lượng câu hỏi đặt ra cần lớn hơn hoặc bằng số lượng thành viên ($\\ge 3$)\n",
    "- Câu hỏi đặt ra cần có ý nghĩa (tác dụng của việc tìm kiếm câu trả lời cho câu hỏi đó) và không được quá dễ 🙂\n",
    "- Chú ý đến chất lượng của từng câu hỏi, không phải số lượng câu hỏi.\n",
    "- Trong file Notebook, với mỗi câu hỏi cần thể hiện được:\n",
    "    - Nội dung câu hỏi\n",
    "    - Ý nghĩa của câu hỏi"
   ]
  },
  {
   "cell_type": "markdown",
   "id": "qYGzu1JMrBMk",
   "metadata": {
    "id": "qYGzu1JMrBMk"
   },
   "source": [
    "## **3.0** Preprocessing"
   ]
  },
  {
   "cell_type": "code",
   "execution_count": null,
   "id": "RXaimSB-rIA7",
   "metadata": {
    "id": "RXaimSB-rIA7"
   },
   "outputs": [],
   "source": []
  },
  {
   "cell_type": "markdown",
   "id": "-O0R1fuLrIkU",
   "metadata": {
    "id": "-O0R1fuLrIkU"
   },
   "source": [
    "## **3.1** Asking meaningful question"
   ]
  },
  {
   "cell_type": "markdown",
   "id": "940f3225-1255-469b-8b7f-74ec37d0438b",
   "metadata": {
    "id": "940f3225-1255-469b-8b7f-74ec37d0438b",
    "tags": []
   },
   "source": [
    "<table style='float:left;'>\n",
    "    <tr>\n",
    "        <th style='text-align:center;'>STT</th>\n",
    "        <th style='text-align:center;'>Nội dung</th>\n",
    "        <th style='text-align:center;'>Trình bày</th>\n",
    "    </tr>\n",
    "    <tr>\n",
    "        <td style='text-align:center;'>Câu 1</td>\n",
    "        <td style='text-align:left;'>Nội dung</td>\n",
    "        <td style='text-align:center;'><a href='#cauhoi_1'>C1</a></td>\n",
    "    </tr>\n",
    "    <tr>\n",
    "        <td style='text-align:center;'>Câu 2</td>\n",
    "        <td style='text-align:left;'>Nội dung</td>\n",
    "        <td style='text-align:center;'><a href='#cauhoi_2'>C2</a></td>\n",
    "    </tr>\n",
    "    <tr>\n",
    "        <td style='text-align:center;'>Câu 3</td>\n",
    "        <td style='text-align:left;'>Nội dung</td>\n",
    "        <td style='text-align:center;'><a href='#cauhoi_3'>C3</a></td>\n",
    "    </tr>\n",
    "</table>"
   ]
  },
  {
   "cell_type": "markdown",
   "id": "575c1eec-3e1b-4cd7-bf0a-67561583a0c1",
   "metadata": {
    "id": "575c1eec-3e1b-4cd7-bf0a-67561583a0c1"
   },
   "source": [
    "# **Phase 4**: Analyzing data to answer each question"
   ]
  },
  {
   "cell_type": "markdown",
   "id": "5d5b5813-8bae-46ce-a320-fee0e03566bd",
   "metadata": {
    "id": "5d5b5813-8bae-46ce-a320-fee0e03566bd"
   },
   "source": [
    "### **Câu hỏi 1**: ghi nội dung ở đây<a name=\"cauhoi_1\"></a>\n",
    "\n",
    "**Ý nghĩa:**"
   ]
  },
  {
   "cell_type": "code",
   "execution_count": null,
   "id": "de41be86-6370-4240-8c22-6b0d29b0beb9",
   "metadata": {
    "id": "de41be86-6370-4240-8c22-6b0d29b0beb9"
   },
   "outputs": [],
   "source": []
  },
  {
   "cell_type": "markdown",
   "id": "637ef9ea-9a76-4e88-8354-28aa8e9f205e",
   "metadata": {
    "id": "637ef9ea-9a76-4e88-8354-28aa8e9f205e"
   },
   "source": [
    "### **Câu hỏi 2**: ghi nội dung ở đây<a name=\"cauhoi_2\"></a>\n",
    "\n",
    "**Ý nghĩa:**"
   ]
  },
  {
   "cell_type": "code",
   "execution_count": null,
   "id": "5e55d712-8a81-420c-899d-89f907fbb133",
   "metadata": {
    "id": "5e55d712-8a81-420c-899d-89f907fbb133"
   },
   "outputs": [],
   "source": []
  },
  {
   "cell_type": "markdown",
   "id": "64d757b1-4496-4e37-9c64-61d4fd452c07",
   "metadata": {
    "id": "64d757b1-4496-4e37-9c64-61d4fd452c07"
   },
   "source": [
    "### **Câu hỏi 3**: ghi nội dung ở đây<a name=\"cauhoi_3\"></a>\n",
    "\n",
    "**Ý nghĩa:**"
   ]
  },
  {
   "cell_type": "code",
   "execution_count": null,
   "id": "a57e0bc0-84ae-4067-9735-3d1ca5377611",
   "metadata": {
    "id": "a57e0bc0-84ae-4067-9735-3d1ca5377611"
   },
   "outputs": [],
   "source": []
  },
  {
   "cell_type": "markdown",
   "id": "60e38a58-1d51-40a1-a6fe-9083b1935ec5",
   "metadata": {
    "id": "60e38a58-1d51-40a1-a6fe-9083b1935ec5"
   },
   "source": [
    "# **Phase 5**: Reflection"
   ]
  },
  {
   "cell_type": "markdown",
   "id": "FyhlFXPAbJ80",
   "metadata": {
    "id": "FyhlFXPAbJ80"
   },
   "source": [
    "## 5.0 Team members"
   ]
  },
  {
   "cell_type": "markdown",
   "id": "MpJ1i_GIrzjD",
   "metadata": {
    "id": "MpJ1i_GIrzjD"
   },
   "source": [
    "**Văn Bá Bảo Huy**\n",
    "- Khó khăn:\n",
    "- Điều đã học được:"
   ]
  },
  {
   "cell_type": "markdown",
   "id": "0HINnO4gr91F",
   "metadata": {
    "id": "0HINnO4gr91F"
   },
   "source": [
    "**Nguyễn Thị Gái**\n",
    "- Khó khăn:\n",
    "- Điều đã học được:"
   ]
  },
  {
   "cell_type": "markdown",
   "id": "53ONaeSBsBq8",
   "metadata": {
    "id": "53ONaeSBsBq8"
   },
   "source": [
    "**Nguyễn Thị Thanh Hoa**\n",
    "- Khó khăn:\n",
    "- Điều đã học được:"
   ]
  },
  {
   "cell_type": "markdown",
   "id": "5VUVm6OdsSi9",
   "metadata": {
    "id": "5VUVm6OdsSi9"
   },
   "source": [
    "## 5.1 Team"
   ]
  },
  {
   "cell_type": "markdown",
   "id": "MTN14NixsThM",
   "metadata": {
    "id": "MTN14NixsThM"
   },
   "source": [
    "Nếu có nhiều thời gian hơn, nhóm sẽ ..."
   ]
  }
 ],
 "metadata": {
  "colab": {
   "provenance": [],
   "toc_visible": true
  },
  "kernelspec": {
   "display_name": "Python 3 (ipykernel)",
   "language": "python",
   "name": "python3"
  },
  "language_info": {
   "codemirror_mode": {
    "name": "ipython",
    "version": 3
   },
   "file_extension": ".py",
   "mimetype": "text/x-python",
   "name": "python",
   "nbconvert_exporter": "python",
   "pygments_lexer": "ipython3",
   "version": "3.11.5"
  }
 },
 "nbformat": 4,
 "nbformat_minor": 5
}
