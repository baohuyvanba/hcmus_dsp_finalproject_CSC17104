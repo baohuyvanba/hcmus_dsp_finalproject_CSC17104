{
 "cells": [
  {
   "cell_type": "markdown",
   "id": "56026243-04ff-491e-aa56-c64ed3ba4fad",
   "metadata": {
    "id": "56026243-04ff-491e-aa56-c64ed3ba4fad",
    "tags": []
   },
   "source": [
    "# Final Project\n",
    "### Môn học: CSC17104 - Lập trình cho Khoa học dữ liệu\n",
    "****"
   ]
  },
  {
   "cell_type": "markdown",
   "id": "d84f313b-429a-4406-aff7-a4232d94d81b",
   "metadata": {
    "id": "d84f313b-429a-4406-aff7-a4232d94d81b",
    "tags": []
   },
   "source": [
    "**Nhóm 26**\n",
    "<table style='float:left;'>\n",
    "    <tr>\n",
    "        <th style='text-align:center;'>MSSV</th>\n",
    "        <th style='text-align:center;'>Họ và Tên</th>\n",
    "        <th style='text-align:center;'>Mức độ hoàn thành(%)</th>\n",
    "        <th style='text-align:center;'>Nhiệm vụ</th>\n",
    "    </tr>\n",
    "    <tr>\n",
    "        <td style='text-align:center;'>21120178</td>\n",
    "        <td style='text-align:left;'>Văn Bá Bảo Huy</td>\n",
    "        <td style='text-align:center;'>Mức độ hoàn thành</td>\n",
    "        <td style='text-align:left;'>Nhiệm vụ</td>\n",
    "    </tr>\n",
    "    <tr>\n",
    "        <td style='text-align:center;'>21120071</td>\n",
    "        <td style='text-align:left;'>Nguyễn Thị Thanh Hoa</td>\n",
    "        <td style='text-align:center;'>Mức độ hoàn thành</td>\n",
    "        <td style='text-align:left;'>Nhiệm vụ</td>\n",
    "    </tr>\n",
    "    <tr>\n",
    "        <td style='text-align:center;'>21120174</td>\n",
    "        <td style='text-align:left;'>Nguyễn Thị Gái</td>\n",
    "        <td style='text-align:center;'>Mức độ hoàn thành</td>\n",
    "        <td style='text-align:left;'>Nhiệm vụ</td>\n",
    "    </tr>\n",
    "</table>"
   ]
  },
  {
   "cell_type": "markdown",
   "id": "73004b25-2e55-4e41-8e62-3dcb86d27a08",
   "metadata": {
    "id": "73004b25-2e55-4e41-8e62-3dcb86d27a08",
    "tags": []
   },
   "source": [
    "### Environment check & Import nescessary packages"
   ]
  },
  {
   "cell_type": "code",
   "execution_count": 18,
   "id": "0a1ea7e7-ce37-4508-becb-038068bb6b76",
   "metadata": {
    "id": "0a1ea7e7-ce37-4508-becb-038068bb6b76",
    "tags": []
   },
   "outputs": [
    {
     "name": "stderr",
     "output_type": "stream",
     "text": [
      "WARNING: Ignoring invalid distribution -orch (c:\\users\\ntgai\\anaconda3\\lib\\site-packages)\n",
      "WARNING: Ignoring invalid distribution -orch (c:\\users\\ntgai\\anaconda3\\lib\\site-packages)\n"
     ]
    }
   ],
   "source": [
    "import sys\n",
    "sys.executable\n",
    "!pip install -q kaggle"
   ]
  },
  {
   "cell_type": "code",
   "execution_count": 19,
   "id": "1da1ba6b-b240-4c29-b15c-2310e4818bd0",
   "metadata": {
    "id": "1da1ba6b-b240-4c29-b15c-2310e4818bd0",
    "tags": []
   },
   "outputs": [],
   "source": [
    "import os\n",
    "import numpy as np\n",
    "import pandas as pd\n",
    "import json\n",
    "import datetime\n",
    "from sklearn.feature_extraction.text import TfidfVectorizer\n",
    "from sklearn.metrics.pairwise import cosine_similarity\n",
    "from skimage import io\n",
    "\n",
    "import matplotlib.pyplot as plt\n",
    "import seaborn as sns\n",
    "from wordcloud import WordCloud\n",
    "\n",
    "import warnings\n",
    "warnings.filterwarnings(\"ignore\", message=\"Matplotlib is currently using module://matplotlib_inline.backend_inline\")"
   ]
  },
  {
   "cell_type": "markdown",
   "id": "093e3e2a-b777-463d-8033-0062d2a80204",
   "metadata": {
    "id": "093e3e2a-b777-463d-8033-0062d2a80204",
    "tags": []
   },
   "source": [
    "# **Phase 1**: Collecting Data"
   ]
  },
  {
   "cell_type": "markdown",
   "id": "c7fa6f74-188e-4981-a852-ecf85a3c02ef",
   "metadata": {
    "id": "c7fa6f74-188e-4981-a852-ecf85a3c02ef"
   },
   "source": [
    "**Dataset**: Full TMDB Movies Dataset 2023 (930K Movies)<br>\n",
    "**Kaggle**: https://www.kaggle.com/datasets/asaniczka/tmdb-movies-dataset-2023-930k-movies/data"
   ]
  },
  {
   "cell_type": "code",
   "execution_count": 20,
   "id": "80T9nMP_CxHE",
   "metadata": {
    "id": "80T9nMP_CxHE",
    "tags": []
   },
   "outputs": [],
   "source": [
    "# #Download data from Kaggle with api-key\n",
    "# notebook_dir = os.path.dirname(os.path.realpath(\"__file__\"))\n",
    "# os.chdir(notebook_dir)\n",
    "# !mkdir kaggle\n",
    "# !touch kaggle/kaggle.json\n",
    "# api_json = {\"username\":\"tyzenr\",\"key\":\"08b25d2b177116a2cb7dfddc38ab964b\"}\n",
    "# with open('kaggle/kaggle.json', 'w') as file:\n",
    "#     json.dump(api_json, file)\n",
    "# !chmod 600 kaggle/kaggle.json\n",
    "\n",
    "# with open('kaggle/kaggle.json', 'r') as file:\n",
    "#     api_json = json.load(file)\n",
    "\n",
    "# os.environ['KAGGLE_USERNAME'] = api_json['username']\n",
    "# os.environ['KAGGLE_KEY'] = api_json['key']\n",
    "\n",
    "# import kaggle\n",
    "# kaggle.api.authenticate()\n",
    "# kaggle.api.dataset_download_files('asaniczka/tmdb-movies-dataset-2023-930k-movies', path='.', unzip=True)"
   ]
  },
  {
   "cell_type": "markdown",
   "id": "2d5b61c4-7c61-4991-852d-16ecfae71f0b",
   "metadata": {
    "id": "2d5b61c4-7c61-4991-852d-16ecfae71f0b"
   },
   "source": [
    "**1. Dữ liệu về chủ đề gì? Nguồn dữ liệu?**<br>\n",
    "- Chủ đề dữ liệu: Bộ dữ liệu của hơn 930.000 bộ phim trong tập dữ liệu TMDB.<br>\n",
    "- Nguồn dữ liệu: Kaggle\n",
    "<br>\n",
    "\n",
    "**2. Kiểm tra vấn đề bản quyền của tập dữ liệu.**<br>\n",
    "- `CC0: Public Domain` - No Right Reserved\n",
    "- CC0 cho phép các nhà khoa học, nhà giáo dục, nghệ sĩ, những người sáng tạo và chủ sở hữu khác của nội dung được bảo vệ bản quyền hoặc cơ sở dữ liệu *từ bỏ* những lợi ích đó đối với tác phẩm của họ và do đó đặt chúng hoàn toàn nhất có thể trong phạm vi công cộng, để những người khác có thể tự do xây dựng, nâng cao và tái sử dụng tác phẩm cho bất kỳ mục đích nào mà không bị hạn chế theo luật bản quyền hoặc cơ sở dữ liệu.\n",
    "<br>\n",
    "\n",
    "**3. Tác giả của tập dữ liệu đã thu thập bằng cách nào?** <br>\n",
    "- Dữ liệu được thu thập từ TMDB Open API.\n",
    "<br>"
   ]
  },
  {
   "cell_type": "markdown",
   "id": "efd36b29-9d11-4a94-a917-c78b1ceb2495",
   "metadata": {
    "id": "efd36b29-9d11-4a94-a917-c78b1ceb2495",
    "tags": []
   },
   "source": [
    "# **Phase 2**: Exploring Data"
   ]
  },
  {
   "cell_type": "markdown",
   "id": "2dda0f66-d807-4d91-b103-4cae303727d8",
   "metadata": {
    "id": "2dda0f66-d807-4d91-b103-4cae303727d8"
   },
   "source": [
    "### 2.0 Đọc dữ liệu"
   ]
  },
  {
   "cell_type": "code",
   "execution_count": 21,
   "id": "c137553a-20af-4563-af91-c57faf088b54",
   "metadata": {
    "colab": {
     "base_uri": "https://localhost:8080/",
     "height": 476
    },
    "id": "c137553a-20af-4563-af91-c57faf088b54",
    "outputId": "b3010dc1-ae55-481c-ed71-71c9acd3d7d4",
    "tags": []
   },
   "outputs": [
    {
     "data": {
      "text/html": [
       "<div>\n",
       "<style scoped>\n",
       "    .dataframe tbody tr th:only-of-type {\n",
       "        vertical-align: middle;\n",
       "    }\n",
       "\n",
       "    .dataframe tbody tr th {\n",
       "        vertical-align: top;\n",
       "    }\n",
       "\n",
       "    .dataframe thead th {\n",
       "        text-align: right;\n",
       "    }\n",
       "</style>\n",
       "<table border=\"1\" class=\"dataframe\">\n",
       "  <thead>\n",
       "    <tr style=\"text-align: right;\">\n",
       "      <th></th>\n",
       "      <th>id</th>\n",
       "      <th>title</th>\n",
       "      <th>vote_average</th>\n",
       "      <th>vote_count</th>\n",
       "      <th>status</th>\n",
       "      <th>release_date</th>\n",
       "      <th>revenue</th>\n",
       "      <th>runtime</th>\n",
       "      <th>adult</th>\n",
       "      <th>backdrop_path</th>\n",
       "      <th>...</th>\n",
       "      <th>original_language</th>\n",
       "      <th>original_title</th>\n",
       "      <th>overview</th>\n",
       "      <th>popularity</th>\n",
       "      <th>poster_path</th>\n",
       "      <th>tagline</th>\n",
       "      <th>genres</th>\n",
       "      <th>production_companies</th>\n",
       "      <th>production_countries</th>\n",
       "      <th>spoken_languages</th>\n",
       "    </tr>\n",
       "  </thead>\n",
       "  <tbody>\n",
       "    <tr>\n",
       "      <th>0</th>\n",
       "      <td>27205</td>\n",
       "      <td>Inception</td>\n",
       "      <td>8.364</td>\n",
       "      <td>34495</td>\n",
       "      <td>Released</td>\n",
       "      <td>2010-07-15</td>\n",
       "      <td>825532764</td>\n",
       "      <td>148</td>\n",
       "      <td>False</td>\n",
       "      <td>/8ZTVqvKDQ8emSGUEMjsS4yHAwrp.jpg</td>\n",
       "      <td>...</td>\n",
       "      <td>en</td>\n",
       "      <td>Inception</td>\n",
       "      <td>Cobb, a skilled thief who commits corporate es...</td>\n",
       "      <td>83.952</td>\n",
       "      <td>/oYuLEt3zVCKq57qu2F8dT7NIa6f.jpg</td>\n",
       "      <td>Your mind is the scene of the crime.</td>\n",
       "      <td>Action, Science Fiction, Adventure</td>\n",
       "      <td>Legendary Pictures, Syncopy, Warner Bros. Pict...</td>\n",
       "      <td>United Kingdom, United States of America</td>\n",
       "      <td>English, French, Japanese, Swahili</td>\n",
       "    </tr>\n",
       "    <tr>\n",
       "      <th>1</th>\n",
       "      <td>157336</td>\n",
       "      <td>Interstellar</td>\n",
       "      <td>8.417</td>\n",
       "      <td>32571</td>\n",
       "      <td>Released</td>\n",
       "      <td>2014-11-05</td>\n",
       "      <td>701729206</td>\n",
       "      <td>169</td>\n",
       "      <td>False</td>\n",
       "      <td>/pbrkL804c8yAv3zBZR4QPEafpAR.jpg</td>\n",
       "      <td>...</td>\n",
       "      <td>en</td>\n",
       "      <td>Interstellar</td>\n",
       "      <td>The adventures of a group of explorers who mak...</td>\n",
       "      <td>140.241</td>\n",
       "      <td>/gEU2QniE6E77NI6lCU6MxlNBvIx.jpg</td>\n",
       "      <td>Mankind was born on Earth. It was never meant ...</td>\n",
       "      <td>Adventure, Drama, Science Fiction</td>\n",
       "      <td>Legendary Pictures, Syncopy, Lynda Obst Produc...</td>\n",
       "      <td>United Kingdom, United States of America</td>\n",
       "      <td>English</td>\n",
       "    </tr>\n",
       "    <tr>\n",
       "      <th>2</th>\n",
       "      <td>155</td>\n",
       "      <td>The Dark Knight</td>\n",
       "      <td>8.512</td>\n",
       "      <td>30619</td>\n",
       "      <td>Released</td>\n",
       "      <td>2008-07-16</td>\n",
       "      <td>1004558444</td>\n",
       "      <td>152</td>\n",
       "      <td>False</td>\n",
       "      <td>/nMKdUUepR0i5zn0y1T4CsSB5chy.jpg</td>\n",
       "      <td>...</td>\n",
       "      <td>en</td>\n",
       "      <td>The Dark Knight</td>\n",
       "      <td>Batman raises the stakes in his war on crime. ...</td>\n",
       "      <td>130.643</td>\n",
       "      <td>/qJ2tW6WMUDux911r6m7haRef0WH.jpg</td>\n",
       "      <td>Welcome to a world without rules.</td>\n",
       "      <td>Drama, Action, Crime, Thriller</td>\n",
       "      <td>DC Comics, Legendary Pictures, Syncopy, Isobel...</td>\n",
       "      <td>United Kingdom, United States of America</td>\n",
       "      <td>English, Mandarin</td>\n",
       "    </tr>\n",
       "  </tbody>\n",
       "</table>\n",
       "<p>3 rows × 23 columns</p>\n",
       "</div>"
      ],
      "text/plain": [
       "       id            title  vote_average  vote_count    status release_date  \\\n",
       "0   27205        Inception         8.364       34495  Released   2010-07-15   \n",
       "1  157336     Interstellar         8.417       32571  Released   2014-11-05   \n",
       "2     155  The Dark Knight         8.512       30619  Released   2008-07-16   \n",
       "\n",
       "      revenue  runtime  adult                     backdrop_path  ...  \\\n",
       "0   825532764      148  False  /8ZTVqvKDQ8emSGUEMjsS4yHAwrp.jpg  ...   \n",
       "1   701729206      169  False  /pbrkL804c8yAv3zBZR4QPEafpAR.jpg  ...   \n",
       "2  1004558444      152  False  /nMKdUUepR0i5zn0y1T4CsSB5chy.jpg  ...   \n",
       "\n",
       "   original_language   original_title  \\\n",
       "0                 en        Inception   \n",
       "1                 en     Interstellar   \n",
       "2                 en  The Dark Knight   \n",
       "\n",
       "                                            overview popularity  \\\n",
       "0  Cobb, a skilled thief who commits corporate es...     83.952   \n",
       "1  The adventures of a group of explorers who mak...    140.241   \n",
       "2  Batman raises the stakes in his war on crime. ...    130.643   \n",
       "\n",
       "                        poster_path  \\\n",
       "0  /oYuLEt3zVCKq57qu2F8dT7NIa6f.jpg   \n",
       "1  /gEU2QniE6E77NI6lCU6MxlNBvIx.jpg   \n",
       "2  /qJ2tW6WMUDux911r6m7haRef0WH.jpg   \n",
       "\n",
       "                                             tagline  \\\n",
       "0               Your mind is the scene of the crime.   \n",
       "1  Mankind was born on Earth. It was never meant ...   \n",
       "2                  Welcome to a world without rules.   \n",
       "\n",
       "                               genres  \\\n",
       "0  Action, Science Fiction, Adventure   \n",
       "1   Adventure, Drama, Science Fiction   \n",
       "2      Drama, Action, Crime, Thriller   \n",
       "\n",
       "                                production_companies  \\\n",
       "0  Legendary Pictures, Syncopy, Warner Bros. Pict...   \n",
       "1  Legendary Pictures, Syncopy, Lynda Obst Produc...   \n",
       "2  DC Comics, Legendary Pictures, Syncopy, Isobel...   \n",
       "\n",
       "                       production_countries  \\\n",
       "0  United Kingdom, United States of America   \n",
       "1  United Kingdom, United States of America   \n",
       "2  United Kingdom, United States of America   \n",
       "\n",
       "                     spoken_languages  \n",
       "0  English, French, Japanese, Swahili  \n",
       "1                             English  \n",
       "2                   English, Mandarin  \n",
       "\n",
       "[3 rows x 23 columns]"
      ]
     },
     "execution_count": 21,
     "metadata": {},
     "output_type": "execute_result"
    }
   ],
   "source": [
    "df = pd.read_csv(\"TMDB_movie_dataset_v11.csv\")\n",
    "df.head(3)"
   ]
  },
  {
   "cell_type": "markdown",
   "id": "1222639b-1a1b-4eea-842b-8ff2baa4decd",
   "metadata": {
    "id": "1222639b-1a1b-4eea-842b-8ff2baa4decd"
   },
   "source": [
    "### 2.1 Có bao nhiêu hàng và bao nhiêu cột?"
   ]
  },
  {
   "cell_type": "code",
   "execution_count": 22,
   "id": "02c076fd-9127-4b37-a2af-d00bee7905fc",
   "metadata": {
    "colab": {
     "base_uri": "https://localhost:8080/"
    },
    "id": "02c076fd-9127-4b37-a2af-d00bee7905fc",
    "outputId": "61c7f712-0e73-454a-ca01-b5cf8552a3e8",
    "tags": []
   },
   "outputs": [
    {
     "name": "stdout",
     "output_type": "stream",
     "text": [
      "Dữ liệu có 969743 hàng và 23 cột.\n"
     ]
    }
   ],
   "source": [
    "row, col = df.shape[0], df.shape[1]\n",
    "print('Dữ liệu có', row, 'hàng và', col, 'cột.')"
   ]
  },
  {
   "cell_type": "markdown",
   "id": "8ff9a821-6de3-4474-89db-ad6988d7ec1a",
   "metadata": {
    "id": "8ff9a821-6de3-4474-89db-ad6988d7ec1a"
   },
   "source": [
    "###  2.2 Ý nghĩa của mỗi hàng là gì?"
   ]
  },
  {
   "cell_type": "markdown",
   "id": "1d38d92b-12fd-445e-862e-cfe059f407f9",
   "metadata": {
    "id": "1d38d92b-12fd-445e-862e-cfe059f407f9"
   },
   "source": []
  },
  {
   "cell_type": "markdown",
   "id": "0350da5f-c4dc-417a-bafb-c2d1769e1203",
   "metadata": {
    "id": "0350da5f-c4dc-417a-bafb-c2d1769e1203"
   },
   "source": [
    "### 2.3 Có 'hàng trùng lặp' không?"
   ]
  },
  {
   "cell_type": "code",
   "execution_count": 23,
   "id": "05251f13-a3b3-4989-b7fa-59bfc1fb55d3",
   "metadata": {
    "id": "05251f13-a3b3-4989-b7fa-59bfc1fb55d3"
   },
   "outputs": [
    {
     "name": "stdout",
     "output_type": "stream",
     "text": [
      "Dữ liệu trên có 5 dòng bị lặp\n"
     ]
    }
   ],
   "source": [
    "print(f\"Dữ liệu trên có {df.duplicated().sum()} dòng bị lặp\")"
   ]
  },
  {
   "cell_type": "markdown",
   "id": "3e6a3e3f-e920-4f5c-b285-e2e648bc67eb",
   "metadata": {
    "id": "3e6a3e3f-e920-4f5c-b285-e2e648bc67eb"
   },
   "source": [
    "### 2.4 Ý nghĩa của từng cột là gì?"
   ]
  },
  {
   "cell_type": "code",
   "execution_count": null,
   "id": "-xzlFun2GOCc",
   "metadata": {
    "colab": {
     "base_uri": "https://localhost:8080/"
    },
    "id": "-xzlFun2GOCc",
    "outputId": "531be48f-9bb7-44ad-d5fe-cce48fd65131",
    "tags": []
   },
   "outputs": [],
   "source": []
  },
  {
   "cell_type": "markdown",
   "id": "96acda46-7085-4161-b5aa-eb11d96d0c5e",
   "metadata": {
    "id": "96acda46-7085-4161-b5aa-eb11d96d0c5e"
   },
   "source": []
  },
  {
   "cell_type": "markdown",
   "id": "c521421b-7340-47f2-8cc7-714ef0e9fd96",
   "metadata": {
    "id": "c521421b-7340-47f2-8cc7-714ef0e9fd96",
    "tags": []
   },
   "source": [
    "### 2.5 Kiểu dữ liệu hiện tại của mỗi cột là gì? Có cột nào có kiểu dữ liệu không phù hợp không?"
   ]
  },
  {
   "cell_type": "code",
   "execution_count": null,
   "id": "cba77753-b926-48aa-bfef-fcf518012b5e",
   "metadata": {
    "id": "cba77753-b926-48aa-bfef-fcf518012b5e"
   },
   "outputs": [],
   "source": []
  },
  {
   "cell_type": "markdown",
   "id": "e0ce71cf-302a-4ad5-83e6-4c37fc686ace",
   "metadata": {
    "id": "e0ce71cf-302a-4ad5-83e6-4c37fc686ace",
    "tags": []
   },
   "source": [
    "### 2.6 Với mỗi cột số, các giá trị được phân bố như thế nào?\n",
    "- Phần trăm giá trị còn thiếu là bao nhiêu?\n",
    "- Tối thiểu? tối đa? Chúng có bất thường không?"
   ]
  },
  {
   "cell_type": "markdown",
   "id": "69dc1f80",
   "metadata": {},
   "source": [
    "Các cột số có trong dữ liệu là: `id`, `popularity`, `budget`, `revenue`, `runtime`, `vote_average`, `vote_count`.\n",
    "Để kiểm tra các giá trị phân bố, ta tạo một DataFrame `nume_col_df` có chứa các cột thuộc kiểu numeric và được thống kê với các số liệu về:\n",
    "\n",
    "`missing_ratio`: Tỉ lệ các giá trị thiếu trong cột.\n",
    "\n",
    "`min`: Giá trị nhỏ nhất trong cột.\n",
    "\n",
    "`max`: Giá trị lớn nhất trong cột."
   ]
  },
  {
   "cell_type": "code",
   "execution_count": 24,
   "id": "9aacd11b-59fb-458b-a76f-be6fcaf36c33",
   "metadata": {
    "id": "9aacd11b-59fb-458b-a76f-be6fcaf36c33"
   },
   "outputs": [
    {
     "data": {
      "text/html": [
       "<div>\n",
       "<style scoped>\n",
       "    .dataframe tbody tr th:only-of-type {\n",
       "        vertical-align: middle;\n",
       "    }\n",
       "\n",
       "    .dataframe tbody tr th {\n",
       "        vertical-align: top;\n",
       "    }\n",
       "\n",
       "    .dataframe thead th {\n",
       "        text-align: right;\n",
       "    }\n",
       "</style>\n",
       "<table border=\"1\" class=\"dataframe\">\n",
       "  <thead>\n",
       "    <tr style=\"text-align: right;\">\n",
       "      <th></th>\n",
       "      <th>id</th>\n",
       "      <th>vote_average</th>\n",
       "      <th>vote_count</th>\n",
       "      <th>revenue</th>\n",
       "      <th>runtime</th>\n",
       "      <th>budget</th>\n",
       "      <th>popularity</th>\n",
       "    </tr>\n",
       "  </thead>\n",
       "  <tbody>\n",
       "    <tr>\n",
       "      <th>missing_ratio</th>\n",
       "      <td>0.0</td>\n",
       "      <td>0.0</td>\n",
       "      <td>0.0</td>\n",
       "      <td>0.0</td>\n",
       "      <td>0.0</td>\n",
       "      <td>0.0</td>\n",
       "      <td>0.0</td>\n",
       "    </tr>\n",
       "    <tr>\n",
       "      <th>min</th>\n",
       "      <td>-12.0</td>\n",
       "      <td>-12.0</td>\n",
       "      <td>-12.0</td>\n",
       "      <td>-12.0</td>\n",
       "      <td>-12.0</td>\n",
       "      <td>-12.0</td>\n",
       "      <td>-12.0</td>\n",
       "    </tr>\n",
       "    <tr>\n",
       "      <th>max</th>\n",
       "      <td>2923706026.0</td>\n",
       "      <td>2923706026.0</td>\n",
       "      <td>2923706026.0</td>\n",
       "      <td>2923706026.0</td>\n",
       "      <td>2923706026.0</td>\n",
       "      <td>2923706026.0</td>\n",
       "      <td>2923706026.0</td>\n",
       "    </tr>\n",
       "  </tbody>\n",
       "</table>\n",
       "</div>"
      ],
      "text/plain": [
       "                         id  vote_average    vote_count       revenue  \\\n",
       "missing_ratio           0.0           0.0           0.0           0.0   \n",
       "min                   -12.0         -12.0         -12.0         -12.0   \n",
       "max            2923706026.0  2923706026.0  2923706026.0  2923706026.0   \n",
       "\n",
       "                    runtime        budget    popularity  \n",
       "missing_ratio           0.0           0.0           0.0  \n",
       "min                   -12.0         -12.0         -12.0  \n",
       "max            2923706026.0  2923706026.0  2923706026.0  "
      ]
     },
     "execution_count": 24,
     "metadata": {},
     "output_type": "execute_result"
    }
   ],
   "source": [
    "numeric_df = df.select_dtypes(include=['number'])\n",
    "nume_col_df = pd.DataFrame( index=[\"missing_ratio\", \"min\", \"max\"], columns=numeric_df.columns)\n",
    "\n",
    "nume_col_df.loc[\"missing_ratio\"] = (numeric_df.isna().sum() / numeric_df.size) *100\n",
    "nume_col_df.loc[\"min\"] = np.min(numeric_df)\n",
    "nume_col_df.loc[\"max\"] = np.max(numeric_df)\n",
    "\n",
    "nume_col_df"
   ]
  },
  {
   "cell_type": "markdown",
   "id": "43862d4c",
   "metadata": {},
   "source": [
    "Không có giá trị bị thiếu trong các cột số. Các giá trị `min` và `max` không có gì bất thường."
   ]
  },
  {
   "cell_type": "markdown",
   "id": "5eb4f5aa-774e-4394-bd09-382b973c1063",
   "metadata": {
    "id": "5eb4f5aa-774e-4394-bd09-382b973c1063",
    "tags": []
   },
   "source": [
    "### 2.7 Với mỗi cột phân loại, các giá trị được phân bổ như thế nào?\n",
    "- Phần trăm giá trị còn thiếu là bao nhiêu?\n",
    "- Có bao nhiêu giá trị khác nhau? Hiển thị một số giá trị đó.\n",
    "- Chúng có bất thường không?"
   ]
  },
  {
   "cell_type": "code",
   "execution_count": null,
   "id": "yK04GUG7jee8",
   "metadata": {
    "colab": {
     "base_uri": "https://localhost:8080/",
     "height": 250
    },
    "id": "yK04GUG7jee8",
    "outputId": "1cab4707-8826-4c1b-e5a7-133855ecf1a5",
    "tags": []
   },
   "outputs": [],
   "source": []
  },
  {
   "cell_type": "markdown",
   "id": "207a9553-0bc1-43e5-9166-e50438c5db75",
   "metadata": {
    "id": "207a9553-0bc1-43e5-9166-e50438c5db75",
    "jp-MarkdownHeadingCollapsed": true,
    "tags": []
   },
   "source": [
    "# **Phase 3**: Preprocessing & Asking Meaningful questions\n",
    "Yêu cầu:\n",
    "- Số lượng câu hỏi đặt ra cần lớn hơn hoặc bằng số lượng thành viên ($\\ge 3$)\n",
    "- Câu hỏi đặt ra cần có ý nghĩa (tác dụng của việc tìm kiếm câu trả lời cho câu hỏi đó) và không được quá dễ 🙂\n",
    "- Chú ý đến chất lượng của từng câu hỏi, không phải số lượng câu hỏi.\n",
    "- Trong file Notebook, với mỗi câu hỏi cần thể hiện được:\n",
    "    - Nội dung câu hỏi\n",
    "    - Ý nghĩa của câu hỏi"
   ]
  },
  {
   "cell_type": "markdown",
   "id": "qYGzu1JMrBMk",
   "metadata": {
    "id": "qYGzu1JMrBMk",
    "tags": []
   },
   "source": [
    "## **3.0** Preprocessing"
   ]
  },
  {
   "cell_type": "markdown",
   "id": "9cf45be8-2694-4c9a-91a6-40a45755885b",
   "metadata": {},
   "source": [
    "#### Remove duplicated/meaningless rows and columns"
   ]
  },
  {
   "cell_type": "markdown",
   "id": "933b17a4-86d2-49b1-8595-498712b7978a",
   "metadata": {},
   "source": []
  },
  {
   "cell_type": "code",
   "execution_count": null,
   "id": "9833ba73-2444-4d0d-8fb8-58d0b64a5f7d",
   "metadata": {},
   "outputs": [],
   "source": []
  },
  {
   "cell_type": "markdown",
   "id": "9ccee3df-01ce-4f34-a5f7-c2d498d3b238",
   "metadata": {},
   "source": []
  },
  {
   "cell_type": "code",
   "execution_count": null,
   "id": "296721ca-6496-4a91-a9dd-cf0e499fbcf4",
   "metadata": {},
   "outputs": [],
   "source": []
  },
  {
   "cell_type": "markdown",
   "id": "464e7101-f904-46fd-9dfb-620e0b834ec1",
   "metadata": {},
   "source": []
  },
  {
   "cell_type": "code",
   "execution_count": null,
   "id": "a9c039f2-bff6-4c2f-8d1d-d3c44583bc92",
   "metadata": {},
   "outputs": [],
   "source": []
  },
  {
   "cell_type": "markdown",
   "id": "aa5d8b15-0a8c-43d0-9991-29e1f979aa90",
   "metadata": {
    "id": "RXaimSB-rIA7"
   },
   "source": [
    "#### Handle missing data & Convert data"
   ]
  },
  {
   "cell_type": "code",
   "execution_count": 25,
   "id": "35b0863d-4c3e-45fd-9977-88b70e8a9ac7",
   "metadata": {
    "tags": []
   },
   "outputs": [
    {
     "name": "stdout",
     "output_type": "stream",
     "text": [
      "<class 'pandas.core.frame.DataFrame'>\n",
      "RangeIndex: 969743 entries, 0 to 969742\n",
      "Data columns (total 23 columns):\n",
      " #   Column                Non-Null Count   Dtype  \n",
      "---  ------                --------------   -----  \n",
      " 0   id                    969743 non-null  int64  \n",
      " 1   title                 969732 non-null  object \n",
      " 2   vote_average          969743 non-null  float64\n",
      " 3   vote_count            969743 non-null  int64  \n",
      " 4   status                969743 non-null  object \n",
      " 5   release_date          871061 non-null  object \n",
      " 6   revenue               969743 non-null  int64  \n",
      " 7   runtime               969743 non-null  int64  \n",
      " 8   adult                 969743 non-null  bool   \n",
      " 9   backdrop_path         280394 non-null  object \n",
      " 10  budget                969743 non-null  int64  \n",
      " 11  homepage              105536 non-null  object \n",
      " 12  imdb_id               562897 non-null  object \n",
      " 13  original_language     969743 non-null  object \n",
      " 14  original_title        969732 non-null  object \n",
      " 15  overview              797761 non-null  object \n",
      " 16  popularity            969743 non-null  float64\n",
      " 17  poster_path           712169 non-null  object \n",
      " 18  tagline               139929 non-null  object \n",
      " 19  genres                620986 non-null  object \n",
      " 20  production_companies  468145 non-null  object \n",
      " 21  production_countries  584567 non-null  object \n",
      " 22  spoken_languages      592368 non-null  object \n",
      "dtypes: bool(1), float64(2), int64(5), object(15)\n",
      "memory usage: 163.7+ MB\n"
     ]
    }
   ],
   "source": [
    "df.info()"
   ]
  },
  {
   "cell_type": "code",
   "execution_count": null,
   "id": "7c117803-c7b5-4964-9b8f-b1acd32c6e5d",
   "metadata": {},
   "outputs": [],
   "source": []
  },
  {
   "cell_type": "markdown",
   "id": "ca4c7277-9beb-4318-9c43-9c6383bab8de",
   "metadata": {},
   "source": [
    "#### Visualize some data\n",
    "Ở phần này ta sẽ biểu diễn một vài dữ liệu được cung cấp và đưa ra các nhận xét."
   ]
  },
  {
   "cell_type": "markdown",
   "id": "2fd6ecb1-f515-4981-a295-8b4484e27c31",
   "metadata": {},
   "source": []
  },
  {
   "cell_type": "code",
   "execution_count": null,
   "id": "4f08b43a-6601-492e-ad38-42249ce2de3a",
   "metadata": {},
   "outputs": [],
   "source": []
  },
  {
   "cell_type": "markdown",
   "id": "96c7772c-5218-4de0-8d07-658716e113a7",
   "metadata": {},
   "source": []
  },
  {
   "cell_type": "code",
   "execution_count": null,
   "id": "9f18022e-2082-46a0-8676-87a23dd6857d",
   "metadata": {},
   "outputs": [],
   "source": []
  },
  {
   "cell_type": "markdown",
   "id": "-O0R1fuLrIkU",
   "metadata": {
    "id": "-O0R1fuLrIkU",
    "tags": []
   },
   "source": [
    "## **3.1** Asking meaningful question"
   ]
  },
  {
   "cell_type": "markdown",
   "id": "940f3225-1255-469b-8b7f-74ec37d0438b",
   "metadata": {
    "id": "940f3225-1255-469b-8b7f-74ec37d0438b",
    "tags": []
   },
   "source": [
    "<table style='float:left;'>\n",
    "    <tr>\n",
    "        <th style='text-align:center;'>STT</th>\n",
    "        <th style='text-align:center;'>Nội dung</th>\n",
    "        <th style='text-align:center;'>Trình bày</th>\n",
    "    </tr>\n",
    "    <tr>\n",
    "        <td style='text-align:center;'>Câu 1</td>\n",
    "        <td style='text-align:left;'>Nội dung</td>\n",
    "        <td style='text-align:center;'><a href='#cauhoi_1'>C1</a></td>\n",
    "    </tr>\n",
    "    <tr>\n",
    "        <td style='text-align:center;'>Câu 2</td>\n",
    "        <td style='text-align:left;'>Nội dung</td>\n",
    "        <td style='text-align:center;'><a href='#cauhoi_2'>C2</a></td>\n",
    "    </tr>\n",
    "    <tr>\n",
    "        <td style='text-align:center;'>Câu 3</td>\n",
    "        <td style='text-align:left;'>Nội dung</td>\n",
    "        <td style='text-align:center;'><a href='#cauhoi_3'>C3</a></td>\n",
    "    </tr>\n",
    "</table>"
   ]
  },
  {
   "cell_type": "markdown",
   "id": "575c1eec-3e1b-4cd7-bf0a-67561583a0c1",
   "metadata": {
    "id": "575c1eec-3e1b-4cd7-bf0a-67561583a0c1"
   },
   "source": [
    "# **Phase 4**: Analyzing data to answer each question"
   ]
  },
  {
   "cell_type": "markdown",
   "id": "5d5b5813-8bae-46ce-a320-fee0e03566bd",
   "metadata": {
    "id": "5d5b5813-8bae-46ce-a320-fee0e03566bd",
    "tags": []
   },
   "source": [
    "### **Câu hỏi 1**: Những yếu tố nào là đặc trưng của 1 bộ phim có doanh thu cao?  <a name=\"cauhoi_2\"></a>\n",
    "\n",
    "**Ý nghĩa:** \n",
    "- Giúp chúng ta xác định được để có được 1 bộ phim có doanh thu cao thì những yếu tố ảnh hưởng là gì. \n",
    "- Điều này cung cấp thông tin quan trọng cho ngành công nghiệp điện ảnh để có thể tối ưu hóa chiến lược sản xuất và quảng cáo, tập trung vào việc tạo ra nội dung thu hút và thuận lợi nhất để thu hút đối tượng khán giả và đạt được doanh thu cao.\n",
    "\n",
    "\n",
    "**Quy trình:**\n",
    "- Loại bỏ dữ liệu không có doanh thu (vì 1 số lý do doanh thu không được cập nhật).\n",
    "- Xác định ngưỡng doanh thu cao\n",
    "- Phân tích tương quan và trực quan hoá\n",
    "- Đưa ra nhận xét và kết luận"
   ]
  },
  {
   "cell_type": "markdown",
   "id": "5d8bf53d",
   "metadata": {},
   "source": [
    "Trong bộ dữ liệu có rất nhiều bộ phim có doanh thu bằng 0. Để tính toán một cách hiệu quả cho câu hỏi trên đầu tiên ta sẽ tiến hành loại bỏ các cột này."
   ]
  },
  {
   "cell_type": "code",
   "execution_count": 26,
   "id": "de41be86-6370-4240-8c22-6b0d29b0beb9",
   "metadata": {
    "id": "de41be86-6370-4240-8c22-6b0d29b0beb9"
   },
   "outputs": [
    {
     "data": {
      "text/plain": [
       "count    1.905500e+04\n",
       "mean     3.860549e+07\n",
       "std      1.212376e+08\n",
       "min      1.000000e+00\n",
       "25%      8.789650e+04\n",
       "50%      2.471778e+06\n",
       "75%      2.100000e+07\n",
       "max      2.923706e+09\n",
       "Name: revenue, dtype: float64"
      ]
     },
     "execution_count": 26,
     "metadata": {},
     "output_type": "execute_result"
    }
   ],
   "source": [
    "positive_revenue_df = df.loc[df['revenue'] > 0]\n",
    "positive_revenue_df['revenue'].describe()"
   ]
  },
  {
   "cell_type": "code",
   "execution_count": 27,
   "id": "56434446",
   "metadata": {},
   "outputs": [
    {
     "name": "stdout",
     "output_type": "stream",
     "text": [
      "74.96720020991866   25.032799790081345\n"
     ]
    },
    {
     "data": {
      "image/png": "[encoded data removed]",
      "text/plain": [
       "<Figure size 640x480 with 1 Axes>"
      ]
     },
     "metadata": {},
     "output_type": "display_data"
    }
   ],
   "source": [
    "high_revenue = positive_revenue_df['revenue'].quantile(.75)\n",
    "high_revenue_percent = positive_revenue_df['revenue'][positive_revenue_df['revenue'] >= high_revenue].count() / positive_revenue_df.shape[0] *100\n",
    "\n",
    "high_revenue_df = positive_revenue_df[positive_revenue_df['revenue'] >= high_revenue]\n",
    "\n",
    "plt.pie([high_revenue_percent, 100-high_revenue_percent], labels = ['high_revenue', 'low_revenue'], startangle = 90, counterclock = False)\n",
    "plt.title('Percentage of high revenue movies');\n",
    "print(100-high_revenue_percent, ' ', high_revenue_percent)"
   ]
  },
  {
   "cell_type": "markdown",
   "id": "3b326c38",
   "metadata": {},
   "source": [
    "Trước khi phân tích kỹ hơn thì ta sẽ có tổng quan về tỷ lệ phim có doanh thu cao(được tính theo phân vị 75%):\n",
    "- Tỷ lệ phim có doanh thu cao là 25%\n",
    "- Tỷ lệ phim doanh thu thấp là 75%"
   ]
  },
  {
   "cell_type": "markdown",
   "id": "5385b048",
   "metadata": {},
   "source": [
    "Ta sử dụng **corr()** để tính giá trị tương quan và **searbon** để vẽ biểu đồ mối tương quan giữa các yếu tố khác đến doanh thu trong những bộ phim có doanh thu cao. Trong đó: \n",
    "- 1: Tương quan hoàn toàn tích cực.\n",
    "- 0: Không có tương quan tuyến tính.\n",
    "- -1: Tương quan hoàn toàn tiêu cực."
   ]
  },
  {
   "cell_type": "code",
   "execution_count": 28,
   "id": "8e28db50",
   "metadata": {},
   "outputs": [
    {
     "name": "stdout",
     "output_type": "stream",
     "text": [
      "Correlation between revenue and vote_average: 0.11\n",
      "Correlation between revenue and vote_count: 0.67\n",
      "Correlation between revenue and runtime: 0.13\n",
      "Correlation between revenue and budget: 0.65\n",
      "Correlation between revenue and popularity: 0.17\n"
     ]
    },
    {
     "data": {
      "image/png": "[encoded data removed]",
      "text/plain": [
       "<Figure size 1500x1000 with 6 Axes>"
      ]
     },
     "metadata": {},
     "output_type": "display_data"
    }
   ],
   "source": [
    "features = high_revenue_df.select_dtypes(include=['number']).columns.tolist()\n",
    "features.remove('revenue')\n",
    "features.remove('id')\n",
    "\n",
    "\n",
    "fig, axes = plt.subplots(nrows=3, ncols=2, figsize=(15, 10))\n",
    "plt.subplots_adjust(wspace=0.5, hspace=0.5)\n",
    "\n",
    "axes = axes.flatten()\n",
    "\n",
    "for i, feature in enumerate(features):\n",
    "    sns.regplot(x=high_revenue_df['revenue'], y=high_revenue_df[feature], color='c', scatter_kws={'s': 10}, ax=axes[i])\n",
    "    \n",
    "    axes[i].set_title(f\"Revenue & {feature.capitalize()}\", fontsize=12)\n",
    "    axes[i].set_xlabel(\"Revenue\", fontsize=10)\n",
    "    axes[i].set_ylabel(feature.capitalize(), fontsize=10)\n",
    "\n",
    "    correlation = high_revenue_df['revenue'].corr(high_revenue_df[feature])\n",
    "    print(f\"Correlation between revenue and {feature}: {correlation:.2f}\")\n",
    "\n",
    "plt.show()"
   ]
  },
  {
   "cell_type": "markdown",
   "id": "225167ad",
   "metadata": {},
   "source": [
    "Dựa trên giá trị mối tương quan được tính, ta có thể đưa ra một số nhận xét về mức độ tương quan giữa doanh thu và các thuộc tính số khác như:\n",
    "\n",
    "- **Điểm đánh giá trung bình (vote_average)**: Mối tương quan là 0.11, cho thấy có một sự tương quan tích cực nhẹ. Tuy nhiên, mối liên kết này không mạnh.\n",
    "\n",
    "- **Số lượng phiếu bầu (vote_count)**: Có một mối tương quan đáng kể (0.67) giữa số lượng phiếu bầu và doanh thu. Điều này có thể chỉ ra rằng các bộ phim có số lượng phiếu bầu lớn thường có doanh thu cao.\n",
    "\n",
    "- **Thời lượng (runtime)**: Mối tương quan là 0.13, cho thấy mối liên kết nhẹ giữa thời lượng và doanh thu.\n",
    "\n",
    "- **Ngân sách (budget)**: Có một mối tương quan đáng kể (0.65) giữa ngân sách và doanh thu. Điều này có ý nghĩa, vì có thể dự đoán rằng các bộ phim với ngân sách lớn hơn thường có khả năng có doanh thu cao hơn.\n",
    "\n",
    "- **Độ phổ biến (popularity)**: Có một mối tương quan nhẹ (0.17) giữa độ phổ biến và doanh thu."
   ]
  },
  {
   "cell_type": "markdown",
   "id": "f83a0f2f",
   "metadata": {},
   "source": [
    "Đối với rating của các bộ phim tuy không có sự tuyến tính giữa các bộ phim có doanh thu cao và rating nhưng khi so sánh biểu đồ, chúng ta có thể thấy đối với các bộ phim có doanh thu cao thì mức độ phim bị đánh giá thấp ít hơn rất nhiều so với các bộ phim có doanh thu thấp."
   ]
  },
  {
   "cell_type": "code",
   "execution_count": 29,
   "id": "90a39260",
   "metadata": {},
   "outputs": [
    {
     "data": {
      "image/png": "[encoded data removed]",
      "text/plain": [
       "<Figure size 1500x600 with 2 Axes>"
      ]
     },
     "metadata": {},
     "output_type": "display_data"
    }
   ],
   "source": [
    "fig, axes = plt.subplots(nrows=1, ncols=2, figsize=(15, 6))\n",
    "\n",
    "other_revenue_df = positive_revenue_df[positive_revenue_df['revenue'] <= high_revenue]\n",
    "\n",
    "axes[0].hist(high_revenue_df['vote_average'])\n",
    "axes[0].set_title('High Revenue Movies')\n",
    "axes[0].set_xlabel('Vote Average')\n",
    "axes[0].set_ylabel('Frequency')\n",
    "\n",
    "axes[1].hist(other_revenue_df['vote_average'])\n",
    "axes[1].set_title('Other')\n",
    "axes[1].set_xlabel('Vote Average')\n",
    "axes[1].set_ylabel('Frequency')\n",
    "\n",
    "plt.tight_layout()\n",
    "plt.show()"
   ]
  },
  {
   "cell_type": "markdown",
   "id": "637ef9ea-9a76-4e88-8354-28aa8e9f205e",
   "metadata": {
    "id": "637ef9ea-9a76-4e88-8354-28aa8e9f205e",
    "tags": []
   },
   "source": [
    "### **Câu hỏi 2**: ghi nội dung ở đây<a name=\"cauhoi_2\"></a>\n",
    "\n",
    "**Ý nghĩa:**"
   ]
  },
  {
   "cell_type": "code",
   "execution_count": null,
   "id": "4ca4f958",
   "metadata": {},
   "outputs": [],
   "source": []
  },
  {
   "cell_type": "code",
   "execution_count": null,
   "id": "4ddaa0ec",
   "metadata": {},
   "outputs": [],
   "source": []
  },
  {
   "cell_type": "code",
   "execution_count": null,
   "id": "5e55d712-8a81-420c-899d-89f907fbb133",
   "metadata": {
    "id": "5e55d712-8a81-420c-899d-89f907fbb133"
   },
   "outputs": [],
   "source": []
  },
  {
   "cell_type": "markdown",
   "id": "64d757b1-4496-4e37-9c64-61d4fd452c07",
   "metadata": {
    "id": "64d757b1-4496-4e37-9c64-61d4fd452c07"
   },
   "source": [
    "### **Câu hỏi 3**: ghi nội dung ở đây<a name=\"cauhoi_3\"></a>\n",
    "\n",
    "**Ý nghĩa:**"
   ]
  },
  {
   "cell_type": "code",
   "execution_count": null,
   "id": "4b8f8ea9-b4aa-447e-82d1-97247f45d8f2",
   "metadata": {},
   "outputs": [],
   "source": []
  },
  {
   "cell_type": "markdown",
   "id": "098d013f-c20b-45a6-be19-8902f5a6683a",
   "metadata": {},
   "source": [
    "### **Câu hỏi 4**: 5 công ty có doanh thu lớn nhất tập trung sản xuất các thể loại nào? <a name=\"cauhoi_3\"></a>\n",
    "\n",
    "**Ý nghĩa:**\n",
    "Các công ty có doanh thu lớn là những công ty đứng đầu nền công nghiệp điện ảnh, việc phân tích sự phân bố của các thể loại của các công ty này có thể giúp ta có những nhận định sau:\n",
    "- Hiểu được thị trường và sở thích của khán giả của các công ty hàng đầu có thể giúp ngành công nghiệp điện ảnh tập trung vào sản xuất những thể loại nào để tối ưu hóa lợi nhuận.\n",
    "- Cung cấp thông tin chiến lược cho các nhà sản xuất về việc chọn lựa thể loại nào có thể mang lại doanh thu cao khi hợp tác với các công ty lớn.\n",
    "- Hiểu rõ về sự phân bố doanh thu có thể giúp các công ty đảm bảo đa dạng hóa sản phẩm của họ. Việc sản xuất các loại phim khác nhau dựa trên xu hướng thị trường có thể giảm rủi ro và tăng khả năng thu hút đối tượng khán giả đa dạng.\n",
    "- Sự hiểu biết về thị trường thể loại giúp chỉ đạo nghiên cứu và phát triển. Các nhà sản xuất có thể dựa vào thông tin này để phát triển những dự án mới phù hợp với sở thích và yêu cầu của thị trường.\n",
    "\n",
    "**Quy trình:**\n",
    "- Loại bỏ dữ liệu không có doanh thu (vì 1 số lý do doanh thu không được cập nhật).\n",
    "- Tách cột `production_companies` để lấy ra danh sách các công ty\n",
    "- Tách cột `genres` để lấy ra danh sách thể loại ứng với công ty\n",
    "- Nhóm dữ liệu lại và lấy ra top 6 công ty có doanh thu cao nhất\n",
    "- Vẽ biểu đồ  Pie Chart cho sự phân bố thể loại của từng công ty\n",
    "- Nhận xét và đánh giá"
   ]
  },
  {
   "cell_type": "code",
   "execution_count": null,
   "id": "25b6079c-3d0f-477d-ad21-968c6c0c17e2",
   "metadata": {},
   "outputs": [],
   "source": []
  },
  {
   "cell_type": "markdown",
   "id": "60e38a58-1d51-40a1-a6fe-9083b1935ec5",
   "metadata": {
    "id": "60e38a58-1d51-40a1-a6fe-9083b1935ec5"
   },
   "source": [
    "# **Phase 5**: Reflection"
   ]
  },
  {
   "cell_type": "markdown",
   "id": "FyhlFXPAbJ80",
   "metadata": {
    "id": "FyhlFXPAbJ80"
   },
   "source": [
    "## 5.0 Team members"
   ]
  },
  {
   "cell_type": "markdown",
   "id": "MpJ1i_GIrzjD",
   "metadata": {
    "id": "MpJ1i_GIrzjD"
   },
   "source": [
    "**Văn Bá Bảo Huy**\n",
    "- Khó khăn:\n",
    "- Điều đã học được:"
   ]
  },
  {
   "cell_type": "markdown",
   "id": "0HINnO4gr91F",
   "metadata": {
    "id": "0HINnO4gr91F"
   },
   "source": [
    "**Nguyễn Thị Gái**\n",
    "- Khó khăn:\n",
    "- Điều đã học được:"
   ]
  },
  {
   "cell_type": "markdown",
   "id": "53ONaeSBsBq8",
   "metadata": {
    "id": "53ONaeSBsBq8"
   },
   "source": [
    "**Nguyễn Thị Thanh Hoa**\n",
    "- Khó khăn:\n",
    "- Điều đã học được:"
   ]
  },
  {
   "cell_type": "markdown",
   "id": "5VUVm6OdsSi9",
   "metadata": {
    "id": "5VUVm6OdsSi9"
   },
   "source": [
    "## 5.1 Team"
   ]
  },
  {
   "cell_type": "markdown",
   "id": "MTN14NixsThM",
   "metadata": {
    "id": "MTN14NixsThM"
   },
   "source": [
    "Nếu có nhiều thời gian hơn, nhóm sẽ ..."
   ]
  }
 ],
 "metadata": {
  "colab": {
   "collapsed_sections": [
    "2dda0f66-d807-4d91-b103-4cae303727d8",
    "1222639b-1a1b-4eea-842b-8ff2baa4decd"
   ],
   "provenance": [],
   "toc_visible": true
  },
  "kernelspec": {
   "display_name": "Python 3 (ipykernel)",
   "language": "python",
   "name": "python3"
  },
  "language_info": {
   "codemirror_mode": {
    "name": "ipython",
    "version": 3
   },
   "file_extension": ".py",
   "mimetype": "text/x-python",
   "name": "python",
   "nbconvert_exporter": "python",
   "pygments_lexer": "ipython3",
   "version": "3.9.18"
  }
 },
 "nbformat": 4,
 "nbformat_minor": 5
}
