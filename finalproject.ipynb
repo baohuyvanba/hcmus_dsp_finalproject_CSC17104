{
  "cells": [
    {
      "cell_type": "markdown",
      "id": "56026243-04ff-491e-aa56-c64ed3ba4fad",
      "metadata": {
        "id": "56026243-04ff-491e-aa56-c64ed3ba4fad"
      },
      "source": [
        "# Final Project\n",
        "### Môn học: CSC17104 - Lập trình cho Khoa học dữ liệu\n",
        "****"
      ]
    },
    {
      "cell_type": "markdown",
      "source": [
        "**Đây là File Notebook sample, chưa hoàn thiện, nên chỉ xem để biết Dữ liệu chọn có đáp ứng hết các task trong này không (ngoài các yêu cầu đã ghi ở phần tìm hiểu ha). Khi bắt đầu thực hiện sẽ gửi File Notebook để tự làm rồi up github.**"
      ],
      "metadata": {
        "id": "kGnhS2j2_Vr-"
      },
      "id": "kGnhS2j2_Vr-"
    },
    {
      "cell_type": "markdown",
      "id": "d84f313b-429a-4406-aff7-a4232d94d81b",
      "metadata": {
        "tags": [],
        "id": "d84f313b-429a-4406-aff7-a4232d94d81b"
      },
      "source": [
        "**Nhóm 26**\n",
        "<table style='float:left;'>\n",
        "    <tr>\n",
        "        <th style='text-align:center;'>MSSV</th>\n",
        "        <th style='text-align:center;'>Họ và Tên</th>\n",
        "        <th style='text-align:center;'>Mức độ hoàn thành(%)</th>\n",
        "        <th style='text-align:center;'>Nhiệm vụ</th>\n",
        "    </tr>\n",
        "    <tr>\n",
        "        <td style='text-align:center;'>21120178</td>\n",
        "        <td style='text-align:left;'>Văn Bá Bảo Huy</td>\n",
        "        <td style='text-align:center;'>Mức độ hoàn thành</td>\n",
        "        <td style='text-align:left;'>Nhiệm vụ</td>\n",
        "    </tr>\n",
        "    <tr>\n",
        "        <td style='text-align:center;'>21120071</td>\n",
        "        <td style='text-align:left;'>Nguyễn Thị Thanh Hoa</td>\n",
        "        <td style='text-align:center;'>Mức độ hoàn thành</td>\n",
        "        <td style='text-align:left;'>Nhiệm vụ</td>\n",
        "    </tr>\n",
        "    <tr>\n",
        "        <td style='text-align:center;'>21120174</td>\n",
        "        <td style='text-align:left;'>Nguyễn Thị Gái</td>\n",
        "        <td style='text-align:center;'>Mức độ hoàn thành</td>\n",
        "        <td style='text-align:left;'>Nhiệm vụ</td>\n",
        "    </tr>\n",
        "</table>"
      ]
    },
    {
      "cell_type": "markdown",
      "id": "73004b25-2e55-4e41-8e62-3dcb86d27a08",
      "metadata": {
        "tags": [],
        "id": "73004b25-2e55-4e41-8e62-3dcb86d27a08"
      },
      "source": [
        "### Environment check & Import nescessary packages"
      ]
    },
    {
      "cell_type": "code",
      "execution_count": 1,
      "id": "0a1ea7e7-ce37-4508-becb-038068bb6b76",
      "metadata": {
        "tags": [],
        "id": "0a1ea7e7-ce37-4508-becb-038068bb6b76"
      },
      "outputs": [],
      "source": [
        "import sys\n",
        "sys.executable\n",
        "!pip install -q kaggle"
      ]
    },
    {
      "cell_type": "code",
      "execution_count": 2,
      "id": "1da1ba6b-b240-4c29-b15c-2310e4818bd0",
      "metadata": {
        "tags": [],
        "id": "1da1ba6b-b240-4c29-b15c-2310e4818bd0"
      },
      "outputs": [],
      "source": [
        "import numpy as np\n",
        "import pandas as pd\n",
        "import matplotlib.pyplot as plt\n",
        "import json\n",
        "from collections import Counter\n",
        "import datetime\n",
        "import statistics\n",
        "import seaborn as sns\n",
        "from matplotlib import cycler"
      ]
    },
    {
      "cell_type": "markdown",
      "id": "093e3e2a-b777-463d-8033-0062d2a80204",
      "metadata": {
        "id": "093e3e2a-b777-463d-8033-0062d2a80204"
      },
      "source": [
        "# **Phase 1**: Collecting Data"
      ]
    },
    {
      "cell_type": "markdown",
      "id": "c7fa6f74-188e-4981-a852-ecf85a3c02ef",
      "metadata": {
        "id": "c7fa6f74-188e-4981-a852-ecf85a3c02ef"
      },
      "source": [
        "**Dataset**: Movies Daily Update Dataset<br>\n",
        "**Kaggle**: https://www.kaggle.com/datasets/akshaypawar7/millions-of-movies"
      ]
    },
    {
      "cell_type": "code",
      "source": [
        "#Download data from Kaggle with api-key\n",
        "!mkdir ~/.kaggle\n",
        "!touch ~/.kaggle/kaggle.json\n",
        "api_json = {\"username\":\"tyzenr\",\"key\":\"08b25d2b177116a2cb7dfddc38ab964b\"}\n",
        "with open('/root/.kaggle/kaggle.json', 'w') as file:\n",
        "    json.dump(api_json, file)\n",
        "!chmod 600 ~/.kaggle/kaggle.json\n",
        "import kaggle\n",
        "kaggle.api.authenticate()\n",
        "kaggle.api.dataset_download_files('akshaypawar7/millions-of-movies', path='.', unzip=True)"
      ],
      "metadata": {
        "id": "80T9nMP_CxHE"
      },
      "id": "80T9nMP_CxHE",
      "execution_count": 3,
      "outputs": []
    },
    {
      "cell_type": "markdown",
      "id": "2d5b61c4-7c61-4991-852d-16ecfae71f0b",
      "metadata": {
        "id": "2d5b61c4-7c61-4991-852d-16ecfae71f0b"
      },
      "source": [
        "**1. Dữ liệu về chủ đề gì? Nguồn dữ liệu?**<br>\n",
        "- Chủ đề dữ liệu: Bộ dữ liệu của hơn 700.000 bộ phim trong tập dữ liệu TMDB.<br>\n",
        "- Nguồn dữ liệu: Kaggle\n",
        "<br>\n",
        "\n",
        "**2. Kiểm tra vấn đề bản quyền của tập dữ liệu.**<br>\n",
        "- `CC0: Public Domain` - No Right Reserved\n",
        "- CC0 cho phép các nhà khoa học, nhà giáo dục, nghệ sĩ, những người sáng tạo và chủ sở hữu khác của nội dung được bảo vệ bản quyền hoặc cơ sở dữ liệu *từ bỏ* những lợi ích đó đối với tác phẩm của họ và do đó đặt chúng hoàn toàn nhất có thể trong phạm vi công cộng, để những người khác có thể tự do xây dựng, nâng cao và tái sử dụng tác phẩm cho bất kỳ mục đích nào mà không bị hạn chế theo luật bản quyền hoặc cơ sở dữ liệu.\n",
        "<br>\n",
        "\n",
        "**3. Tác giả của tập dữ liệu đã thu thập bằng cách nào?** <br>\n",
        "- Dữ liệu được thu thập từ TMDB Open API.\n",
        "<br>"
      ]
    },
    {
      "cell_type": "markdown",
      "id": "efd36b29-9d11-4a94-a917-c78b1ceb2495",
      "metadata": {
        "id": "efd36b29-9d11-4a94-a917-c78b1ceb2495"
      },
      "source": [
        "# **Phase 2**: Exploring Data"
      ]
    },
    {
      "cell_type": "markdown",
      "id": "2dda0f66-d807-4d91-b103-4cae303727d8",
      "metadata": {
        "id": "2dda0f66-d807-4d91-b103-4cae303727d8"
      },
      "source": [
        "### 2.0 Đọc dữ liệu"
      ]
    },
    {
      "cell_type": "code",
      "execution_count": 4,
      "id": "c137553a-20af-4563-af91-c57faf088b54",
      "metadata": {
        "tags": [],
        "id": "c137553a-20af-4563-af91-c57faf088b54",
        "colab": {
          "base_uri": "https://localhost:8080/",
          "height": 476
        },
        "outputId": "b3010dc1-ae55-481c-ed71-71c9acd3d7d4"
      },
      "outputs": [
        {
          "output_type": "execute_result",
          "data": {
            "text/plain": [
              "       id                             title                            genres  \\\n",
              "0  615656                 Meg 2: The Trench     Action-Science Fiction-Horror   \n",
              "1  758323               The Pope's Exorcist           Horror-Mystery-Thriller   \n",
              "2  667538  Transformers: Rise of the Beasts  Action-Adventure-Science Fiction   \n",
              "\n",
              "  original_language                                           overview  \\\n",
              "0                en  An exploratory dive into the deepest depths of...   \n",
              "1                en  Father Gabriele Amorth Chief Exorcist of the V...   \n",
              "2                en  When a new threat capable of destroying the en...   \n",
              "\n",
              "   popularity                               production_companies release_date  \\\n",
              "0    8763.998  Apelles Entertainment-Warner Bros. Pictures-di...   2023-08-02   \n",
              "1    5953.227  Screen Gems-2.0 Entertainment-Jesus & Mary-Wor...   2023-04-05   \n",
              "2    5409.104  Skydance-Paramount-di Bonaventura Pictures-Bay...   2023-06-06   \n",
              "\n",
              "        budget      revenue  runtime    status  \\\n",
              "0  129000000.0  352056482.0    116.0  Released   \n",
              "1   18000000.0   65675816.0    103.0  Released   \n",
              "2  200000000.0  407045464.0    127.0  Released   \n",
              "\n",
              "                                             tagline  vote_average  \\\n",
              "0                                  Back for seconds.         7.079   \n",
              "1  Inspired by the actual files of Father Gabriel...         7.433   \n",
              "2                                     Unite or fall.         7.340   \n",
              "\n",
              "   vote_count                                            credits  \\\n",
              "0      1365.0  Jason Statham-Wu Jing-Shuya Sophia Cai-Sergio ...   \n",
              "1       545.0  Russell Crowe-Daniel Zovatto-Alex Essoe-Franco...   \n",
              "2      1007.0  Anthony Ramos-Dominique Fishback-Luna Lauren V...   \n",
              "\n",
              "                                            keywords  \\\n",
              "0                based on novel or book-sequel-kaiju   \n",
              "1  spain-rome italy-vatican-pope-pig-possession-c...   \n",
              "2  peru-alien-end of the world-based on cartoon-b...   \n",
              "\n",
              "                        poster_path                     backdrop_path  \\\n",
              "0  /4m1Au3YkjqsxF8iwQy0fPYSxE0h.jpg  /qlxy8yo5bcgUw2KAmmojUKp4rHd.jpg   \n",
              "1  /9JBEPLTPSm0d1mbEcLxULjJq9Eh.jpg  /hiHGRbyTcbZoLsYYkO4QiCLYe34.jpg   \n",
              "2  /gPbM0MK8CP8A174rmUwGsADNYKD.jpg  /woJbg7ZqidhpvqFGGMRhWQNoxwa.jpg   \n",
              "\n",
              "                                     recommendations  \n",
              "0  1006462-298618-569094-1061181-346698-1076487-6...  \n",
              "1  713704-296271-502356-1076605-1084225-1008005-9...  \n",
              "2  496450-569094-298618-385687-877100-598331-4628...  "
            ],
            "text/html": [
              "\n",
              "  <div id=\"df-8b9030be-bc56-4a8d-bc01-7b568ed8b5ff\" class=\"colab-df-container\">\n",
              "    <div>\n",
              "<style scoped>\n",
              "    .dataframe tbody tr th:only-of-type {\n",
              "        vertical-align: middle;\n",
              "    }\n",
              "\n",
              "    .dataframe tbody tr th {\n",
              "        vertical-align: top;\n",
              "    }\n",
              "\n",
              "    .dataframe thead th {\n",
              "        text-align: right;\n",
              "    }\n",
              "</style>\n",
              "<table border=\"1\" class=\"dataframe\">\n",
              "  <thead>\n",
              "    <tr style=\"text-align: right;\">\n",
              "      <th></th>\n",
              "      <th>id</th>\n",
              "      <th>title</th>\n",
              "      <th>genres</th>\n",
              "      <th>original_language</th>\n",
              "      <th>overview</th>\n",
              "      <th>popularity</th>\n",
              "      <th>production_companies</th>\n",
              "      <th>release_date</th>\n",
              "      <th>budget</th>\n",
              "      <th>revenue</th>\n",
              "      <th>runtime</th>\n",
              "      <th>status</th>\n",
              "      <th>tagline</th>\n",
              "      <th>vote_average</th>\n",
              "      <th>vote_count</th>\n",
              "      <th>credits</th>\n",
              "      <th>keywords</th>\n",
              "      <th>poster_path</th>\n",
              "      <th>backdrop_path</th>\n",
              "      <th>recommendations</th>\n",
              "    </tr>\n",
              "  </thead>\n",
              "  <tbody>\n",
              "    <tr>\n",
              "      <th>0</th>\n",
              "      <td>615656</td>\n",
              "      <td>Meg 2: The Trench</td>\n",
              "      <td>Action-Science Fiction-Horror</td>\n",
              "      <td>en</td>\n",
              "      <td>An exploratory dive into the deepest depths of...</td>\n",
              "      <td>8763.998</td>\n",
              "      <td>Apelles Entertainment-Warner Bros. Pictures-di...</td>\n",
              "      <td>2023-08-02</td>\n",
              "      <td>129000000.0</td>\n",
              "      <td>352056482.0</td>\n",
              "      <td>116.0</td>\n",
              "      <td>Released</td>\n",
              "      <td>Back for seconds.</td>\n",
              "      <td>7.079</td>\n",
              "      <td>1365.0</td>\n",
              "      <td>Jason Statham-Wu Jing-Shuya Sophia Cai-Sergio ...</td>\n",
              "      <td>based on novel or book-sequel-kaiju</td>\n",
              "      <td>/4m1Au3YkjqsxF8iwQy0fPYSxE0h.jpg</td>\n",
              "      <td>/qlxy8yo5bcgUw2KAmmojUKp4rHd.jpg</td>\n",
              "      <td>1006462-298618-569094-1061181-346698-1076487-6...</td>\n",
              "    </tr>\n",
              "    <tr>\n",
              "      <th>1</th>\n",
              "      <td>758323</td>\n",
              "      <td>The Pope's Exorcist</td>\n",
              "      <td>Horror-Mystery-Thriller</td>\n",
              "      <td>en</td>\n",
              "      <td>Father Gabriele Amorth Chief Exorcist of the V...</td>\n",
              "      <td>5953.227</td>\n",
              "      <td>Screen Gems-2.0 Entertainment-Jesus &amp; Mary-Wor...</td>\n",
              "      <td>2023-04-05</td>\n",
              "      <td>18000000.0</td>\n",
              "      <td>65675816.0</td>\n",
              "      <td>103.0</td>\n",
              "      <td>Released</td>\n",
              "      <td>Inspired by the actual files of Father Gabriel...</td>\n",
              "      <td>7.433</td>\n",
              "      <td>545.0</td>\n",
              "      <td>Russell Crowe-Daniel Zovatto-Alex Essoe-Franco...</td>\n",
              "      <td>spain-rome italy-vatican-pope-pig-possession-c...</td>\n",
              "      <td>/9JBEPLTPSm0d1mbEcLxULjJq9Eh.jpg</td>\n",
              "      <td>/hiHGRbyTcbZoLsYYkO4QiCLYe34.jpg</td>\n",
              "      <td>713704-296271-502356-1076605-1084225-1008005-9...</td>\n",
              "    </tr>\n",
              "    <tr>\n",
              "      <th>2</th>\n",
              "      <td>667538</td>\n",
              "      <td>Transformers: Rise of the Beasts</td>\n",
              "      <td>Action-Adventure-Science Fiction</td>\n",
              "      <td>en</td>\n",
              "      <td>When a new threat capable of destroying the en...</td>\n",
              "      <td>5409.104</td>\n",
              "      <td>Skydance-Paramount-di Bonaventura Pictures-Bay...</td>\n",
              "      <td>2023-06-06</td>\n",
              "      <td>200000000.0</td>\n",
              "      <td>407045464.0</td>\n",
              "      <td>127.0</td>\n",
              "      <td>Released</td>\n",
              "      <td>Unite or fall.</td>\n",
              "      <td>7.340</td>\n",
              "      <td>1007.0</td>\n",
              "      <td>Anthony Ramos-Dominique Fishback-Luna Lauren V...</td>\n",
              "      <td>peru-alien-end of the world-based on cartoon-b...</td>\n",
              "      <td>/gPbM0MK8CP8A174rmUwGsADNYKD.jpg</td>\n",
              "      <td>/woJbg7ZqidhpvqFGGMRhWQNoxwa.jpg</td>\n",
              "      <td>496450-569094-298618-385687-877100-598331-4628...</td>\n",
              "    </tr>\n",
              "  </tbody>\n",
              "</table>\n",
              "</div>\n",
              "    <div class=\"colab-df-buttons\">\n",
              "\n",
              "  <div class=\"colab-df-container\">\n",
              "    <button class=\"colab-df-convert\" onclick=\"convertToInteractive('df-8b9030be-bc56-4a8d-bc01-7b568ed8b5ff')\"\n",
              "            title=\"Convert this dataframe to an interactive table.\"\n",
              "            style=\"display:none;\">\n",
              "\n",
              "  <svg xmlns=\"http://www.w3.org/2000/svg\" height=\"24px\" viewBox=\"0 -960 960 960\">\n",
              "    <path d=\"M120-120v-720h720v720H120Zm60-500h600v-160H180v160Zm220 220h160v-160H400v160Zm0 220h160v-160H400v160ZM180-400h160v-160H180v160Zm440 0h160v-160H620v160ZM180-180h160v-160H180v160Zm440 0h160v-160H620v160Z\"/>\n",
              "  </svg>\n",
              "    </button>\n",
              "\n",
              "  <style>\n",
              "    .colab-df-container {\n",
              "      display:flex;\n",
              "      gap: 12px;\n",
              "    }\n",
              "\n",
              "    .colab-df-convert {\n",
              "      background-color: #E8F0FE;\n",
              "      border: none;\n",
              "      border-radius: 50%;\n",
              "      cursor: pointer;\n",
              "      display: none;\n",
              "      fill: #1967D2;\n",
              "      height: 32px;\n",
              "      padding: 0 0 0 0;\n",
              "      width: 32px;\n",
              "    }\n",
              "\n",
              "    .colab-df-convert:hover {\n",
              "      background-color: #E2EBFA;\n",
              "      box-shadow: 0px 1px 2px rgba(60, 64, 67, 0.3), 0px 1px 3px 1px rgba(60, 64, 67, 0.15);\n",
              "      fill: #174EA6;\n",
              "    }\n",
              "\n",
              "    .colab-df-buttons div {\n",
              "      margin-bottom: 4px;\n",
              "    }\n",
              "\n",
              "    [theme=dark] .colab-df-convert {\n",
              "      background-color: #3B4455;\n",
              "      fill: #D2E3FC;\n",
              "    }\n",
              "\n",
              "    [theme=dark] .colab-df-convert:hover {\n",
              "      background-color: #434B5C;\n",
              "      box-shadow: 0px 1px 3px 1px rgba(0, 0, 0, 0.15);\n",
              "      filter: drop-shadow(0px 1px 2px rgba(0, 0, 0, 0.3));\n",
              "      fill: #FFFFFF;\n",
              "    }\n",
              "  </style>\n",
              "\n",
              "    <script>\n",
              "      const buttonEl =\n",
              "        document.querySelector('#df-8b9030be-bc56-4a8d-bc01-7b568ed8b5ff button.colab-df-convert');\n",
              "      buttonEl.style.display =\n",
              "        google.colab.kernel.accessAllowed ? 'block' : 'none';\n",
              "\n",
              "      async function convertToInteractive(key) {\n",
              "        const element = document.querySelector('#df-8b9030be-bc56-4a8d-bc01-7b568ed8b5ff');\n",
              "        const dataTable =\n",
              "          await google.colab.kernel.invokeFunction('convertToInteractive',\n",
              "                                                    [key], {});\n",
              "        if (!dataTable) return;\n",
              "\n",
              "        const docLinkHtml = 'Like what you see? Visit the ' +\n",
              "          '<a target=\"_blank\" href=https://colab.research.google.com/notebooks/data_table.ipynb>data table notebook</a>'\n",
              "          + ' to learn more about interactive tables.';\n",
              "        element.innerHTML = '';\n",
              "        dataTable['output_type'] = 'display_data';\n",
              "        await google.colab.output.renderOutput(dataTable, element);\n",
              "        const docLink = document.createElement('div');\n",
              "        docLink.innerHTML = docLinkHtml;\n",
              "        element.appendChild(docLink);\n",
              "      }\n",
              "    </script>\n",
              "  </div>\n",
              "\n",
              "\n",
              "<div id=\"df-44b7591e-1258-46c8-8529-e84ab15d8447\">\n",
              "  <button class=\"colab-df-quickchart\" onclick=\"quickchart('df-44b7591e-1258-46c8-8529-e84ab15d8447')\"\n",
              "            title=\"Suggest charts\"\n",
              "            style=\"display:none;\">\n",
              "\n",
              "<svg xmlns=\"http://www.w3.org/2000/svg\" height=\"24px\"viewBox=\"0 0 24 24\"\n",
              "     width=\"24px\">\n",
              "    <g>\n",
              "        <path d=\"M19 3H5c-1.1 0-2 .9-2 2v14c0 1.1.9 2 2 2h14c1.1 0 2-.9 2-2V5c0-1.1-.9-2-2-2zM9 17H7v-7h2v7zm4 0h-2V7h2v10zm4 0h-2v-4h2v4z\"/>\n",
              "    </g>\n",
              "</svg>\n",
              "  </button>\n",
              "\n",
              "<style>\n",
              "  .colab-df-quickchart {\n",
              "      --bg-color: #E8F0FE;\n",
              "      --fill-color: #1967D2;\n",
              "      --hover-bg-color: #E2EBFA;\n",
              "      --hover-fill-color: #174EA6;\n",
              "      --disabled-fill-color: #AAA;\n",
              "      --disabled-bg-color: #DDD;\n",
              "  }\n",
              "\n",
              "  [theme=dark] .colab-df-quickchart {\n",
              "      --bg-color: #3B4455;\n",
              "      --fill-color: #D2E3FC;\n",
              "      --hover-bg-color: #434B5C;\n",
              "      --hover-fill-color: #FFFFFF;\n",
              "      --disabled-bg-color: #3B4455;\n",
              "      --disabled-fill-color: #666;\n",
              "  }\n",
              "\n",
              "  .colab-df-quickchart {\n",
              "    background-color: var(--bg-color);\n",
              "    border: none;\n",
              "    border-radius: 50%;\n",
              "    cursor: pointer;\n",
              "    display: none;\n",
              "    fill: var(--fill-color);\n",
              "    height: 32px;\n",
              "    padding: 0;\n",
              "    width: 32px;\n",
              "  }\n",
              "\n",
              "  .colab-df-quickchart:hover {\n",
              "    background-color: var(--hover-bg-color);\n",
              "    box-shadow: 0 1px 2px rgba(60, 64, 67, 0.3), 0 1px 3px 1px rgba(60, 64, 67, 0.15);\n",
              "    fill: var(--button-hover-fill-color);\n",
              "  }\n",
              "\n",
              "  .colab-df-quickchart-complete:disabled,\n",
              "  .colab-df-quickchart-complete:disabled:hover {\n",
              "    background-color: var(--disabled-bg-color);\n",
              "    fill: var(--disabled-fill-color);\n",
              "    box-shadow: none;\n",
              "  }\n",
              "\n",
              "  .colab-df-spinner {\n",
              "    border: 2px solid var(--fill-color);\n",
              "    border-color: transparent;\n",
              "    border-bottom-color: var(--fill-color);\n",
              "    animation:\n",
              "      spin 1s steps(1) infinite;\n",
              "  }\n",
              "\n",
              "  @keyframes spin {\n",
              "    0% {\n",
              "      border-color: transparent;\n",
              "      border-bottom-color: var(--fill-color);\n",
              "      border-left-color: var(--fill-color);\n",
              "    }\n",
              "    20% {\n",
              "      border-color: transparent;\n",
              "      border-left-color: var(--fill-color);\n",
              "      border-top-color: var(--fill-color);\n",
              "    }\n",
              "    30% {\n",
              "      border-color: transparent;\n",
              "      border-left-color: var(--fill-color);\n",
              "      border-top-color: var(--fill-color);\n",
              "      border-right-color: var(--fill-color);\n",
              "    }\n",
              "    40% {\n",
              "      border-color: transparent;\n",
              "      border-right-color: var(--fill-color);\n",
              "      border-top-color: var(--fill-color);\n",
              "    }\n",
              "    60% {\n",
              "      border-color: transparent;\n",
              "      border-right-color: var(--fill-color);\n",
              "    }\n",
              "    80% {\n",
              "      border-color: transparent;\n",
              "      border-right-color: var(--fill-color);\n",
              "      border-bottom-color: var(--fill-color);\n",
              "    }\n",
              "    90% {\n",
              "      border-color: transparent;\n",
              "      border-bottom-color: var(--fill-color);\n",
              "    }\n",
              "  }\n",
              "</style>\n",
              "\n",
              "  <script>\n",
              "    async function quickchart(key) {\n",
              "      const quickchartButtonEl =\n",
              "        document.querySelector('#' + key + ' button');\n",
              "      quickchartButtonEl.disabled = true;  // To prevent multiple clicks.\n",
              "      quickchartButtonEl.classList.add('colab-df-spinner');\n",
              "      try {\n",
              "        const charts = await google.colab.kernel.invokeFunction(\n",
              "            'suggestCharts', [key], {});\n",
              "      } catch (error) {\n",
              "        console.error('Error during call to suggestCharts:', error);\n",
              "      }\n",
              "      quickchartButtonEl.classList.remove('colab-df-spinner');\n",
              "      quickchartButtonEl.classList.add('colab-df-quickchart-complete');\n",
              "    }\n",
              "    (() => {\n",
              "      let quickchartButtonEl =\n",
              "        document.querySelector('#df-44b7591e-1258-46c8-8529-e84ab15d8447 button');\n",
              "      quickchartButtonEl.style.display =\n",
              "        google.colab.kernel.accessAllowed ? 'block' : 'none';\n",
              "    })();\n",
              "  </script>\n",
              "</div>\n",
              "\n",
              "    </div>\n",
              "  </div>\n"
            ]
          },
          "metadata": {},
          "execution_count": 4
        }
      ],
      "source": [
        "df = pd.read_csv(\"movies.csv\")\n",
        "df.head(3)"
      ]
    },
    {
      "cell_type": "markdown",
      "id": "1222639b-1a1b-4eea-842b-8ff2baa4decd",
      "metadata": {
        "id": "1222639b-1a1b-4eea-842b-8ff2baa4decd"
      },
      "source": [
        "### 2.1 Có bao nhiêu hàng và bao nhiêu cột?"
      ]
    },
    {
      "cell_type": "code",
      "execution_count": 5,
      "id": "02c076fd-9127-4b37-a2af-d00bee7905fc",
      "metadata": {
        "id": "02c076fd-9127-4b37-a2af-d00bee7905fc",
        "colab": {
          "base_uri": "https://localhost:8080/"
        },
        "outputId": "61c7f712-0e73-454a-ca01-b5cf8552a3e8"
      },
      "outputs": [
        {
          "output_type": "stream",
          "name": "stdout",
          "text": [
            "Dữ liệu có 722585 hàng và 20 cột.\n"
          ]
        }
      ],
      "source": [
        "row, col = df.shape[0], df.shape[1]\n",
        "print('Dữ liệu có', row, 'hàng và', col, 'cột.')"
      ]
    },
    {
      "cell_type": "markdown",
      "id": "8ff9a821-6de3-4474-89db-ad6988d7ec1a",
      "metadata": {
        "id": "8ff9a821-6de3-4474-89db-ad6988d7ec1a"
      },
      "source": [
        "###  2.2 Ý nghĩa của mỗi hàng là gì?"
      ]
    },
    {
      "cell_type": "markdown",
      "id": "1d38d92b-12fd-445e-862e-cfe059f407f9",
      "metadata": {
        "id": "1d38d92b-12fd-445e-862e-cfe059f407f9"
      },
      "source": []
    },
    {
      "cell_type": "markdown",
      "id": "0350da5f-c4dc-417a-bafb-c2d1769e1203",
      "metadata": {
        "id": "0350da5f-c4dc-417a-bafb-c2d1769e1203"
      },
      "source": [
        "### 2.3 Có 'hàng trùng lặp' không?"
      ]
    },
    {
      "cell_type": "code",
      "execution_count": null,
      "id": "05251f13-a3b3-4989-b7fa-59bfc1fb55d3",
      "metadata": {
        "id": "05251f13-a3b3-4989-b7fa-59bfc1fb55d3"
      },
      "outputs": [],
      "source": []
    },
    {
      "cell_type": "markdown",
      "id": "3e6a3e3f-e920-4f5c-b285-e2e648bc67eb",
      "metadata": {
        "id": "3e6a3e3f-e920-4f5c-b285-e2e648bc67eb"
      },
      "source": [
        "### 2.4 Ý nghĩa của từng cột là gì?"
      ]
    },
    {
      "cell_type": "code",
      "source": [
        "df.columns"
      ],
      "metadata": {
        "colab": {
          "base_uri": "https://localhost:8080/"
        },
        "id": "-xzlFun2GOCc",
        "outputId": "531be48f-9bb7-44ad-d5fe-cce48fd65131"
      },
      "id": "-xzlFun2GOCc",
      "execution_count": null,
      "outputs": [
        {
          "output_type": "execute_result",
          "data": {
            "text/plain": [
              "Index(['id', 'title', 'genres', 'original_language', 'overview', 'popularity',\n",
              "       'production_companies', 'release_date', 'budget', 'revenue', 'runtime',\n",
              "       'status', 'tagline', 'vote_average', 'vote_count', 'credits',\n",
              "       'keywords', 'poster_path', 'backdrop_path', 'recommendations'],\n",
              "      dtype='object')"
            ]
          },
          "metadata": {},
          "execution_count": 6
        }
      ]
    },
    {
      "cell_type": "markdown",
      "id": "96acda46-7085-4161-b5aa-eb11d96d0c5e",
      "metadata": {
        "id": "96acda46-7085-4161-b5aa-eb11d96d0c5e"
      },
      "source": [
        "1. `id`: TMDB id\n",
        "2. `title`: Title của phim\n",
        "3. `genres`: Thể loại phim\n",
        "4. `original_language`: Ngôn ngữ của phim\n",
        "5. `overview`: Mô tả ngắn về bộ phim\n",
        "6. `popularity`:\n",
        "7. `production_companies`: Công ty sản xuất\n",
        "8. `release_date`: Ngày công chiếu\n",
        "9. `budget`: Kinh phí thực hiện\n",
        "10. `revenue`: Doanh thu phim\n",
        "11. `runtime`: Thời lượng của bộ phim\n",
        "12. `status`:  Tình trạng bộ phim (đã công chiếu, lên kế hoạch công chiếu, ...)\n",
        "13. `tagline`:  Khẩu hiệu phim\n",
        "14. `vote_average`: Điểm vote trung bình\n",
        "15. `vote_count`: Số lượng vote\n",
        "16. `credits`: Danh sách diễn viên\n",
        "17. `keywords`: Từ khóa riêng biệt mô tả phim\n",
        "18. `poster_path`: Đường dẫn đến poster phim\n",
        "19. `backdrop_path`: Đường dẫn đến ảnh nền phim\n",
        "20. `recommendations`: ID các phim được đề xuất"
      ]
    },
    {
      "cell_type": "markdown",
      "id": "c521421b-7340-47f2-8cc7-714ef0e9fd96",
      "metadata": {
        "id": "c521421b-7340-47f2-8cc7-714ef0e9fd96"
      },
      "source": [
        "### 2.5 Kiểu dữ liệu hiện tại của mỗi cột là gì? Có cột nào có kiểu dữ liệu không phù hợp không?"
      ]
    },
    {
      "cell_type": "code",
      "execution_count": null,
      "id": "cba77753-b926-48aa-bfef-fcf518012b5e",
      "metadata": {
        "id": "cba77753-b926-48aa-bfef-fcf518012b5e"
      },
      "outputs": [],
      "source": []
    },
    {
      "cell_type": "markdown",
      "id": "e0ce71cf-302a-4ad5-83e6-4c37fc686ace",
      "metadata": {
        "id": "e0ce71cf-302a-4ad5-83e6-4c37fc686ace"
      },
      "source": [
        "### 2.6 Với mỗi cột số, các giá trị được phân bố như thế nào?\n",
        "- Phần trăm giá trị còn thiếu là bao nhiêu?\n",
        "- Tối thiểu? tối đa? Chúng có bất thường không?"
      ]
    },
    {
      "cell_type": "code",
      "execution_count": null,
      "id": "9aacd11b-59fb-458b-a76f-be6fcaf36c33",
      "metadata": {
        "id": "9aacd11b-59fb-458b-a76f-be6fcaf36c33"
      },
      "outputs": [],
      "source": []
    },
    {
      "cell_type": "markdown",
      "id": "5eb4f5aa-774e-4394-bd09-382b973c1063",
      "metadata": {
        "id": "5eb4f5aa-774e-4394-bd09-382b973c1063"
      },
      "source": [
        "### 2.7 Với mỗi cột phân loại, các giá trị được phân bổ như thế nào?\n",
        "- Phần trăm giá trị còn thiếu là bao nhiêu?\n",
        "- Có bao nhiêu giá trị khác nhau? Hiển thị một số giá trị đó.\n",
        "- Chúng có bất thường không?"
      ]
    },
    {
      "cell_type": "code",
      "source": [
        "object_df = df.select_dtypes(include='object')\n",
        "obj_col_df = pd.DataFrame( index=['missing_ratio', 'diff_value', 'values'], columns=object_df.columns)\n",
        "\n",
        "obj_col_df.loc['missing_ratio'] = (object_df.isna().sum() / object_df.size) *100\n",
        "obj_col_df.loc['diff_value']    = object_df.nunique()\n",
        "obj_col_df.loc['values']        = [object_df[col].sample(min(5, obj_col_df.loc['diff_value'][col])).tolist() for col in object_df.columns]\n",
        "\n",
        "obj_col_df"
      ],
      "metadata": {
        "colab": {
          "base_uri": "https://localhost:8080/",
          "height": 250
        },
        "id": "yK04GUG7jee8",
        "outputId": "1cab4707-8826-4c1b-e5a7-133855ecf1a5"
      },
      "id": "yK04GUG7jee8",
      "execution_count": 39,
      "outputs": [
        {
          "output_type": "execute_result",
          "data": {
            "text/plain": [
              "                                                           title  \\\n",
              "missing_ratio                                           0.000043   \n",
              "diff_value                                                575338   \n",
              "values         [Ded na si Lolo, This Is Tomorrow, Pokémon: Gi...   \n",
              "\n",
              "                                                          genres  \\\n",
              "missing_ratio                                           2.242164   \n",
              "diff_value                                                 11033   \n",
              "values         [Fantasy, nan, nan, Romance, Comedy-Adventure-...   \n",
              "\n",
              "                  original_language  \\\n",
              "missing_ratio                   0.0   \n",
              "diff_value                      167   \n",
              "values         [en, da, hi, en, de]   \n",
              "\n",
              "                                                        overview  \\\n",
              "missing_ratio                                           1.260826   \n",
              "diff_value                                                541712   \n",
              "values         [Neolithic masks found in the West Bank and su...   \n",
              "\n",
              "                                            production_companies  \\\n",
              "missing_ratio                                           4.102238   \n",
              "diff_value                                                147231   \n",
              "values         [nan, nan, Maran Film-SFP-Eléfilm-Philippe Dus...   \n",
              "\n",
              "                                                    release_date  \\\n",
              "missing_ratio                                           0.553515   \n",
              "diff_value                                                 41303   \n",
              "values         [2011-10-18, 1925-11-22, 2002-06-03, 2012-02-0...   \n",
              "\n",
              "                                                          status  \\\n",
              "missing_ratio                                                0.0   \n",
              "diff_value                                                     6   \n",
              "values         [Released, Released, Released, Released, Relea...   \n",
              "\n",
              "                                 tagline  \\\n",
              "missing_ratio                   6.539726   \n",
              "diff_value                         95664   \n",
              "values         [nan, nan, nan, nan, nan]   \n",
              "\n",
              "                                                         credits  \\\n",
              "missing_ratio                                           2.394608   \n",
              "diff_value                                                422998   \n",
              "values         [Elijah Wood-Kevin Costner-Mare Winningham-Lex...   \n",
              "\n",
              "                                            keywords  \\\n",
              "missing_ratio                               5.452262   \n",
              "diff_value                                    119486   \n",
              "values         [brothel, nan, nan, philippines, nan]   \n",
              "\n",
              "                                                     poster_path  \\\n",
              "missing_ratio                                           1.968233   \n",
              "diff_value                                                482846   \n",
              "values         [nan, nan, /3mORI52EIQWwTXLWaYw2ZoeK2Io.jpg, n...   \n",
              "\n",
              "                                                   backdrop_path  \\\n",
              "missing_ratio                                           5.320258   \n",
              "diff_value                                                196852   \n",
              "values         [nan, nan, nan, nan, /db50XUHR6k8h5NqVmHLXax1E...   \n",
              "\n",
              "                         recommendations  \n",
              "missing_ratio                   7.321992  \n",
              "diff_value                         30806  \n",
              "values         [nan, nan, nan, nan, nan]  "
            ],
            "text/html": [
              "\n",
              "  <div id=\"df-3062b9ac-f2e4-4d51-ad84-da8272bdb228\" class=\"colab-df-container\">\n",
              "    <div>\n",
              "<style scoped>\n",
              "    .dataframe tbody tr th:only-of-type {\n",
              "        vertical-align: middle;\n",
              "    }\n",
              "\n",
              "    .dataframe tbody tr th {\n",
              "        vertical-align: top;\n",
              "    }\n",
              "\n",
              "    .dataframe thead th {\n",
              "        text-align: right;\n",
              "    }\n",
              "</style>\n",
              "<table border=\"1\" class=\"dataframe\">\n",
              "  <thead>\n",
              "    <tr style=\"text-align: right;\">\n",
              "      <th></th>\n",
              "      <th>title</th>\n",
              "      <th>genres</th>\n",
              "      <th>original_language</th>\n",
              "      <th>overview</th>\n",
              "      <th>production_companies</th>\n",
              "      <th>release_date</th>\n",
              "      <th>status</th>\n",
              "      <th>tagline</th>\n",
              "      <th>credits</th>\n",
              "      <th>keywords</th>\n",
              "      <th>poster_path</th>\n",
              "      <th>backdrop_path</th>\n",
              "      <th>recommendations</th>\n",
              "    </tr>\n",
              "  </thead>\n",
              "  <tbody>\n",
              "    <tr>\n",
              "      <th>missing_ratio</th>\n",
              "      <td>0.000043</td>\n",
              "      <td>2.242164</td>\n",
              "      <td>0.0</td>\n",
              "      <td>1.260826</td>\n",
              "      <td>4.102238</td>\n",
              "      <td>0.553515</td>\n",
              "      <td>0.0</td>\n",
              "      <td>6.539726</td>\n",
              "      <td>2.394608</td>\n",
              "      <td>5.452262</td>\n",
              "      <td>1.968233</td>\n",
              "      <td>5.320258</td>\n",
              "      <td>7.321992</td>\n",
              "    </tr>\n",
              "    <tr>\n",
              "      <th>diff_value</th>\n",
              "      <td>575338</td>\n",
              "      <td>11033</td>\n",
              "      <td>167</td>\n",
              "      <td>541712</td>\n",
              "      <td>147231</td>\n",
              "      <td>41303</td>\n",
              "      <td>6</td>\n",
              "      <td>95664</td>\n",
              "      <td>422998</td>\n",
              "      <td>119486</td>\n",
              "      <td>482846</td>\n",
              "      <td>196852</td>\n",
              "      <td>30806</td>\n",
              "    </tr>\n",
              "    <tr>\n",
              "      <th>values</th>\n",
              "      <td>[Ded na si Lolo, This Is Tomorrow, Pokémon: Gi...</td>\n",
              "      <td>[Fantasy, nan, nan, Romance, Comedy-Adventure-...</td>\n",
              "      <td>[en, da, hi, en, de]</td>\n",
              "      <td>[Neolithic masks found in the West Bank and su...</td>\n",
              "      <td>[nan, nan, Maran Film-SFP-Eléfilm-Philippe Dus...</td>\n",
              "      <td>[2011-10-18, 1925-11-22, 2002-06-03, 2012-02-0...</td>\n",
              "      <td>[Released, Released, Released, Released, Relea...</td>\n",
              "      <td>[nan, nan, nan, nan, nan]</td>\n",
              "      <td>[Elijah Wood-Kevin Costner-Mare Winningham-Lex...</td>\n",
              "      <td>[brothel, nan, nan, philippines, nan]</td>\n",
              "      <td>[nan, nan, /3mORI52EIQWwTXLWaYw2ZoeK2Io.jpg, n...</td>\n",
              "      <td>[nan, nan, nan, nan, /db50XUHR6k8h5NqVmHLXax1E...</td>\n",
              "      <td>[nan, nan, nan, nan, nan]</td>\n",
              "    </tr>\n",
              "  </tbody>\n",
              "</table>\n",
              "</div>\n",
              "    <div class=\"colab-df-buttons\">\n",
              "\n",
              "  <div class=\"colab-df-container\">\n",
              "    <button class=\"colab-df-convert\" onclick=\"convertToInteractive('df-3062b9ac-f2e4-4d51-ad84-da8272bdb228')\"\n",
              "            title=\"Convert this dataframe to an interactive table.\"\n",
              "            style=\"display:none;\">\n",
              "\n",
              "  <svg xmlns=\"http://www.w3.org/2000/svg\" height=\"24px\" viewBox=\"0 -960 960 960\">\n",
              "    <path d=\"M120-120v-720h720v720H120Zm60-500h600v-160H180v160Zm220 220h160v-160H400v160Zm0 220h160v-160H400v160ZM180-400h160v-160H180v160Zm440 0h160v-160H620v160ZM180-180h160v-160H180v160Zm440 0h160v-160H620v160Z\"/>\n",
              "  </svg>\n",
              "    </button>\n",
              "\n",
              "  <style>\n",
              "    .colab-df-container {\n",
              "      display:flex;\n",
              "      gap: 12px;\n",
              "    }\n",
              "\n",
              "    .colab-df-convert {\n",
              "      background-color: #E8F0FE;\n",
              "      border: none;\n",
              "      border-radius: 50%;\n",
              "      cursor: pointer;\n",
              "      display: none;\n",
              "      fill: #1967D2;\n",
              "      height: 32px;\n",
              "      padding: 0 0 0 0;\n",
              "      width: 32px;\n",
              "    }\n",
              "\n",
              "    .colab-df-convert:hover {\n",
              "      background-color: #E2EBFA;\n",
              "      box-shadow: 0px 1px 2px rgba(60, 64, 67, 0.3), 0px 1px 3px 1px rgba(60, 64, 67, 0.15);\n",
              "      fill: #174EA6;\n",
              "    }\n",
              "\n",
              "    .colab-df-buttons div {\n",
              "      margin-bottom: 4px;\n",
              "    }\n",
              "\n",
              "    [theme=dark] .colab-df-convert {\n",
              "      background-color: #3B4455;\n",
              "      fill: #D2E3FC;\n",
              "    }\n",
              "\n",
              "    [theme=dark] .colab-df-convert:hover {\n",
              "      background-color: #434B5C;\n",
              "      box-shadow: 0px 1px 3px 1px rgba(0, 0, 0, 0.15);\n",
              "      filter: drop-shadow(0px 1px 2px rgba(0, 0, 0, 0.3));\n",
              "      fill: #FFFFFF;\n",
              "    }\n",
              "  </style>\n",
              "\n",
              "    <script>\n",
              "      const buttonEl =\n",
              "        document.querySelector('#df-3062b9ac-f2e4-4d51-ad84-da8272bdb228 button.colab-df-convert');\n",
              "      buttonEl.style.display =\n",
              "        google.colab.kernel.accessAllowed ? 'block' : 'none';\n",
              "\n",
              "      async function convertToInteractive(key) {\n",
              "        const element = document.querySelector('#df-3062b9ac-f2e4-4d51-ad84-da8272bdb228');\n",
              "        const dataTable =\n",
              "          await google.colab.kernel.invokeFunction('convertToInteractive',\n",
              "                                                    [key], {});\n",
              "        if (!dataTable) return;\n",
              "\n",
              "        const docLinkHtml = 'Like what you see? Visit the ' +\n",
              "          '<a target=\"_blank\" href=https://colab.research.google.com/notebooks/data_table.ipynb>data table notebook</a>'\n",
              "          + ' to learn more about interactive tables.';\n",
              "        element.innerHTML = '';\n",
              "        dataTable['output_type'] = 'display_data';\n",
              "        await google.colab.output.renderOutput(dataTable, element);\n",
              "        const docLink = document.createElement('div');\n",
              "        docLink.innerHTML = docLinkHtml;\n",
              "        element.appendChild(docLink);\n",
              "      }\n",
              "    </script>\n",
              "  </div>\n",
              "\n",
              "\n",
              "<div id=\"df-12a8fde4-0b04-47bd-a7f8-1589d7c294bd\">\n",
              "  <button class=\"colab-df-quickchart\" onclick=\"quickchart('df-12a8fde4-0b04-47bd-a7f8-1589d7c294bd')\"\n",
              "            title=\"Suggest charts\"\n",
              "            style=\"display:none;\">\n",
              "\n",
              "<svg xmlns=\"http://www.w3.org/2000/svg\" height=\"24px\"viewBox=\"0 0 24 24\"\n",
              "     width=\"24px\">\n",
              "    <g>\n",
              "        <path d=\"M19 3H5c-1.1 0-2 .9-2 2v14c0 1.1.9 2 2 2h14c1.1 0 2-.9 2-2V5c0-1.1-.9-2-2-2zM9 17H7v-7h2v7zm4 0h-2V7h2v10zm4 0h-2v-4h2v4z\"/>\n",
              "    </g>\n",
              "</svg>\n",
              "  </button>\n",
              "\n",
              "<style>\n",
              "  .colab-df-quickchart {\n",
              "      --bg-color: #E8F0FE;\n",
              "      --fill-color: #1967D2;\n",
              "      --hover-bg-color: #E2EBFA;\n",
              "      --hover-fill-color: #174EA6;\n",
              "      --disabled-fill-color: #AAA;\n",
              "      --disabled-bg-color: #DDD;\n",
              "  }\n",
              "\n",
              "  [theme=dark] .colab-df-quickchart {\n",
              "      --bg-color: #3B4455;\n",
              "      --fill-color: #D2E3FC;\n",
              "      --hover-bg-color: #434B5C;\n",
              "      --hover-fill-color: #FFFFFF;\n",
              "      --disabled-bg-color: #3B4455;\n",
              "      --disabled-fill-color: #666;\n",
              "  }\n",
              "\n",
              "  .colab-df-quickchart {\n",
              "    background-color: var(--bg-color);\n",
              "    border: none;\n",
              "    border-radius: 50%;\n",
              "    cursor: pointer;\n",
              "    display: none;\n",
              "    fill: var(--fill-color);\n",
              "    height: 32px;\n",
              "    padding: 0;\n",
              "    width: 32px;\n",
              "  }\n",
              "\n",
              "  .colab-df-quickchart:hover {\n",
              "    background-color: var(--hover-bg-color);\n",
              "    box-shadow: 0 1px 2px rgba(60, 64, 67, 0.3), 0 1px 3px 1px rgba(60, 64, 67, 0.15);\n",
              "    fill: var(--button-hover-fill-color);\n",
              "  }\n",
              "\n",
              "  .colab-df-quickchart-complete:disabled,\n",
              "  .colab-df-quickchart-complete:disabled:hover {\n",
              "    background-color: var(--disabled-bg-color);\n",
              "    fill: var(--disabled-fill-color);\n",
              "    box-shadow: none;\n",
              "  }\n",
              "\n",
              "  .colab-df-spinner {\n",
              "    border: 2px solid var(--fill-color);\n",
              "    border-color: transparent;\n",
              "    border-bottom-color: var(--fill-color);\n",
              "    animation:\n",
              "      spin 1s steps(1) infinite;\n",
              "  }\n",
              "\n",
              "  @keyframes spin {\n",
              "    0% {\n",
              "      border-color: transparent;\n",
              "      border-bottom-color: var(--fill-color);\n",
              "      border-left-color: var(--fill-color);\n",
              "    }\n",
              "    20% {\n",
              "      border-color: transparent;\n",
              "      border-left-color: var(--fill-color);\n",
              "      border-top-color: var(--fill-color);\n",
              "    }\n",
              "    30% {\n",
              "      border-color: transparent;\n",
              "      border-left-color: var(--fill-color);\n",
              "      border-top-color: var(--fill-color);\n",
              "      border-right-color: var(--fill-color);\n",
              "    }\n",
              "    40% {\n",
              "      border-color: transparent;\n",
              "      border-right-color: var(--fill-color);\n",
              "      border-top-color: var(--fill-color);\n",
              "    }\n",
              "    60% {\n",
              "      border-color: transparent;\n",
              "      border-right-color: var(--fill-color);\n",
              "    }\n",
              "    80% {\n",
              "      border-color: transparent;\n",
              "      border-right-color: var(--fill-color);\n",
              "      border-bottom-color: var(--fill-color);\n",
              "    }\n",
              "    90% {\n",
              "      border-color: transparent;\n",
              "      border-bottom-color: var(--fill-color);\n",
              "    }\n",
              "  }\n",
              "</style>\n",
              "\n",
              "  <script>\n",
              "    async function quickchart(key) {\n",
              "      const quickchartButtonEl =\n",
              "        document.querySelector('#' + key + ' button');\n",
              "      quickchartButtonEl.disabled = true;  // To prevent multiple clicks.\n",
              "      quickchartButtonEl.classList.add('colab-df-spinner');\n",
              "      try {\n",
              "        const charts = await google.colab.kernel.invokeFunction(\n",
              "            'suggestCharts', [key], {});\n",
              "      } catch (error) {\n",
              "        console.error('Error during call to suggestCharts:', error);\n",
              "      }\n",
              "      quickchartButtonEl.classList.remove('colab-df-spinner');\n",
              "      quickchartButtonEl.classList.add('colab-df-quickchart-complete');\n",
              "    }\n",
              "    (() => {\n",
              "      let quickchartButtonEl =\n",
              "        document.querySelector('#df-12a8fde4-0b04-47bd-a7f8-1589d7c294bd button');\n",
              "      quickchartButtonEl.style.display =\n",
              "        google.colab.kernel.accessAllowed ? 'block' : 'none';\n",
              "    })();\n",
              "  </script>\n",
              "</div>\n",
              "\n",
              "  <div id=\"id_7b032fe2-9ea0-4788-bdcd-fedc4e6f9621\">\n",
              "    <style>\n",
              "      .colab-df-generate {\n",
              "        background-color: #E8F0FE;\n",
              "        border: none;\n",
              "        border-radius: 50%;\n",
              "        cursor: pointer;\n",
              "        display: none;\n",
              "        fill: #1967D2;\n",
              "        height: 32px;\n",
              "        padding: 0 0 0 0;\n",
              "        width: 32px;\n",
              "      }\n",
              "\n",
              "      .colab-df-generate:hover {\n",
              "        background-color: #E2EBFA;\n",
              "        box-shadow: 0px 1px 2px rgba(60, 64, 67, 0.3), 0px 1px 3px 1px rgba(60, 64, 67, 0.15);\n",
              "        fill: #174EA6;\n",
              "      }\n",
              "\n",
              "      [theme=dark] .colab-df-generate {\n",
              "        background-color: #3B4455;\n",
              "        fill: #D2E3FC;\n",
              "      }\n",
              "\n",
              "      [theme=dark] .colab-df-generate:hover {\n",
              "        background-color: #434B5C;\n",
              "        box-shadow: 0px 1px 3px 1px rgba(0, 0, 0, 0.15);\n",
              "        filter: drop-shadow(0px 1px 2px rgba(0, 0, 0, 0.3));\n",
              "        fill: #FFFFFF;\n",
              "      }\n",
              "    </style>\n",
              "    <button class=\"colab-df-generate\" onclick=\"generateWithVariable('obj_col_df')\"\n",
              "            title=\"Generate code using this dataframe.\"\n",
              "            style=\"display:none;\">\n",
              "\n",
              "  <svg xmlns=\"http://www.w3.org/2000/svg\" height=\"24px\"viewBox=\"0 0 24 24\"\n",
              "       width=\"24px\">\n",
              "    <path d=\"M7,19H8.4L18.45,9,17,7.55,7,17.6ZM5,21V16.75L18.45,3.32a2,2,0,0,1,2.83,0l1.4,1.43a1.91,1.91,0,0,1,.58,1.4,1.91,1.91,0,0,1-.58,1.4L9.25,21ZM18.45,9,17,7.55Zm-12,3A5.31,5.31,0,0,0,4.9,8.1,5.31,5.31,0,0,0,1,6.5,5.31,5.31,0,0,0,4.9,4.9,5.31,5.31,0,0,0,6.5,1,5.31,5.31,0,0,0,8.1,4.9,5.31,5.31,0,0,0,12,6.5,5.46,5.46,0,0,0,6.5,12Z\"/>\n",
              "  </svg>\n",
              "    </button>\n",
              "    <script>\n",
              "      (() => {\n",
              "      const buttonEl =\n",
              "        document.querySelector('#id_7b032fe2-9ea0-4788-bdcd-fedc4e6f9621 button.colab-df-generate');\n",
              "      buttonEl.style.display =\n",
              "        google.colab.kernel.accessAllowed ? 'block' : 'none';\n",
              "\n",
              "      buttonEl.onclick = () => {\n",
              "        google.colab.notebook.generateWithVariable('obj_col_df');\n",
              "      }\n",
              "      })();\n",
              "    </script>\n",
              "  </div>\n",
              "\n",
              "    </div>\n",
              "  </div>\n"
            ]
          },
          "metadata": {},
          "execution_count": 39
        }
      ]
    },
    {
      "cell_type": "markdown",
      "id": "207a9553-0bc1-43e5-9166-e50438c5db75",
      "metadata": {
        "id": "207a9553-0bc1-43e5-9166-e50438c5db75"
      },
      "source": [
        "# **Phase 3**: Preprocessing & Asking Meaningful questions\n",
        "Yêu cầu:\n",
        "- Số lượng câu hỏi đặt ra cần lớn hơn hoặc bằng số lượng thành viên ($\\ge 3$)\n",
        "- Câu hỏi đặt ra cần có ý nghĩa (tác dụng của việc tìm kiếm câu trả lời cho câu hỏi đó) và không được quá dễ 🙂\n",
        "- Chú ý đến chất lượng của từng câu hỏi, không phải số lượng câu hỏi.\n",
        "- Trong file Notebook, với mỗi câu hỏi cần thể hiện được:\n",
        "    - Nội dung câu hỏi\n",
        "    - Ý nghĩa của câu hỏi"
      ]
    },
    {
      "cell_type": "markdown",
      "source": [
        "## **3.0** Preprocessing"
      ],
      "metadata": {
        "id": "qYGzu1JMrBMk"
      },
      "id": "qYGzu1JMrBMk"
    },
    {
      "cell_type": "code",
      "source": [],
      "metadata": {
        "id": "RXaimSB-rIA7"
      },
      "id": "RXaimSB-rIA7",
      "execution_count": null,
      "outputs": []
    },
    {
      "cell_type": "markdown",
      "source": [
        "## **3.1** Asking meaningful question"
      ],
      "metadata": {
        "id": "-O0R1fuLrIkU"
      },
      "id": "-O0R1fuLrIkU"
    },
    {
      "cell_type": "markdown",
      "id": "940f3225-1255-469b-8b7f-74ec37d0438b",
      "metadata": {
        "tags": [],
        "id": "940f3225-1255-469b-8b7f-74ec37d0438b"
      },
      "source": [
        "<table style='float:left;'>\n",
        "    <tr>\n",
        "        <th style='text-align:center;'>STT</th>\n",
        "        <th style='text-align:center;'>Nội dung</th>\n",
        "        <th style='text-align:center;'>Trình bày</th>\n",
        "    </tr>\n",
        "    <tr>\n",
        "        <td style='text-align:center;'>Câu 1</td>\n",
        "        <td style='text-align:left;'>Nội dung</td>\n",
        "        <td style='text-align:center;'><a href='#cauhoi_1'>C1</a></td>\n",
        "    </tr>\n",
        "    <tr>\n",
        "        <td style='text-align:center;'>Câu 2</td>\n",
        "        <td style='text-align:left;'>Nội dung</td>\n",
        "        <td style='text-align:center;'><a href='#cauhoi_2'>C2</a></td>\n",
        "    </tr>\n",
        "    <tr>\n",
        "        <td style='text-align:center;'>Câu 3</td>\n",
        "        <td style='text-align:left;'>Nội dung</td>\n",
        "        <td style='text-align:center;'><a href='#cauhoi_3'>C3</a></td>\n",
        "    </tr>\n",
        "</table>"
      ]
    },
    {
      "cell_type": "markdown",
      "id": "575c1eec-3e1b-4cd7-bf0a-67561583a0c1",
      "metadata": {
        "id": "575c1eec-3e1b-4cd7-bf0a-67561583a0c1"
      },
      "source": [
        "# **Phase 4**: Analyzing data to answer each question"
      ]
    },
    {
      "cell_type": "markdown",
      "id": "5d5b5813-8bae-46ce-a320-fee0e03566bd",
      "metadata": {
        "id": "5d5b5813-8bae-46ce-a320-fee0e03566bd"
      },
      "source": [
        "### **Câu hỏi 1**: ghi nội dung ở đây<a name=\"cauhoi_1\"></a>\n",
        "\n",
        "**Ý nghĩa:**"
      ]
    },
    {
      "cell_type": "code",
      "execution_count": null,
      "id": "de41be86-6370-4240-8c22-6b0d29b0beb9",
      "metadata": {
        "id": "de41be86-6370-4240-8c22-6b0d29b0beb9"
      },
      "outputs": [],
      "source": []
    },
    {
      "cell_type": "markdown",
      "id": "637ef9ea-9a76-4e88-8354-28aa8e9f205e",
      "metadata": {
        "id": "637ef9ea-9a76-4e88-8354-28aa8e9f205e"
      },
      "source": [
        "### **Câu hỏi 2**: ghi nội dung ở đây<a name=\"cauhoi_2\"></a>\n",
        "\n",
        "**Ý nghĩa:**"
      ]
    },
    {
      "cell_type": "code",
      "execution_count": null,
      "id": "5e55d712-8a81-420c-899d-89f907fbb133",
      "metadata": {
        "id": "5e55d712-8a81-420c-899d-89f907fbb133"
      },
      "outputs": [],
      "source": []
    },
    {
      "cell_type": "markdown",
      "id": "64d757b1-4496-4e37-9c64-61d4fd452c07",
      "metadata": {
        "id": "64d757b1-4496-4e37-9c64-61d4fd452c07"
      },
      "source": [
        "### **Câu hỏi 3**: ghi nội dung ở đây<a name=\"cauhoi_3\"></a>\n",
        "\n",
        "**Ý nghĩa:**"
      ]
    },
    {
      "cell_type": "code",
      "execution_count": null,
      "id": "a57e0bc0-84ae-4067-9735-3d1ca5377611",
      "metadata": {
        "id": "a57e0bc0-84ae-4067-9735-3d1ca5377611"
      },
      "outputs": [],
      "source": []
    },
    {
      "cell_type": "markdown",
      "id": "60e38a58-1d51-40a1-a6fe-9083b1935ec5",
      "metadata": {
        "id": "60e38a58-1d51-40a1-a6fe-9083b1935ec5"
      },
      "source": [
        "# **Phase 5**: Reflection"
      ]
    },
    {
      "cell_type": "markdown",
      "source": [
        "## 5.0 Team members"
      ],
      "metadata": {
        "id": "FyhlFXPAbJ80"
      },
      "id": "FyhlFXPAbJ80"
    },
    {
      "cell_type": "markdown",
      "source": [
        "**Văn Bá Bảo Huy**\n",
        "- Khó khăn:\n",
        "- Điều đã học được:"
      ],
      "metadata": {
        "id": "MpJ1i_GIrzjD"
      },
      "id": "MpJ1i_GIrzjD"
    },
    {
      "cell_type": "markdown",
      "source": [
        "**Nguyễn Thị Gái**\n",
        "- Khó khăn:\n",
        "- Điều đã học được:"
      ],
      "metadata": {
        "id": "0HINnO4gr91F"
      },
      "id": "0HINnO4gr91F"
    },
    {
      "cell_type": "markdown",
      "source": [
        "**Nguyễn Thị Thanh Hoa**\n",
        "- Khó khăn:\n",
        "- Điều đã học được:"
      ],
      "metadata": {
        "id": "53ONaeSBsBq8"
      },
      "id": "53ONaeSBsBq8"
    },
    {
      "cell_type": "markdown",
      "source": [
        "## 5.1 Team"
      ],
      "metadata": {
        "id": "5VUVm6OdsSi9"
      },
      "id": "5VUVm6OdsSi9"
    },
    {
      "cell_type": "markdown",
      "source": [
        "Nếu có nhiều thời gian hơn, nhóm sẽ ..."
      ],
      "metadata": {
        "id": "MTN14NixsThM"
      },
      "id": "MTN14NixsThM"
    }
  ],
  "metadata": {
    "kernelspec": {
      "display_name": "Python 3 (ipykernel)",
      "language": "python",
      "name": "python3"
    },
    "language_info": {
      "codemirror_mode": {
        "name": "ipython",
        "version": 3
      },
      "file_extension": ".py",
      "mimetype": "text/x-python",
      "name": "python",
      "nbconvert_exporter": "python",
      "pygments_lexer": "ipython3",
      "version": "3.11.5"
    },
    "colab": {
      "provenance": [],
      "toc_visible": true,
      "collapsed_sections": [
        "2dda0f66-d807-4d91-b103-4cae303727d8",
        "1222639b-1a1b-4eea-842b-8ff2baa4decd"
      ]
    }
  },
  "nbformat": 4,
  "nbformat_minor": 5
}